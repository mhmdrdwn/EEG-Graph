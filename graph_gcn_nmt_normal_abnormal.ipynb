{
 "cells": [
  {
   "cell_type": "code",
   "execution_count": 1,
   "id": "8d60b1b7-7173-4700-893e-4983c14fed0d",
   "metadata": {},
   "outputs": [
    {
     "name": "stdout",
     "output_type": "stream",
     "text": [
      "185\n",
      "2232\n"
     ]
    }
   ],
   "source": [
    "import glob, os\n",
    "test_data_files = []\n",
    "for file in glob.glob(\"/Users/mohamedr/projects/rules/nmt_scalp_eeg_dataset/*/eval/*.edf\"):\n",
    "    test_data_files.append(file)\n",
    "print(len(test_data_files))\n",
    "\n",
    "train_data_files = []\n",
    "for file in glob.glob(\"/Users/mohamedr/projects/rules/nmt_scalp_eeg_dataset/*/train/*.edf\"):\n",
    "    train_data_files.append(file)\n",
    "print(len(train_data_files))"
   ]
  },
  {
   "cell_type": "code",
   "execution_count": 2,
   "id": "e5dfbe3f-39e9-4c8e-8ca8-3145cf627c48",
   "metadata": {},
   "outputs": [
    {
     "name": "stderr",
     "output_type": "stream",
     "text": [
      "/Users/mohamedr/opt/anaconda3/envs/xai/lib/python3.10/site-packages/tqdm/auto.py:22: TqdmWarning: IProgress not found. Please update jupyter and ipywidgets. See https://ipywidgets.readthedocs.io/en/stable/user_install.html\n",
      "  from .autonotebook import tqdm as notebook_tqdm\n"
     ]
    }
   ],
   "source": [
    "import torch\n",
    "from torch import nn\n",
    "from torch.nn import functional as F\n",
    "from torch.nn.modules.module import Module\n",
    "from sklearn.preprocessing import OneHotEncoder"
   ]
  },
  {
   "cell_type": "code",
   "execution_count": 3,
   "id": "8c6817e2-4c6f-4dc4-902b-cebc373f0ee8",
   "metadata": {
    "tags": []
   },
   "outputs": [
    {
     "data": {
      "text/plain": [
       "(21, 169200)"
      ]
     },
     "execution_count": 3,
     "metadata": {},
     "output_type": "execute_result"
    }
   ],
   "source": [
    "import mne\n",
    "import numpy as np\n",
    "\n",
    "data = mne.io.read_raw(file, verbose=False, preload=True)\n",
    "\n",
    "data.filter(l_freq=0.5, h_freq=47, verbose=False)\n",
    "#data = mne.make_fixed_length_epochs(data, duration=5, overlap=1, verbose=False)\n",
    "data = data.get_data()#*1e6\n",
    "data.shape"
   ]
  },
  {
   "cell_type": "code",
   "execution_count": 241,
   "id": "f6335aaa-894e-47cd-9211-049856725c6d",
   "metadata": {},
   "outputs": [],
   "source": [
    "import mne\n",
    "from tqdm import tqdm\n",
    "from statsmodels.tsa.stattools import grangercausalitytests\n",
    "import random\n",
    "import numpy as np\n",
    "from scipy.signal import savgol_filter\n",
    "from scipy import signal\n",
    "import cv2\n",
    "from numpy import *\n",
    "from scipy.stats import iqr\n",
    "from scipy.integrate import simps\n",
    "from scipy.stats import entropy\n",
    "from scipy.signal import medfilt\n",
    "from scipy.stats import differential_entropy, norm\n",
    "from scipy import fftpack\n",
    "import antropy as ant\n",
    "\n",
    "def calcGrangerCausality(eegData,ii,jj):\n",
    "    eegData = np.diff(eegData)\n",
    "    X = np.vstack([eegData[ii,:],eegData[jj,:]]).T\n",
    "    gc = grangercausalitytests(X, 1, addconst=True, verbose=False)[1][0]['ssr_ftest'][0]\n",
    "    return gc\n",
    "    \n",
    "def get_label(file):\n",
    "    label = file.split(\"/\")[-3]\n",
    "    if label == \"normal\":\n",
    "        return [0]\n",
    "    elif label == \"abnormal\":\n",
    "        return [1]\n",
    "\n",
    "    \n",
    "def lyapunov(x):\n",
    "    return np.mean(np.log(np.abs(np.gradient(x))))\n",
    "\n",
    "\n",
    "def build_data(raw_data, bands=False):\n",
    "    \n",
    "    eeg_data = []\n",
    "    labels = []\n",
    "    lengths = []\n",
    "    groups = []\n",
    "    i = 0\n",
    "    fs = 100\n",
    "    \n",
    "    data_features = []\n",
    "    data_labels = []\n",
    "    data_graphs = []\n",
    "    \n",
    "    for file in tqdm(raw_data):\n",
    "        \n",
    "        #get label\n",
    "        label = get_label(file)\n",
    "        data_labels.append(label)\n",
    "        \n",
    "        #node features\n",
    "        sample_features = []\n",
    "        data = mne.io.read_raw(file, verbose=False, preload=True)\n",
    "        ch_names = data.ch_names\n",
    "        #data.resample(sfreq=100)\n",
    "        data.filter(l_freq=0.5, h_freq=40, verbose=False)\n",
    "        #data = mne.make_fixed_length_epochs(data, duration=5, overlap=1, verbose=False)\n",
    "        data = data.get_data()*1e6\n",
    "          \n",
    "        #gc = []\n",
    "        #for i in range(21):\n",
    "        #    gc1 = []\n",
    "        #    for j in range(21):\n",
    "        #        gc1.append(calcGrangerCausality(data, i, j))\n",
    "        #    gc.append(gc1)\n",
    "        #data_graphs.append(gc)    \n",
    "        \n",
    "        \n",
    "        ch_features = []    \n",
    "        # freq domain features\n",
    "        sf = 256\n",
    "        win = 4 * sf # win size 4 seconds * sampling freq\n",
    "        # delta (0.5–4 Hz), theta (4–8 Hz), alpha (8–13 Hz), beta (13–30 Hz), and gamma (30–... Hz).\n",
    "        freq_ranges = [[0.5, 4], [4, 8], [8, 13], [13, 30], [30, 47]]\n",
    "        for ch in data:\n",
    "            \n",
    "            ch_features.append(differential_entropy(ch))\n",
    "        \n",
    "            ly = lyapunov(ch)\n",
    "            ch_features.append(ly)\n",
    "        \n",
    "            entropy = ant.perm_entropy(ch, normalize=True)\n",
    "            ch_features.append(entropy)\n",
    "        \n",
    "            entropy = ant.spectral_entropy(ch, sf=100, method='welch', normalize=True)\n",
    "            ch_features.append(entropy)\n",
    "        \n",
    "            mobility = ant.hjorth_params(ch)\n",
    "            ch_features.append(mobility[0])\n",
    "            ch_features.append(mobility[1])\n",
    "        \n",
    "            zero_cross_count = ant.num_zerocross(ch)\n",
    "            ch_features.append(zero_cross_count)\n",
    "            \n",
    "                \n",
    "            \n",
    "            if bands:\n",
    "                # freq domain features\n",
    "                for freq_band in freq_ranges:\n",
    "                \n",
    "                    # differential entropy\n",
    "                    sos = signal.butter(10, (freq_band[0], freq_band[1]), 'bandpass', fs=1000, output='sos')\n",
    "                    filtered_ch = signal.sosfilt(sos, ch) \n",
    "                    ch_features.append(differential_entropy(filtered_ch))\n",
    "\n",
    "                    # lyapunov features\n",
    "                    ch_features.append(lyapunov(filtered_ch))\n",
    "\n",
    "                    # Permutation entropy\n",
    "                    entropy = ant.perm_entropy(filtered_ch, normalize=True)\n",
    "                    ch_features.append(entropy)\n",
    "\n",
    "                    # Spectral entropy\n",
    "                    entropy = ant.spectral_entropy(filtered_ch, sf=100, method='welch', normalize=True)\n",
    "                    ch_features.append(entropy)\n",
    "\n",
    "                    # Hjorth mobility and complexity\n",
    "                    mobility = ant.hjorth_params(filtered_ch)\n",
    "                    ch_features.append(mobility[0])\n",
    "                    ch_features.append(mobility[1])\n",
    "\n",
    "                    corr = np.correlate(filtered_ch, filtered_ch)\n",
    "                    ch_features.append(corr[0])\n",
    "\n",
    "                    # Number of zero-crossings\n",
    "                    zero_cross_count = ant.num_zerocross(filtered_ch)\n",
    "                    ch_features.append(zero_cross_count)\n",
    "\n",
    "                    # power spectrum\n",
    "                    freqs, psd = signal.welch(ch, sf, nperseg=win)\n",
    "                    idx_freq_band = np.logical_and(freqs >= freq_band[0], freqs < freq_band[1])\n",
    "                    # Frequency resolution\n",
    "                    freq_res = freqs[1] - freqs[0]  # = 1 / 4 = 0.25\n",
    "                    # Compute the absolute power by approximating the area under the curve\n",
    "                    band_power = simps(psd[idx_freq_band], dx=freq_res)\n",
    "                    #power_band_.append(band_power)\n",
    "                    ch_features.append(band_power)\n",
    "                \n",
    "            \n",
    "            sample_features.append(ch_features)\n",
    "            ch_features = []\n",
    "            \n",
    "        data_features.append(sample_features)\n",
    "        \n",
    "    data_features = np.array(data_features)\n",
    "    data_labels = np.array(data_labels)\n",
    "    data_graphs = np.array(data_graphs)\n",
    "    \n",
    "    return data_features, data_graphs, data_labels"
   ]
  },
  {
   "cell_type": "code",
   "execution_count": 242,
   "id": "10f8e8ef-05de-4ada-96cd-2bb37b030463",
   "metadata": {
    "tags": []
   },
   "outputs": [
    {
     "name": "stderr",
     "output_type": "stream",
     "text": [
      " 45%|███████████████████████████▎                                 | 1001/2232 [08:43<09:31,  2.16it/s]/var/folders/jh/bl76wbz94n3727gszxkh079h0000gr/T/ipykernel_69273/4293051823.py:60: RuntimeWarning: filter_length (1321) is longer than the signal (923), distortion is likely. Reduce filter length or filter a longer signal.\n",
      "  data.filter(l_freq=0.5, h_freq=40, verbose=False)\n",
      " 86%|████████████████████████████████████████████████████▎        | 1915/2232 [16:44<02:55,  1.81it/s]/var/folders/jh/bl76wbz94n3727gszxkh079h0000gr/T/ipykernel_69273/4293051823.py:60: RuntimeWarning: filter_length (1321) is longer than the signal (738), distortion is likely. Reduce filter length or filter a longer signal.\n",
      "  data.filter(l_freq=0.5, h_freq=40, verbose=False)\n",
      "100%|█████████████████████████████████████████████████████████████| 2232/2232 [19:27<00:00,  1.91it/s]\n",
      "100%|███████████████████████████████████████████████████████████████| 185/185 [01:35<00:00,  1.94it/s]\n"
     ]
    }
   ],
   "source": [
    "#%%capture\n",
    "np.random.seed(42)\n",
    "train_X, train_graphs, train_y = build_data(train_data_files)\n",
    "test_X, test_graphs, test_y = build_data(test_data_files)"
   ]
  },
  {
   "cell_type": "code",
   "execution_count": 243,
   "id": "aad832ad-4de0-48fd-8484-ac6746630ab1",
   "metadata": {},
   "outputs": [
    {
     "data": {
      "text/plain": [
       "((185, 21, 7), (2232, 21, 7), (0,), (185, 1), (2232, 1), (0,))"
      ]
     },
     "execution_count": 243,
     "metadata": {},
     "output_type": "execute_result"
    }
   ],
   "source": [
    "test_X.shape, train_X.shape, train_graphs.shape, test_y.shape, train_y.shape, test_graphs.shape"
   ]
  },
  {
   "cell_type": "code",
   "execution_count": 244,
   "id": "b9b981e0-c0ac-4c54-a4a0-27f47bbd780d",
   "metadata": {},
   "outputs": [
    {
     "data": {
      "text/plain": [
       "(-6.358030789071418, -6.587580262095357, 37322.0, 171520.0)"
      ]
     },
     "execution_count": 244,
     "metadata": {},
     "output_type": "execute_result"
    }
   ],
   "source": [
    "test_X.min(), train_X.min(), test_X.max(), train_X.max()"
   ]
  },
  {
   "cell_type": "code",
   "execution_count": 245,
   "id": "eaa8a743-4694-42ca-8a4e-de23e1fa6cbc",
   "metadata": {},
   "outputs": [],
   "source": [
    "np.save(\"conn_data/gc/train_X.npy\", train_X)\n",
    "np.save(\"conn_data/gc/test_X.npy\", test_X)\n",
    "np.save(\"conn_data/gc/train_y.npy\", train_y)\n",
    "np.save(\"conn_data/gc/test_y.npy\", test_y)\n",
    "#np.save(\"conn_data/gc/train_graphs.npy\", train_graphs)\n",
    "#np.save(\"conn_data/gc/test_graphs.npy\", test_graphs)"
   ]
  },
  {
   "cell_type": "code",
   "execution_count": 246,
   "id": "c4c91a4b-24ce-4d18-ba56-4f8a00f195ed",
   "metadata": {},
   "outputs": [],
   "source": [
    "train_X = np.load(\"conn_data/gc/train_X.npy\")\n",
    "test_X = np.load(\"conn_data/gc/test_X.npy\")\n",
    "train_y = np.load(\"conn_data/gc/train_y.npy\")\n",
    "test_y = np.load(\"conn_data/gc/test_y.npy\")\n",
    "train_graphs = np.load(\"conn_data/gc/train_graphs.npy\")\n",
    "test_graphs = np.load(\"conn_data/gc/test_graphs.npy\")"
   ]
  },
  {
   "cell_type": "code",
   "execution_count": 51,
   "id": "74021661-6314-4b75-bf40-7806cda9b31c",
   "metadata": {
    "collapsed": true,
    "jupyter": {
     "outputs_hidden": true
    },
    "tags": []
   },
   "outputs": [
    {
     "name": "stdout",
     "output_type": "stream",
     "text": [
      "0\n"
     ]
    },
    {
     "data": {
      "image/png": "[encoded data removed]",
      "text/plain": [
       "<Figure size 640x480 with 1 Axes>"
      ]
     },
     "metadata": {},
     "output_type": "display_data"
    },
    {
     "name": "stdout",
     "output_type": "stream",
     "text": [
      "1\n"
     ]
    },
    {
     "data": {
      "image/png": "[encoded data removed]",
      "text/plain": [
       "<Figure size 640x480 with 1 Axes>"
      ]
     },
     "metadata": {},
     "output_type": "display_data"
    },
    {
     "name": "stdout",
     "output_type": "stream",
     "text": [
      "2\n"
     ]
    },
    {
     "data": {
      "image/png": "[encoded data removed]",
      "text/plain": [
       "<Figure size 640x480 with 1 Axes>"
      ]
     },
     "metadata": {},
     "output_type": "display_data"
    },
    {
     "name": "stdout",
     "output_type": "stream",
     "text": [
      "3\n"
     ]
    },
    {
     "data": {
      "image/png": "[encoded data removed]",
      "text/plain": [
       "<Figure size 640x480 with 1 Axes>"
      ]
     },
     "metadata": {},
     "output_type": "display_data"
    },
    {
     "name": "stdout",
     "output_type": "stream",
     "text": [
      "4\n"
     ]
    },
    {
     "data": {
      "image/png": "[encoded data removed]",
      "text/plain": [
       "<Figure size 640x480 with 1 Axes>"
      ]
     },
     "metadata": {},
     "output_type": "display_data"
    },
    {
     "name": "stdout",
     "output_type": "stream",
     "text": [
      "5\n"
     ]
    },
    {
     "data": {
      "image/png": "[encoded data removed]",
      "text/plain": [
       "<Figure size 640x480 with 1 Axes>"
      ]
     },
     "metadata": {},
     "output_type": "display_data"
    },
    {
     "name": "stdout",
     "output_type": "stream",
     "text": [
      "6\n"
     ]
    },
    {
     "data": {
      "image/png": "[encoded data removed]",
      "text/plain": [
       "<Figure size 640x480 with 1 Axes>"
      ]
     },
     "metadata": {},
     "output_type": "display_data"
    }
   ],
   "source": [
    "import matplotlib.pyplot as plt\n",
    "for i in range(7):\n",
    "    print(i)\n",
    "    plt.hist(train_X[:, 4, i])\n",
    "    plt.show()"
   ]
  },
  {
   "cell_type": "code",
   "execution_count": 247,
   "id": "00223d67-e49a-41c7-aecc-2056c63e8381",
   "metadata": {},
   "outputs": [],
   "source": [
    "import torch\n",
    "import copy\n",
    "\n",
    "from sklearn.preprocessing import StandardScaler, RobustScaler\n",
    "from sklearn.base import TransformerMixin,BaseEstimator\n",
    "from sklearn.metrics import accuracy_score, confusion_matrix, f1_score, precision_score, recall_score\n",
    "import copy\n",
    "\n",
    "def data_loader(features, graphs, labels, device, batch_size, shuffle=True):\n",
    "    features, graphs, labels = torch.Tensor(features), torch.Tensor(graphs), torch.Tensor(labels)\n",
    "    data = torch.utils.data.TensorDataset(features, graphs, labels)\n",
    "    del features\n",
    "    del labels\n",
    "    data_iter = torch.utils.data.DataLoader(data, batch_size, shuffle=shuffle)\n",
    "    del data\n",
    "    return data_iter\n",
    "\n",
    "def standardize_data(train_X, test_X):\n",
    " \n",
    "    train_X_std = copy.deepcopy(train_X)\n",
    "    test_X_std = copy.deepcopy(test_X)\n",
    "    \n",
    "    for i in tqdm(range(train_X.shape[1])):\n",
    "        for j in range(train_X.shape[2]):\n",
    "            min_ = np.min(train_X[:, i, j])\n",
    "            max_ = np.max(train_X[:, i, j]) #+ 0.000000000000001\n",
    "        \n",
    "            train_X_std[:, i, j] = (train_X[:, i, j] - min_)/(max_ - min_)    \n",
    "            test_X_std[:, i, j] = (test_X[:, i, j] - min_)/(max_ - min_)\n",
    "\n",
    "    return train_X_std, test_X_std"
   ]
  },
  {
   "cell_type": "code",
   "execution_count": 250,
   "id": "3da6bdd7-5c99-4913-a1b7-d15f313250dc",
   "metadata": {},
   "outputs": [
    {
     "data": {
      "text/plain": [
       "((2232, 21, 7), (185, 21, 7))"
      ]
     },
     "execution_count": 250,
     "metadata": {},
     "output_type": "execute_result"
    }
   ],
   "source": [
    "train_X.shape, test_X.shape"
   ]
  },
  {
   "cell_type": "code",
   "execution_count": 251,
   "id": "b87a4257-61f2-49b2-93a8-d741aacaecfa",
   "metadata": {},
   "outputs": [
    {
     "data": {
      "text/plain": [
       "(171520.0, 37322.0, -6.587580262095357, -6.358030789071418)"
      ]
     },
     "execution_count": 251,
     "metadata": {},
     "output_type": "execute_result"
    }
   ],
   "source": [
    "train_X.max(), test_X.max(), train_X.min(), test_X.min()"
   ]
  },
  {
   "cell_type": "code",
   "execution_count": 252,
   "id": "c4042e9a-1656-4d2e-b2ca-0096e281d8d2",
   "metadata": {},
   "outputs": [
    {
     "name": "stderr",
     "output_type": "stream",
     "text": [
      "100%|███████████████████████████████████████████████████████████████| 21/21 [00:00<00:00, 1846.05it/s]\n"
     ]
    },
    {
     "data": {
      "text/plain": [
       "(2232, 21, 7)"
      ]
     },
     "execution_count": 252,
     "metadata": {},
     "output_type": "execute_result"
    }
   ],
   "source": [
    "from tqdm import tqdm\n",
    "train_X, test_X = standardize_data(train_X, test_X)\n",
    "\n",
    "train_X.shape"
   ]
  },
  {
   "cell_type": "code",
   "execution_count": 253,
   "id": "dc6ed5d3-8c86-477b-aef2-c6d5907de5f8",
   "metadata": {
    "tags": []
   },
   "outputs": [],
   "source": [
    "import copy\n",
    "\n",
    "def uniform(train_graphs, test_graphs):\n",
    "    out_train = copy.deepcopy(train_graphs)\n",
    "    out_test = copy.deepcopy(test_graphs)\n",
    "\n",
    "    min_A = train_graphs.min()\n",
    "    max_A = train_graphs.max()\n",
    "    out_train = (train_graphs - min_A)/(max_A - min_A)\n",
    "    out_test = (test_graphs - min_A)/(max_A - min_A)\n",
    "\n",
    "    return out_train, out_test\n",
    "\n",
    "train_graphs, test_graphs = uniform(train_graphs, test_graphs)"
   ]
  },
  {
   "cell_type": "code",
   "execution_count": 254,
   "id": "354f63b3-efe4-4f80-8c39-8426421989ae",
   "metadata": {},
   "outputs": [
    {
     "data": {
      "text/plain": [
       "(1.0, 1.3026285473939159, 0.0, -0.10262589690892014)"
      ]
     },
     "execution_count": 254,
     "metadata": {},
     "output_type": "execute_result"
    }
   ],
   "source": [
    "train_X.max(), test_X.max(), train_X.min(), test_X.min()"
   ]
  },
  {
   "cell_type": "code",
   "execution_count": 255,
   "id": "71457e4c-766f-43d8-91a0-6e6914ee97af",
   "metadata": {
    "tags": []
   },
   "outputs": [
    {
     "data": {
      "text/plain": [
       "(1.0, 0.0)"
      ]
     },
     "execution_count": 255,
     "metadata": {},
     "output_type": "execute_result"
    }
   ],
   "source": [
    "train_graphs.max(), train_graphs.min()"
   ]
  },
  {
   "cell_type": "code",
   "execution_count": 256,
   "id": "5059aa40-e660-4192-9c73-2bd5e6fd1b36",
   "metadata": {},
   "outputs": [
    {
     "data": {
      "text/plain": [
       "(0.5711957353673076, 1.2006028223944977e-15)"
      ]
     },
     "execution_count": 256,
     "metadata": {},
     "output_type": "execute_result"
    }
   ],
   "source": [
    "test_graphs.max(), test_graphs.min()"
   ]
  },
  {
   "cell_type": "code",
   "execution_count": 257,
   "id": "3a13941e-9d20-4c8e-a3f0-2f3b65986985",
   "metadata": {},
   "outputs": [],
   "source": [
    "from sklearn.metrics import accuracy_score, confusion_matrix, f1_score, precision_score, recall_score, auc, roc_auc_score\n",
    "\n",
    "def evaluate_model(model, loss_func, data_iter):\n",
    "    model.eval()\n",
    "    loss_sum, n = 0, 0\n",
    "    with torch.no_grad():\n",
    "        for x, A, y in data_iter:\n",
    "            x = x.float()\n",
    "            A = A.float()\n",
    "            y_pred = model(x, A)\n",
    "            #y = y.long()\n",
    "            #y = y.float()\n",
    "            loss = loss_func(y_pred,y)\n",
    "            loss_sum += loss.item()\n",
    "            n += 1\n",
    "        return loss_sum / n\n",
    "    \n",
    "def cal_accuracy(model, data_iter):\n",
    "    ytrue = []\n",
    "    ypreds = []\n",
    "    y_score = []\n",
    "    model.eval()\n",
    "    with torch.no_grad():\n",
    "        for x, A, y in data_iter:\n",
    "            x = x.float()\n",
    "            A = A.float()\n",
    "            yhat = model(x, A)\n",
    "            \n",
    "            #yhat = [0 if i<0.5 else 1 for i in yhat]\n",
    "            #yhat = torch.exp(yhat)\n",
    "            yhat_labels = np.argmax(yhat, -1)\n",
    "            y_labels = np.argmax(y, -1)\n",
    "        \n",
    "            \n",
    "            y_score.extend(np.max(F.softmax(yhat, dim=1).numpy(), -1))\n",
    "            ytrue.extend(list(y_labels.numpy()))\n",
    "            ypreds.extend([int(yhat_i) for yhat_i in yhat_labels])\n",
    "    \n",
    "    #fpr, tpr, thresholds = roc_curve(ytrue, y_score)\n",
    "    #auc_measure = auc(fpr, tpr)\n",
    "    return (accuracy_score(ytrue, ypreds), \n",
    "            confusion_matrix(ytrue, ypreds), \n",
    "            precision_score(ytrue, ypreds,  average='weighted'), \n",
    "            recall_score(ytrue, ypreds,  average='weighted'),\n",
    "            f1_score(ytrue, ypreds,  average='weighted'))"
   ]
  },
  {
   "cell_type": "markdown",
   "id": "560901a3-ac60-4c2d-b7d2-3057d46ea961",
   "metadata": {},
   "source": [
    "# GC"
   ]
  },
  {
   "cell_type": "code",
   "execution_count": 186,
   "id": "9b7808c7-d177-424d-9a1d-4ac76feb7620",
   "metadata": {},
   "outputs": [],
   "source": [
    "import torch\n",
    "import torch.nn as nn\n",
    "import torch.nn.functional as F\n",
    "\n",
    "\n",
    "\"\"\"\n",
    "    LAYERS: GCNConv and ChebNetConv\n",
    "\"\"\"\n",
    "\n",
    "def normalize_A(A, lmax=2):\n",
    "    A=F.relu(A)\n",
    "    N=A.shape[0]\n",
    "    A=A*(torch.ones(N,N)-torch.eye(N,N))\n",
    "    A=A+A.T\n",
    "    d = torch.sum(A, 1)\n",
    "    d = 1 / torch.sqrt((d + 1e-10))\n",
    "    D = torch.diag_embed(d)\n",
    "    L = torch.eye(N,N)-torch.matmul(torch.matmul(D, A), D)\n",
    "    Lnorm=(2*L/lmax)-torch.eye(N,N)\n",
    "    #Lnorm=Lnorm*-1\n",
    "    return Lnorm\n",
    "\n",
    "def normalize_all_A(A):\n",
    "    all_A = []\n",
    "    for adj in A:\n",
    "        all_A.append(normalize_A(adj).detach().numpy())\n",
    "    all_A = np.array(all_A)\n",
    "    all_A = torch.tensor(all_A)\n",
    "    return all_A\n",
    "\n",
    "\n",
    "class GCNConv(nn.Module):\n",
    "    def __init__(self, in_features, out_features):\n",
    "        super(GCNConv, self).__init__()\n",
    "        self.linear = nn.Linear(in_features, out_features, bias=False)\n",
    "\n",
    "    def forward(self, x: torch.Tensor, adjacency_hat: torch.sparse_coo_tensor):\n",
    "        x = self.linear(x)\n",
    "        x = torch.matmul(adjacency_hat, x)\n",
    "        return x\n",
    "\n",
    "\n",
    "class ChebNetConv(nn.Module):\n",
    "    def __init__(self, in_features, out_features, k):\n",
    "        super(ChebNetConv, self).__init__()\n",
    "\n",
    "        self.K = k\n",
    "        self.linear = nn.Linear(in_features * k, out_features)\n",
    "\n",
    "    def forward(self, x: torch.Tensor, laplacian: torch.sparse_coo_tensor):\n",
    "        x = self.__transform_to_chebyshev(x, laplacian)\n",
    "        x = self.linear(x)\n",
    "        return x\n",
    "\n",
    "    def __transform_to_chebyshev(self, x, laplacian):\n",
    "        cheb_x = x.unsqueeze(2)\n",
    "        x0 = x\n",
    "        if self.K > 1:\n",
    "            x1 = torch.matmul(laplacian, x0)\n",
    "            cheb_x = torch.cat((cheb_x, x1.unsqueeze(2)), 2)\n",
    "            for _ in range(2, self.K):\n",
    "                x2 = 2 * torch.matmul(laplacian, x1) - x0\n",
    "                cheb_x = torch.cat((cheb_x, x2.unsqueeze(2)), 2)\n",
    "                x0, x1 = x1, x2\n",
    "\n",
    "        #cheb_x = cheb_x.reshape([x.shape[0], -1])\n",
    "        return cheb_x\n",
    "\n",
    "\n",
    "class TwoLayerGCN(nn.Module):\n",
    "    def __init__(self, input_size, hidden_size, num_electrodes, out_channels, num_classes, dropout=0.1):\n",
    "        super(TwoLayerGCN, self).__init__()\n",
    "\n",
    "        self.conv1 = GCNConv(input_size, hidden_size)\n",
    "        self.conv2 = GCNConv(hidden_size, out_channels)\n",
    "        self.relu = nn.ReLU()\n",
    "        self.dropout = nn.Dropout(dropout)\n",
    "        self.fc = Linear(336, num_classes)\n",
    "        \n",
    "    def forward(self, x: torch.Tensor, adjacency_hat: torch.sparse_coo_tensor):\n",
    "        x = self.dropout(x)\n",
    "        x = self.conv1(x, adjacency_hat)\n",
    "        x = self.relu(x)\n",
    "        x = self.dropout(x)\n",
    "        x = self.conv2(x, adjacency_hat)\n",
    "        x = x.reshape(x.shape[0], -1)\n",
    "        x = self.fc(x)\n",
    "        return x\n",
    "\n",
    "\n",
    "class GCN(nn.Module):\n",
    "    def __init__(self, input_size, hidden_size, num_electrodes, out_channels, \n",
    "                 num_classes, num_hidden_layers=0, dropout=0.1, residual=False):\n",
    "        super(GCN, self).__init__()\n",
    "\n",
    "        self.dropout = dropout\n",
    "        self.residual = residual\n",
    "        \n",
    "        self.input_conv = GCNConv(input_size, hidden_size)\n",
    "        self.hidden_convs = nn.ModuleList([GCNConv(hidden_size, hidden_size) for _ in range(num_hidden_layers)])\n",
    "        self.output_conv = GCNConv(hidden_size, out_channels)\n",
    "        self.fc = Linear(168, num_classes)\n",
    "\n",
    "    def forward(self, x: torch.Tensor, adjacency_hat: torch.sparse_coo_tensor):\n",
    "        print(\"Laplacian: \", adjacency_hat.shape)\n",
    "        x = F.dropout(x, p=self.dropout, training=self.training)\n",
    "        print(\"after dropout: \", x.shape)\n",
    "        x = F.relu(self.input_conv(x, adjacency_hat))\n",
    "        print(\"after input conv: \", x.shape)\n",
    "        for conv in self.hidden_convs:\n",
    "            if self.residual:\n",
    "                x = F.relu(conv(x, adjacency_hat)) + x\n",
    "            else:\n",
    "                x = F.relu(conv(x, adjacency_hat))\n",
    "        print(\"after conv: \", x.shape)\n",
    "        x = F.dropout(x, p=self.dropout, training=self.training)\n",
    "        print(\"x: \", x.shape, \", adjacency_hat:, \", adjacency_hat.shape)\n",
    "        x = self.output_conv(x, adjacency_hat)\n",
    "        x = x.reshape(x.shape[0], -1)\n",
    "        x = self.fc(x)\n",
    "        return x\n",
    "\n",
    "\n",
    "class TwoLayerChebNet(nn.Module):\n",
    "    def __init__(self, input_size, hidden_size, num_electrodes, out_channels, num_classes, dropout=0.1, k=2):\n",
    "        super(TwoLayerChebNet, self).__init__()\n",
    "\n",
    "        self.conv1 = ChebNetConv(21*input_size, hidden_size, k)\n",
    "        self.conv2 = ChebNetConv(hidden_size, out_channels, k)\n",
    "        self.relu = nn.ReLU()\n",
    "        self.dropout = nn.Dropout(dropout)\n",
    "        self.fc = Linear(21, num_classes)\n",
    "\n",
    "    def forward(self, x: torch.Tensor, laplacian: torch.sparse_coo_tensor):\n",
    "        x = self.dropout(x)\n",
    "        x = self.conv1(x, laplacian)\n",
    "        x = self.relu(x)\n",
    "        x = self.dropout(x)\n",
    "        #x = self.conv2(x, laplacian)\n",
    "        x = x.reshape(x.shape[0], -1)\n",
    "        x = self.fc(x)\n",
    "        return x\n",
    "\n",
    "from torch_geometric.nn import global_mean_pool\n",
    "\n",
    "class ChebNetGCN(nn.Module):\n",
    "    def __init__(self, input_size, hidden_size, num_electrodes, out_channels, \n",
    "                 num_classes, num_hidden_layers=3, dropout=0.1, residual=False, k=1):\n",
    "        super(ChebNetGCN, self).__init__()\n",
    "\n",
    "        self.dropout = dropout\n",
    "        self.residual = residual\n",
    "\n",
    "        self.input_conv = ChebNetConv(input_size, hidden_size, k)\n",
    "        self.hidden_convs = nn.ModuleList([ChebNetConv(hidden_size, hidden_size, k) for _ in range(num_hidden_layers)])\n",
    "        self.output_conv = ChebNetConv(hidden_size, out_channels, k)\n",
    "        self.BN1 = nn.BatchNorm1d(out_channels)\n",
    "        self.fc = nn.Linear(out_channels, num_classes)\n",
    "        \n",
    "    def forward(self, x: torch.Tensor, laplacian: torch.sparse_coo_tensor):\n",
    "        laplacian = normalize_all_A(laplacian)\n",
    "        #print(\"laplaician: \", laplacian.shape)\n",
    "        x = F.dropout(x, p=self.dropout, training=self.training)\n",
    "        #print(\"after dropout: \", x.shape)\n",
    "        x = F.relu(self.input_conv(x, laplacian))\n",
    "        #print(\"input conv: \", x.shape)\n",
    "        for conv in self.hidden_convs:\n",
    "            if self.residual:\n",
    "                x = F.relu(conv(x, laplacian)) + x\n",
    "            else:\n",
    "                x = F.relu(conv(x, laplacian))\n",
    "        #print(\"input conv: \", x.shape)\n",
    "        x = F.dropout(x, p=self.dropout, training=self.training)\n",
    "        #print(\"dropout: \", x.shape, \", laplacian: \",laplacian.shape)\n",
    "        x = self.output_conv(x, laplacian)\n",
    "        #print(\"output conv: \", x.shape)\n",
    "        x = x.squeeze()\n",
    "        batch =None\n",
    "        x = global_mean_pool(x, batch)\n",
    "        #print(\"after reshape: \", x.shape)\n",
    "        x = self.BN1(x)\n",
    "        x = self.fc(x)\n",
    "        return x"
   ]
  },
  {
   "cell_type": "code",
   "execution_count": 133,
   "id": "29a1db76-d4c9-48fd-a794-ecda8a3f7517",
   "metadata": {
    "tags": []
   },
   "outputs": [
    {
     "name": "stderr",
     "output_type": "stream",
     "text": [
      "  0%|                                                                        | 0/1000 [00:00<?, ?it/s]/Users/mohamedr/opt/anaconda3/envs/xai/lib/python3.10/site-packages/sklearn/metrics/_classification.py:1334: UndefinedMetricWarning: Precision is ill-defined and being set to 0.0 in labels with no predicted samples. Use `zero_division` parameter to control this behavior.\n",
      "  _warn_prf(average, modifier, msg_start, len(result))\n",
      "/Users/mohamedr/opt/anaconda3/envs/xai/lib/python3.10/site-packages/sklearn/metrics/_classification.py:1334: UndefinedMetricWarning: Precision is ill-defined and being set to 0.0 in labels with no predicted samples. Use `zero_division` parameter to control this behavior.\n",
      "  _warn_prf(average, modifier, msg_start, len(result))\n",
      "  0%|                                                                | 1/1000 [00:01<17:10,  1.03s/it]/Users/mohamedr/opt/anaconda3/envs/xai/lib/python3.10/site-packages/sklearn/metrics/_classification.py:1334: UndefinedMetricWarning: Precision is ill-defined and being set to 0.0 in labels with no predicted samples. Use `zero_division` parameter to control this behavior.\n",
      "  _warn_prf(average, modifier, msg_start, len(result))\n",
      "/Users/mohamedr/opt/anaconda3/envs/xai/lib/python3.10/site-packages/sklearn/metrics/_classification.py:1334: UndefinedMetricWarning: Precision is ill-defined and being set to 0.0 in labels with no predicted samples. Use `zero_division` parameter to control this behavior.\n",
      "  _warn_prf(average, modifier, msg_start, len(result))\n",
      "  0%|▏                                                               | 2/1000 [00:02<17:51,  1.07s/it]/Users/mohamedr/opt/anaconda3/envs/xai/lib/python3.10/site-packages/sklearn/metrics/_classification.py:1334: UndefinedMetricWarning: Precision is ill-defined and being set to 0.0 in labels with no predicted samples. Use `zero_division` parameter to control this behavior.\n",
      "  _warn_prf(average, modifier, msg_start, len(result))\n",
      "/Users/mohamedr/opt/anaconda3/envs/xai/lib/python3.10/site-packages/sklearn/metrics/_classification.py:1334: UndefinedMetricWarning: Precision is ill-defined and being set to 0.0 in labels with no predicted samples. Use `zero_division` parameter to control this behavior.\n",
      "  _warn_prf(average, modifier, msg_start, len(result))\n",
      "  0%|▏                                                               | 3/1000 [00:03<17:42,  1.07s/it]/Users/mohamedr/opt/anaconda3/envs/xai/lib/python3.10/site-packages/sklearn/metrics/_classification.py:1334: UndefinedMetricWarning: Precision is ill-defined and being set to 0.0 in labels with no predicted samples. Use `zero_division` parameter to control this behavior.\n",
      "  _warn_prf(average, modifier, msg_start, len(result))\n",
      "/Users/mohamedr/opt/anaconda3/envs/xai/lib/python3.10/site-packages/sklearn/metrics/_classification.py:1334: UndefinedMetricWarning: Precision is ill-defined and being set to 0.0 in labels with no predicted samples. Use `zero_division` parameter to control this behavior.\n",
      "  _warn_prf(average, modifier, msg_start, len(result))\n",
      "100%|█████████████████████████████████████████████████████████████| 1000/1000 [16:23<00:00,  1.02it/s]\n",
      "  0%|                                                                        | 0/1000 [00:00<?, ?it/s]/Users/mohamedr/opt/anaconda3/envs/xai/lib/python3.10/site-packages/sklearn/metrics/_classification.py:1334: UndefinedMetricWarning: Precision is ill-defined and being set to 0.0 in labels with no predicted samples. Use `zero_division` parameter to control this behavior.\n",
      "  _warn_prf(average, modifier, msg_start, len(result))\n",
      "/Users/mohamedr/opt/anaconda3/envs/xai/lib/python3.10/site-packages/sklearn/metrics/_classification.py:1334: UndefinedMetricWarning: Precision is ill-defined and being set to 0.0 in labels with no predicted samples. Use `zero_division` parameter to control this behavior.\n",
      "  _warn_prf(average, modifier, msg_start, len(result))\n",
      "  0%|                                                                | 1/1000 [00:00<16:11,  1.03it/s]/Users/mohamedr/opt/anaconda3/envs/xai/lib/python3.10/site-packages/sklearn/metrics/_classification.py:1334: UndefinedMetricWarning: Precision is ill-defined and being set to 0.0 in labels with no predicted samples. Use `zero_division` parameter to control this behavior.\n",
      "  _warn_prf(average, modifier, msg_start, len(result))\n",
      "/Users/mohamedr/opt/anaconda3/envs/xai/lib/python3.10/site-packages/sklearn/metrics/_classification.py:1334: UndefinedMetricWarning: Precision is ill-defined and being set to 0.0 in labels with no predicted samples. Use `zero_division` parameter to control this behavior.\n",
      "  _warn_prf(average, modifier, msg_start, len(result))\n",
      "100%|█████████████████████████████████████████████████████████████| 1000/1000 [15:50<00:00,  1.05it/s]\n",
      "  0%|                                                                        | 0/1000 [00:00<?, ?it/s]/Users/mohamedr/opt/anaconda3/envs/xai/lib/python3.10/site-packages/sklearn/metrics/_classification.py:1334: UndefinedMetricWarning: Precision is ill-defined and being set to 0.0 in labels with no predicted samples. Use `zero_division` parameter to control this behavior.\n",
      "  _warn_prf(average, modifier, msg_start, len(result))\n",
      "/Users/mohamedr/opt/anaconda3/envs/xai/lib/python3.10/site-packages/sklearn/metrics/_classification.py:1334: UndefinedMetricWarning: Precision is ill-defined and being set to 0.0 in labels with no predicted samples. Use `zero_division` parameter to control this behavior.\n",
      "  _warn_prf(average, modifier, msg_start, len(result))\n",
      "  0%|                                                                | 1/1000 [00:00<15:08,  1.10it/s]/Users/mohamedr/opt/anaconda3/envs/xai/lib/python3.10/site-packages/sklearn/metrics/_classification.py:1334: UndefinedMetricWarning: Precision is ill-defined and being set to 0.0 in labels with no predicted samples. Use `zero_division` parameter to control this behavior.\n",
      "  _warn_prf(average, modifier, msg_start, len(result))\n",
      "/Users/mohamedr/opt/anaconda3/envs/xai/lib/python3.10/site-packages/sklearn/metrics/_classification.py:1334: UndefinedMetricWarning: Precision is ill-defined and being set to 0.0 in labels with no predicted samples. Use `zero_division` parameter to control this behavior.\n",
      "  _warn_prf(average, modifier, msg_start, len(result))\n",
      "100%|█████████████████████████████████████████████████████████████| 1000/1000 [15:39<00:00,  1.06it/s]\n",
      "  0%|                                                                        | 0/1000 [00:00<?, ?it/s]/Users/mohamedr/opt/anaconda3/envs/xai/lib/python3.10/site-packages/sklearn/metrics/_classification.py:1334: UndefinedMetricWarning: Precision is ill-defined and being set to 0.0 in labels with no predicted samples. Use `zero_division` parameter to control this behavior.\n",
      "  _warn_prf(average, modifier, msg_start, len(result))\n",
      "/Users/mohamedr/opt/anaconda3/envs/xai/lib/python3.10/site-packages/sklearn/metrics/_classification.py:1334: UndefinedMetricWarning: Precision is ill-defined and being set to 0.0 in labels with no predicted samples. Use `zero_division` parameter to control this behavior.\n",
      "  _warn_prf(average, modifier, msg_start, len(result))\n",
      "  0%|                                                                | 1/1000 [00:00<15:36,  1.07it/s]/Users/mohamedr/opt/anaconda3/envs/xai/lib/python3.10/site-packages/sklearn/metrics/_classification.py:1334: UndefinedMetricWarning: Precision is ill-defined and being set to 0.0 in labels with no predicted samples. Use `zero_division` parameter to control this behavior.\n",
      "  _warn_prf(average, modifier, msg_start, len(result))\n",
      "/Users/mohamedr/opt/anaconda3/envs/xai/lib/python3.10/site-packages/sklearn/metrics/_classification.py:1334: UndefinedMetricWarning: Precision is ill-defined and being set to 0.0 in labels with no predicted samples. Use `zero_division` parameter to control this behavior.\n",
      "  _warn_prf(average, modifier, msg_start, len(result))\n",
      "  0%|▏                                                               | 2/1000 [00:01<15:31,  1.07it/s]/Users/mohamedr/opt/anaconda3/envs/xai/lib/python3.10/site-packages/sklearn/metrics/_classification.py:1334: UndefinedMetricWarning: Precision is ill-defined and being set to 0.0 in labels with no predicted samples. Use `zero_division` parameter to control this behavior.\n",
      "  _warn_prf(average, modifier, msg_start, len(result))\n",
      "/Users/mohamedr/opt/anaconda3/envs/xai/lib/python3.10/site-packages/sklearn/metrics/_classification.py:1334: UndefinedMetricWarning: Precision is ill-defined and being set to 0.0 in labels with no predicted samples. Use `zero_division` parameter to control this behavior.\n",
      "  _warn_prf(average, modifier, msg_start, len(result))\n",
      "  0%|▏                                                               | 3/1000 [00:02<15:32,  1.07it/s]/Users/mohamedr/opt/anaconda3/envs/xai/lib/python3.10/site-packages/sklearn/metrics/_classification.py:1334: UndefinedMetricWarning: Precision is ill-defined and being set to 0.0 in labels with no predicted samples. Use `zero_division` parameter to control this behavior.\n",
      "  _warn_prf(average, modifier, msg_start, len(result))\n",
      "/Users/mohamedr/opt/anaconda3/envs/xai/lib/python3.10/site-packages/sklearn/metrics/_classification.py:1334: UndefinedMetricWarning: Precision is ill-defined and being set to 0.0 in labels with no predicted samples. Use `zero_division` parameter to control this behavior.\n",
      "  _warn_prf(average, modifier, msg_start, len(result))\n",
      "  0%|▎                                                               | 4/1000 [00:03<15:27,  1.07it/s]/Users/mohamedr/opt/anaconda3/envs/xai/lib/python3.10/site-packages/sklearn/metrics/_classification.py:1334: UndefinedMetricWarning: Precision is ill-defined and being set to 0.0 in labels with no predicted samples. Use `zero_division` parameter to control this behavior.\n",
      "  _warn_prf(average, modifier, msg_start, len(result))\n",
      "100%|█████████████████████████████████████████████████████████████| 1000/1000 [15:36<00:00,  1.07it/s]\n",
      "  0%|                                                                        | 0/1000 [00:00<?, ?it/s]/Users/mohamedr/opt/anaconda3/envs/xai/lib/python3.10/site-packages/sklearn/metrics/_classification.py:1334: UndefinedMetricWarning: Precision is ill-defined and being set to 0.0 in labels with no predicted samples. Use `zero_division` parameter to control this behavior.\n",
      "  _warn_prf(average, modifier, msg_start, len(result))\n",
      "/Users/mohamedr/opt/anaconda3/envs/xai/lib/python3.10/site-packages/sklearn/metrics/_classification.py:1334: UndefinedMetricWarning: Precision is ill-defined and being set to 0.0 in labels with no predicted samples. Use `zero_division` parameter to control this behavior.\n",
      "  _warn_prf(average, modifier, msg_start, len(result))\n",
      "  0%|                                                                | 1/1000 [00:00<15:31,  1.07it/s]/Users/mohamedr/opt/anaconda3/envs/xai/lib/python3.10/site-packages/sklearn/metrics/_classification.py:1334: UndefinedMetricWarning: Precision is ill-defined and being set to 0.0 in labels with no predicted samples. Use `zero_division` parameter to control this behavior.\n",
      "  _warn_prf(average, modifier, msg_start, len(result))\n",
      "/Users/mohamedr/opt/anaconda3/envs/xai/lib/python3.10/site-packages/sklearn/metrics/_classification.py:1334: UndefinedMetricWarning: Precision is ill-defined and being set to 0.0 in labels with no predicted samples. Use `zero_division` parameter to control this behavior.\n",
      "  _warn_prf(average, modifier, msg_start, len(result))\n",
      "100%|█████████████████████████████████████████████████████████████| 1000/1000 [15:48<00:00,  1.05it/s]\n"
     ]
    }
   ],
   "source": [
    "#%%capture\n",
    "from tqdm import tqdm\n",
    "import torch.nn as nn\n",
    "from sklearn.model_selection import KFold\n",
    "from sklearn.preprocessing import OneHotEncoder\n",
    "import torch\n",
    "\n",
    "NUM_EPOCHS = 1000\n",
    "NUM_CHANNELS = 21\n",
    "NUM_CLASSES = 2\n",
    "NUM_NODE_FEATURES = 7\n",
    "BATCH_SIZE = 128\n",
    "DEVICE = torch.device(\"cpu\")\n",
    "\n",
    "loss_func = nn.BCEWithLogitsLoss()\n",
    "\n",
    "all_train_losses = []\n",
    "all_val_losses = []\n",
    "all_train_f1 = []\n",
    "all_val_f1 = []\n",
    "\n",
    "skf = KFold(n_splits=5, shuffle=True)\n",
    "skf.get_n_splits(train_X, train_y)\n",
    "\n",
    "#print(\"Training Model....\")\n",
    "for i, (train_index, val_index) in enumerate(skf.split(train_X, train_y)):\n",
    "    #print(\"KFold \", i)\n",
    "    \n",
    "    model = ChebNetGCN(NUM_NODE_FEATURES, 128, NUM_CHANNELS, 128, NUM_CLASSES)\n",
    "\n",
    "    optimizer = torch.optim.Adam(model.parameters(), lr=1e-5)\n",
    "\n",
    "    train_X_subset = train_X[train_index]\n",
    "    train_y_subset = train_y[train_index]\n",
    "    train_graphs_subset = train_graphs[train_index]\n",
    "    val_X = train_X[val_index]\n",
    "    val_y = train_y[val_index]\n",
    "    val_graphs_subset = train_graphs[val_index]\n",
    "\n",
    "    encoder = OneHotEncoder()\n",
    "    train_y_subset = encoder.fit_transform(train_y_subset).toarray()\n",
    "    val_y = encoder.transform(val_y).toarray()\n",
    "\n",
    "    batch_size = 128\n",
    "    train_iter = data_loader(train_X_subset ,train_graphs_subset, train_y_subset, DEVICE, BATCH_SIZE, shuffle=True)\n",
    "    val_iter = data_loader(val_X, val_graphs_subset, val_y, DEVICE, BATCH_SIZE, shuffle=False)\n",
    "\n",
    "    kfold_train_loss = []\n",
    "    kfold_val_loss = []\n",
    "    kfold_train_f1 = []\n",
    "    kfold_val_f1 = []\n",
    "    for epoch in tqdm(range(1, NUM_EPOCHS + 1)):\n",
    "        #print(\"Epoch\", epoch) \n",
    "        loss_sum, n = 0.0, 0\n",
    "        model.train()\n",
    "        for t, (x, A, y) in enumerate(train_iter):\n",
    "            optimizer.zero_grad()\n",
    "            x = x.float()\n",
    "            A = A.float()\n",
    "            y_pred = model(x, A)\n",
    "            loss = loss_func(y_pred, y)\n",
    "            loss_sum += loss#.item()\n",
    "            loss.backward()\n",
    "            optimizer.step()\n",
    "\n",
    "        train_loss = evaluate_model(model, loss_func, train_iter)\n",
    "        val_loss = evaluate_model(model, loss_func, val_iter)\n",
    "        train_f1 = cal_accuracy(model, train_iter)[-1]\n",
    "        val_f1 = cal_accuracy(model, val_iter)[-1]\n",
    "        kfold_train_loss.append(train_loss)\n",
    "        kfold_val_loss.append(val_loss)\n",
    "        kfold_train_f1.append(train_f1)\n",
    "        kfold_val_f1.append(val_f1)\n",
    "\n",
    "    all_train_losses.append(kfold_train_loss)\n",
    "    all_val_losses.append(kfold_val_loss)\n",
    "    all_train_f1.append(kfold_train_f1)\n",
    "    all_val_f1.append(kfold_val_f1)"
   ]
  },
  {
   "cell_type": "code",
   "execution_count": 165,
   "id": "d460eac4-9db6-495f-961a-02133296de3c",
   "metadata": {
    "tags": []
   },
   "outputs": [
    {
     "name": "stderr",
     "output_type": "stream",
     "text": [
      "No artists with labels found to put in legend.  Note that artists whose label start with an underscore are ignored when legend() is called with no argument.\n"
     ]
    },
    {
     "data": {
      "image/png": "[encoded data removed]",
      "text/plain": [
       "<Figure size 640x480 with 1 Axes>"
      ]
     },
     "metadata": {},
     "output_type": "display_data"
    }
   ],
   "source": [
    "import matplotlib.pyplot as plt\n",
    "\n",
    "all_val_losses = np.moveaxis(np.array(all_val_losses), 0, 1)\n",
    "all_train_losses = np.moveaxis(np.array(all_train_losses), 0, 1)\n",
    "plt.plot(all_train_losses, color='blue')\n",
    "plt.plot(all_val_losses, color='orange')\n",
    "plt.xlabel(\"Epochs\")\n",
    "plt.xticks(range(0, 1000, 100), range(1, 1001, 100))\n",
    "plt.ylabel(\"loss\")\n",
    "plt.legend(loc=\"upper right\")\n",
    "plt.show()"
   ]
  },
  {
   "cell_type": "code",
   "execution_count": 135,
   "id": "b8c7b2fa-e3c9-4e92-800d-78ff896cc7f0",
   "metadata": {},
   "outputs": [
    {
     "name": "stderr",
     "output_type": "stream",
     "text": [
      "No artists with labels found to put in legend.  Note that artists whose label start with an underscore are ignored when legend() is called with no argument.\n"
     ]
    },
    {
     "data": {
      "image/png": "[encoded data removed]",
      "text/plain": [
       "<Figure size 640x480 with 1 Axes>"
      ]
     },
     "metadata": {},
     "output_type": "display_data"
    }
   ],
   "source": [
    "all_val_f1 = np.moveaxis(np.array(all_val_f1), 0, 1)\n",
    "all_train_f1 = np.moveaxis(np.array(all_train_f1), 0, 1)\n",
    "plt.plot(all_train_f1, color='blue')\n",
    "plt.plot(all_val_f1, color='orange')\n",
    "plt.xlabel(\"Epochs\")\n",
    "plt.xticks(range(0, 1000, 100), range(1, 1001, 100))\n",
    "plt.ylabel(\"Accuracy\")\n",
    "plt.legend(loc=\"upper right\")\n",
    "plt.show()"
   ]
  },
  {
   "cell_type": "code",
   "execution_count": 508,
   "id": "5268adae-e590-4767-95d9-670058f90ddb",
   "metadata": {
    "collapsed": true,
    "jupyter": {
     "outputs_hidden": true
    },
    "tags": []
   },
   "outputs": [
    {
     "data": {
      "image/png": "[encoded data removed]",
      "text/plain": [
       "<Figure size 950x950 with 2 Axes>"
      ]
     },
     "metadata": {},
     "output_type": "display_data"
    },
    {
     "name": "stdout",
     "output_type": "stream",
     "text": [
      "label:  [1]\n"
     ]
    }
   ],
   "source": [
    "import matplotlib.pyplot as plt\n",
    "import numpy as np\n",
    "fig, ax = plt.subplots(figsize=(9.5,9.5))\n",
    "x = [0.00001,0.001,0.01,0.1,0.5,1,5]\n",
    "# create an index for each tick position\n",
    "my_xticks = ['FP1', 'FP2', 'F3','F4','C3','C4','P3','P4','O1','O2','F7','F8','T3','T4','T5','T6','FZ','PZ','CZ','A1','A2']\n",
    "x = range(21)\n",
    "\n",
    "plt.xticks(x, my_xticks)\n",
    "plt.yticks(x, my_xticks)\n",
    "\n",
    "im = ax.imshow(train_graphs[20], cmap='hot', interpolation='nearest')\n",
    "fig.colorbar(im, orientation='vertical', fraction=0.046, pad=0.04)\n",
    "plt.show()\n",
    "print(\"label: \", train_y[20])"
   ]
  },
  {
   "cell_type": "code",
   "execution_count": null,
   "id": "02b3953b-1730-4eb8-a275-4062b8e51090",
   "metadata": {
    "tags": []
   },
   "outputs": [
    {
     "name": "stdout",
     "output_type": "stream",
     "text": [
      "Training Model....\n"
     ]
    },
    {
     "name": "stderr",
     "output_type": "stream",
     "text": [
      " 12%|███████▋                                                        | 36/300 [00:15<01:51,  2.37it/s]"
     ]
    }
   ],
   "source": [
    "#%%capture\n",
    "print(\"Training Model....\")\n",
    "NUM_EPOCHS = 300\n",
    "NUM_CHANNELS = 21\n",
    "NUM_CLASSES = 2\n",
    "NUM_NODE_FEATURES = 7\n",
    "BATCH_SIZE = 128\n",
    "DEVICE = torch.device(\"cpu\")\n",
    "\n",
    "model = ChebNetGCN(NUM_NODE_FEATURES, 64, NUM_CHANNELS, 64, NUM_CLASSES)\n",
    "loss_func = nn.BCEWithLogitsLoss()\n",
    "optimizer = torch.optim.Adam(model.parameters(), lr=1e-5)\n",
    "encoder = OneHotEncoder()\n",
    "train_y_ohe = encoder.fit_transform(train_y).toarray()\n",
    "test_y_ohe = encoder.fit_transform(test_y).toarray()\n",
    "    \n",
    "train_iter = data_loader(train_X , train_graphs, train_y_ohe, DEVICE, BATCH_SIZE, shuffle=True)\n",
    "test_iter = data_loader(test_X , test_graphs, test_y_ohe, DEVICE, BATCH_SIZE, shuffle=False)\n",
    "  \n",
    "for epoch in tqdm(range(1, NUM_EPOCHS + 1)):\n",
    "    loss_sum, n = 0.0, 0\n",
    "    model.train()\n",
    "    for t, (x, A, y) in enumerate(train_iter):\n",
    "        optimizer.zero_grad()\n",
    "        x = x.float()\n",
    "        A = A.float()\n",
    "        #y = y.squeeze()\n",
    "        y_pred = model(x, A)\n",
    "        loss = loss_func(y_pred, y)\n",
    "        loss_sum += loss#.item()\n",
    "        loss.backward()\n",
    "        optimizer.step()\n",
    "    #train_acc = cal_accuracy(model, train_iter)\n",
    "    #if train_acc[0] >= 0.82:\n",
    "    #    print(\"Early Stopped\")\n",
    "    #    break"
   ]
  },
  {
   "cell_type": "code",
   "execution_count": 272,
   "id": "c8e326ee-036f-45ec-80fa-2843b97f007e",
   "metadata": {
    "tags": []
   },
   "outputs": [
    {
     "name": "stdout",
     "output_type": "stream",
     "text": [
      "Accuracy:  0.8624551971326165\n",
      "Precision:  0.8452884676391561\n",
      "Recall:  0.8624551971326165\n",
      "F1:  0.848433671003671\n",
      "Confusion Matrix:  [[1792   85]\n",
      " [ 222  133]]\n"
     ]
    }
   ],
   "source": [
    "train_acc = cal_accuracy(model, train_iter)\n",
    "print(\"Accuracy: \", train_acc[0])\n",
    "print(\"Precision: \", train_acc[2])\n",
    "print(\"Recall: \", train_acc[3])\n",
    "print(\"F1: \", train_acc[4])\n",
    "print(\"Confusion Matrix: \", train_acc[1])"
   ]
  },
  {
   "cell_type": "code",
   "execution_count": 273,
   "id": "66a63193-f64a-4729-8048-577bcb1489ff",
   "metadata": {
    "tags": []
   },
   "outputs": [
    {
     "name": "stdout",
     "output_type": "stream",
     "text": [
      "Accuracy:  0.7351351351351352\n",
      "Precision:  0.805984555984556\n",
      "Recall:  0.7351351351351352\n",
      "F1:  0.7163503929461376\n",
      "Confusion Matrix:  [[93  2]\n",
      " [47 43]]\n"
     ]
    }
   ],
   "source": [
    "test_acc = cal_accuracy(model, test_iter)\n",
    "print(\"Accuracy: \", test_acc[0])\n",
    "print(\"Precision: \", test_acc[2])\n",
    "print(\"Recall: \", test_acc[3])\n",
    "print(\"F1: \", test_acc[4])\n",
    "print(\"Confusion Matrix: \", test_acc[1])"
   ]
  },
  {
   "cell_type": "markdown",
   "id": "1fa7f2b3-4375-4afd-a78a-6375fe78114a",
   "metadata": {},
   "source": [
    "# Correlation"
   ]
  },
  {
   "cell_type": "code",
   "execution_count": 630,
   "id": "4d39265a-1a1a-4038-9f31-395a87a3ccd9",
   "metadata": {},
   "outputs": [],
   "source": [
    "import numpy as np\n",
    "\n",
    "def build_graphs(raw_data):\n",
    "    \n",
    "    fs = 100\n",
    "    \n",
    "    data_graphs = []\n",
    "    \n",
    "    for file in tqdm(raw_data):\n",
    "        \n",
    "        data = mne.io.read_raw(file, verbose=False, preload=True)\n",
    "        ch_names = data.ch_names\n",
    "        #data.resample(sfreq=100)\n",
    "        data.filter(l_freq=0.5, h_freq=47, verbose=False)\n",
    "        #data = mne.make_fixed_length_epochs(data, duration=5, overlap=1, verbose=False)\n",
    "        data = data.get_data()*1e6\n",
    "          \n",
    "        data = np.diff(data)    \n",
    "        #corr = []\n",
    "        #for i in range(21):\n",
    "        #    corr1 = []\n",
    "        #    for j in range(21):\n",
    "        #        corr1.append(np.correlate(data[i], data[j])[0])\n",
    "        #    corr.append(corr1)\n",
    "        \n",
    "        gc = []\n",
    "        for i in range(21):\n",
    "            gc1 = []\n",
    "            for j in range(21):\n",
    "                gc1.append(calcGrangerCausality(data, i, j))\n",
    "            gc.append(gc1)\n",
    "        data_graphs.append(gc)  \n",
    "        \n",
    "        #data_graphs.append(corr)    \n",
    "        \n",
    "    data_graphs = np.array(data_graphs)\n",
    "    \n",
    "    return data_graphs"
   ]
  },
  {
   "cell_type": "code",
   "execution_count": 631,
   "id": "020e5625-cf50-417e-af8b-48d39576e156",
   "metadata": {},
   "outputs": [
    {
     "name": "stderr",
     "output_type": "stream",
     "text": [
      " 45%|███████████████████████████████████▍                                           | 1001/2232 [5:35:40<6:04:12, 17.75s/it]/var/folders/jh/bl76wbz94n3727gszxkh079h0000gr/T/ipykernel_25118/143230868.py:14: RuntimeWarning: filter_length (1321) is longer than the signal (923), distortion is likely. Reduce filter length or filter a longer signal.\n",
      "  data.filter(l_freq=0.5, h_freq=47, verbose=False)\n",
      " 86%|██████████████████████████████████████████████████████████████████▉           | 1915/2232 [11:29:56<1:47:59, 20.44s/it]/var/folders/jh/bl76wbz94n3727gszxkh079h0000gr/T/ipykernel_25118/143230868.py:14: RuntimeWarning: filter_length (1321) is longer than the signal (738), distortion is likely. Reduce filter length or filter a longer signal.\n",
      "  data.filter(l_freq=0.5, h_freq=47, verbose=False)\n",
      "100%|████████████████████████████████████████████████████████████████████████████████| 2232/2232 [13:09:49<00:00, 21.23s/it]\n",
      "100%|█████████████████████████████████████████████████████████████████████████████████████| 185/185 [59:32<00:00, 19.31s/it]\n"
     ]
    }
   ],
   "source": [
    "train_graphs = build_graphs(train_data_files)\n",
    "test_graphs = build_graphs(test_data_files)"
   ]
  },
  {
   "cell_type": "code",
   "execution_count": 635,
   "id": "d9852fdf-290f-4d3d-9b2a-67fb74416789",
   "metadata": {},
   "outputs": [],
   "source": [
    "np.save(\"conn_data/gc/train_graphs.npy\", train_graphs)\n",
    "np.save(\"conn_data/gc/test_graphs.npy\", test_graphs)"
   ]
  },
  {
   "cell_type": "code",
   "execution_count": 358,
   "id": "86eb98ce-b4b6-4ce1-8de5-5d1dbdac3dfc",
   "metadata": {},
   "outputs": [],
   "source": [
    "train_corr_graphs = np.load(\"conn_data/corr/train_graphs.npy\")\n",
    "test_corr_graphs = np.load(\"conn_data/corr/test_graphs.npy\")"
   ]
  },
  {
   "cell_type": "code",
   "execution_count": 359,
   "id": "be216d23-a06e-40ec-bb69-e62de03006ea",
   "metadata": {},
   "outputs": [],
   "source": [
    "train_corr_graphs, test_corr_graphs = uniform(train_corr_graphs, test_corr_graphs)"
   ]
  },
  {
   "cell_type": "code",
   "execution_count": 360,
   "id": "57881218-6ea2-4116-8927-fe87a11233b3",
   "metadata": {},
   "outputs": [
    {
     "data": {
      "text/plain": [
       "(2232, 21, 21)"
      ]
     },
     "execution_count": 360,
     "metadata": {},
     "output_type": "execute_result"
    }
   ],
   "source": [
    "train_corr_graphs.shape"
   ]
  },
  {
   "cell_type": "code",
   "execution_count": 486,
   "id": "e5297c1f-6140-49ec-9df5-bbf8a30284da",
   "metadata": {
    "tags": []
   },
   "outputs": [
    {
     "name": "stdout",
     "output_type": "stream",
     "text": [
      "Training Model....\n"
     ]
    },
    {
     "name": "stderr",
     "output_type": "stream",
     "text": [
      "100%|█████████████████████████████████████████████████████████████████████████████████████| 200/200 [01:00<00:00,  3.32it/s]\n"
     ]
    }
   ],
   "source": [
    "#%%capture\n",
    "print(\"Training Model....\")\n",
    "NUM_EPOCHS = 200\n",
    "NUM_CHANNELS = 21\n",
    "NUM_CLASSES = 2\n",
    "NUM_NODE_FEATURES = 51\n",
    "BATCH_SIZE = 128\n",
    "\n",
    "model = ChebNetGCN(NUM_NODE_FEATURES, 64, NUM_CHANNELS, 64, NUM_CLASSES)\n",
    "\n",
    "loss_func = nn.BCEWithLogitsLoss()\n",
    "optimizer = torch.optim.Adam(model.parameters(), lr=1e-3)\n",
    "\n",
    "encoder = OneHotEncoder()\n",
    "train_y_ohe = encoder.fit_transform(train_y).toarray()\n",
    "test_y_ohe = encoder.transform(test_y).toarray()\n",
    "    \n",
    "train_iter = data_loader(train_X , train_corr_graphs, train_y_ohe, DEVICE, BATCH_SIZE, shuffle=True)\n",
    "test_iter = data_loader(test_X , test_corr_graphs, test_y_ohe, DEVICE, BATCH_SIZE, shuffle=False)\n",
    "  \n",
    "for epoch in tqdm(range(1, NUM_EPOCHS + 1)):\n",
    "    loss_sum, n = 0.0, 0\n",
    "    model.train()\n",
    "    for t, (x, A, y) in enumerate(train_iter):\n",
    "        optimizer.zero_grad()\n",
    "        x = x.float()\n",
    "        A = A.float()\n",
    "        y_pred = model(x, A)\n",
    "        loss = loss_func(y_pred, y)\n",
    "        loss_sum += loss#.item()\n",
    "        loss.backward()\n",
    "        optimizer.step()"
   ]
  },
  {
   "cell_type": "code",
   "execution_count": 487,
   "id": "b06f873b-354b-4584-9df3-0c5132ec8396",
   "metadata": {},
   "outputs": [
    {
     "name": "stdout",
     "output_type": "stream",
     "text": [
      "Accuracy:  0.907258064516129\n",
      "Precision:  0.9061435565802181\n",
      "Recall:  0.907258064516129\n",
      "F1:  0.8949716375333167\n",
      "Confusion Matrix:  [[1857   20]\n",
      " [ 187  168]]\n"
     ]
    }
   ],
   "source": [
    "train_acc = cal_accuracy(model, train_iter)\n",
    "print(\"Accuracy: \", train_acc[0])\n",
    "print(\"Precision: \", train_acc[2])\n",
    "print(\"Recall: \", train_acc[3])\n",
    "print(\"F1: \", train_acc[4])\n",
    "print(\"Confusion Matrix: \", train_acc[1])"
   ]
  },
  {
   "cell_type": "code",
   "execution_count": 488,
   "id": "a564a444-9d21-45d1-a482-cca97ce35a89",
   "metadata": {},
   "outputs": [
    {
     "name": "stdout",
     "output_type": "stream",
     "text": [
      "Accuracy:  0.6972972972972973\n",
      "Precision:  0.7969345184110285\n",
      "Recall:  0.6972972972972973\n",
      "F1:  0.6659282233052725\n",
      "Confusion Matrix:  [[94  1]\n",
      " [55 35]]\n"
     ]
    }
   ],
   "source": [
    "train_acc = cal_accuracy(model, test_iter)\n",
    "print(\"Accuracy: \", train_acc[0])\n",
    "print(\"Precision: \", train_acc[2])\n",
    "print(\"Recall: \", train_acc[3])\n",
    "print(\"F1: \", train_acc[4])\n",
    "print(\"Confusion Matrix: \", train_acc[1])"
   ]
  },
  {
   "cell_type": "markdown",
   "id": "630b5fa1-91a0-464b-9c24-baadf6531ddf",
   "metadata": {},
   "source": [
    "# Dot Product (GC, Corr)"
   ]
  },
  {
   "cell_type": "code",
   "execution_count": 26,
   "id": "7c291977-f740-4f1c-8fc6-131a544b87d4",
   "metadata": {},
   "outputs": [],
   "source": [
    "#train_X = np.load(\"conn_data/gc/train_X.npy\")\n",
    "#test_X = np.load(\"conn_data/gc/test_X.npy\")\n",
    "#train_y = np.load(\"conn_data/gc/train_y.npy\")\n",
    "#test_y = np.load(\"conn_data/gc/test_y.npy\")\n",
    "#train_graphs = np.load(\"conn_data/gc/train_graphs.npy\")\n",
    "#test_graphs = np.load(\"conn_data/gc/test_graphs.npy\")\n",
    "#train_corr_graphs = np.load(\"conn_data/corr/train_graphs.npy\")\n",
    "#test_corr_graphs = np.load(\"conn_data/corr/test_graphs.npy\")"
   ]
  },
  {
   "cell_type": "code",
   "execution_count": 1054,
   "id": "2f368323-3c58-441c-80e2-5b995b039249",
   "metadata": {},
   "outputs": [],
   "source": [
    "import torch\n",
    "from torch import nn\n",
    "from torch.nn import functional as F\n",
    "from torch.nn.modules.module import Module\n",
    "\n",
    "import numpy as np\n",
    "\n",
    "\n",
    "def normalize_A(A,lmax=2):\n",
    "    A=F.relu(A)\n",
    "    N=A.shape[0]\n",
    "    A=A*(torch.ones(N,N)-torch.eye(N,N))\n",
    "    A=A+A.T\n",
    "    d = torch.sum(A, 1)\n",
    "    d = 1 / torch.sqrt((d + 1e-10))\n",
    "    D = torch.diag_embed(d)\n",
    "    L = torch.eye(N,N)-torch.matmul(torch.matmul(D, A), D)\n",
    "    Lnorm=(2*L/lmax)-torch.eye(N,N)\n",
    "    return Lnorm\n",
    "\n",
    "def normalize_all_A(A):\n",
    "    all_A = []\n",
    "    for adj in A:\n",
    "        all_A.append(normalize_A(adj).detach().numpy())\n",
    "    all_A = np.array(all_A)\n",
    "    all_A = torch.tensor(all_A)\n",
    "    return all_A\n",
    "\n",
    "def generate_cheby_adj(L, K):\n",
    "    support = []\n",
    "    for i in range(K):\n",
    "        if i == 0:\n",
    "            support.append(torch.eye(L.shape[-1]))\n",
    "        elif i == 1:\n",
    "            support.append(L)\n",
    "        else:\n",
    "            temp = torch.matmul(2*L,support[-1],)-support[-2]\n",
    "            support.append(temp)\n",
    "    return support\n",
    "\n",
    "        \n",
    "import torch\n",
    "import torch.nn as nn\n",
    "import torch.nn.functional as F\n",
    "\n",
    "\n",
    "class Chebynet(nn.Module):\n",
    "    def __init__(self, in_channels, K, out_channels):\n",
    "        super(Chebynet, self).__init__()\n",
    "        self.K = K\n",
    "        self.gc = nn.ModuleList()\n",
    "        for i in range(K):\n",
    "            self.gc.append(GraphConvolution( in_channels,  out_channels))\n",
    "\n",
    "    def forward(self, x,L):\n",
    "        adj = generate_cheby_adj(L, self.K)\n",
    "        for i in range(len(self.gc)):\n",
    "            if i == 0:\n",
    "                result = self.gc[i](x, adj[i])\n",
    "            else:\n",
    "                result += self.gc[i](x, adj[i])\n",
    "        result = F.relu(result)\n",
    "        return result\n",
    "\n",
    "\n",
    "class DGCNN(nn.Module):\n",
    "    def __init__(self, in_channels,num_electrodes, k_adj, out_channels, num_classes=3):\n",
    "        super(DGCNN, self).__init__()\n",
    "        self.K = k_adj\n",
    "        self.layer1 = Chebynet(in_channels, k_adj, out_channels)\n",
    "        self.layer2 = Chebynet(in_channels, k_adj, out_channels)\n",
    "        self.BN1 = nn.BatchNorm1d(in_channels)\n",
    "        self.fc = Linear(2*num_electrodes*out_channels, num_classes)\n",
    "\n",
    "    def forward(self, x, A1, A2):\n",
    "        #x = self.BN1(x.transpose(1, 2)).transpose(1, 2) #data can also be standardized offline\n",
    "        L1 = normalize_all_A(A1)\n",
    "        L2 = normalize_all_A(A2)\n",
    "        result1 = self.layer1(x, L1)\n",
    "        result2 = self.layer2(x, L2)\n",
    "        result1 = result1.reshape(x.shape[0], -1)\n",
    "        result2 = result2.reshape(x.shape[0], -1)\n",
    "        result = torch.cat((result1, result2), -1)\n",
    "        result = self.fc(result)\n",
    "        return result"
   ]
  },
  {
   "cell_type": "code",
   "execution_count": 130,
   "id": "794b6a74-7581-4809-8b99-62b5b94bfb39",
   "metadata": {},
   "outputs": [],
   "source": [
    "import torch\n",
    "from torch import nn\n",
    "from torch.nn import functional as F\n",
    "from torch.nn.modules.module import Module\n",
    "from sklearn.preprocessing import OneHotEncoder\n",
    "\n",
    "import numpy as np\n",
    "\n",
    "\n",
    "def normalize_A(A,lmax=2):\n",
    "    A=F.relu(A)\n",
    "    N=A.shape[0]\n",
    "    A=A*(torch.ones(N,N)-torch.eye(N,N))\n",
    "    A=A+A.T\n",
    "    d = torch.sum(A, 1)\n",
    "    d = 1 / torch.sqrt((d + 1e-10))\n",
    "    D = torch.diag_embed(d)\n",
    "    L = torch.eye(N,N)-torch.matmul(torch.matmul(D, A), D)\n",
    "    Lnorm=(2*L/lmax)-torch.eye(N,N)\n",
    "    return Lnorm\n",
    "\n",
    "def normalize_all_A(A):\n",
    "    all_A = []\n",
    "    for adj in A:\n",
    "        all_A.append(normalize_A(adj).detach().numpy())\n",
    "    all_A = np.array(all_A)\n",
    "    all_A = torch.tensor(all_A)\n",
    "    return all_A\n",
    "\n",
    "class GraphConvolution(nn.Module):\n",
    "    def __init__(self, in_channels, out_channels, bias=True):\n",
    "\n",
    "        super(GraphConvolution, self).__init__()\n",
    "        \n",
    "        self.in_channels = in_channels\n",
    "        self.out_channels = out_channels\n",
    "        self.weight = nn.Parameter(torch.FloatTensor(in_channels, out_channels))\n",
    "        nn.init.xavier_normal_(self.weight)\n",
    "        self.bias = None\n",
    "        if bias:\n",
    "            self.bias = nn.Parameter(torch.FloatTensor(out_channels))\n",
    "            nn.init.zeros_(self.bias)\n",
    "\n",
    "    def forward(self, x, adj):\n",
    "        out = torch.matmul(adj, x)\n",
    "        out = torch.matmul(out, self.weight)\n",
    "        if self.bias is not None:\n",
    "            return out + self.bias\n",
    "        else:\n",
    "            return out\n",
    "\n",
    "class GCNLayer(nn.Module):\n",
    "    def __init__(self, in_features, out_features, use_bias=True):\n",
    "        super(GCNLayer, self).__init__()\n",
    "        self.weight = nn.Parameter(torch.FloatTensor(torch.zeros(size=(in_features, out_features))))\n",
    "        if use_bias:\n",
    "            self.bias = nn.Parameter(torch.FloatTensor(torch.zeros(size=(out_features,))))\n",
    "        else:\n",
    "            self.register_parameter('bias', None)\n",
    "\n",
    "        self.initialize_weights()\n",
    "\n",
    "    def initialize_weights(self):\n",
    "        nn.init.xavier_uniform_(self.weight)\n",
    "        if self.bias is not None:\n",
    "            nn.init.zeros_(self.bias)\n",
    "\n",
    "    def forward(self, x, adj):\n",
    "        x = x @ self.weight\n",
    "        if self.bias is not None:\n",
    "            x += self.bias\n",
    "\n",
    "        return torch.matmul(adj, x)\n",
    "        \n",
    "from torch_geometric.nn import GCNConv\n",
    "\n",
    "\n",
    "class Linear(nn.Module):\n",
    "    def __init__(self, in_channels, out_channels, bias=True):\n",
    "        super(Linear, self).__init__()\n",
    "        self.linear = nn.Linear(in_channels, out_channels, bias=bias)\n",
    "        nn.init.xavier_normal_(self.linear.weight)\n",
    "        if bias:\n",
    "            nn.init.zeros_(self.linear.bias)\n",
    "\n",
    "    def forward(self, inputs):\n",
    "        return self.linear(inputs)\n",
    "    \n",
    "\n",
    "import torch\n",
    "import torch.nn as nn\n",
    "import torch.nn.functional as F\n",
    "\n",
    "\n",
    "class GNet(nn.Module):\n",
    "    def __init__(self, in_channels, out_channels):\n",
    "        super(GNet, self).__init__()\n",
    "        self.gc = GCNLayer(in_channels, out_channels)\n",
    "\n",
    "    def forward(self, x, L):\n",
    "        result = self.gc(x, L)\n",
    "        result = F.relu(result)\n",
    "        return result\n",
    "\n",
    "\n",
    "class DGCNN(nn.Module):\n",
    "    def __init__(self, in_channels,num_electrodes, k_adj, out_channels, num_classes=3):\n",
    "        super(DGCNN, self).__init__()\n",
    "        self.K = k_adj\n",
    "        self.layer1 = GNet(in_channels, out_channels)\n",
    "        self.layer2 = GNet(in_channels, out_channels)\n",
    "        self.BN1 = nn.BatchNorm1d(in_channels)\n",
    "        self.fc = Linear(2*num_electrodes*out_channels, num_classes)\n",
    "\n",
    "    def forward(self, x, A1, A2):\n",
    "        #x = self.BN1(x.transpose(1, 2)).transpose(1, 2) #data can also be standardized offline\n",
    "        L1 = normalize_all_A(A1)\n",
    "        L2 = normalize_all_A(A2)\n",
    "        result1 = self.layer1(x, L1)\n",
    "        result2 = self.layer2(x, L2)\n",
    "        result1 = result1.reshape(x.shape[0], -1)\n",
    "        result2 = result2.reshape(x.shape[0], -1)\n",
    "        result = torch.cat((result1, result2), -1)\n",
    "        result = self.fc(result)\n",
    "        return result"
   ]
  },
  {
   "cell_type": "code",
   "execution_count": 1659,
   "id": "3eebc9cd-089e-40a1-b85c-f6f31b5cc0d7",
   "metadata": {},
   "outputs": [],
   "source": [
    "import torch\n",
    "from torch import nn\n",
    "from torch.nn import functional as F\n",
    "from torch.nn.modules.module import Module\n",
    "\n",
    "import numpy as np\n",
    "\n",
    "\n",
    "def normalize_A(A,lmax=2):\n",
    "    A=F.relu(A)\n",
    "    N=A.shape[0]\n",
    "    A=A*(torch.ones(N,N)-torch.eye(N,N))\n",
    "    A=A+A.T\n",
    "    d = torch.sum(A, 1)\n",
    "    d = 1 / torch.sqrt((d + 1e-10))\n",
    "    D = torch.diag_embed(d)\n",
    "    L = torch.eye(N,N)-torch.matmul(torch.matmul(D, A), D)\n",
    "    Lnorm=(2*L/lmax)-torch.eye(N,N)\n",
    "    return Lnorm\n",
    "\n",
    "def normalize_all_A(A):\n",
    "    all_A = []\n",
    "    for adj in A:\n",
    "        all_A.append(normalize_A(adj).detach().numpy())\n",
    "    all_A = np.array(all_A)\n",
    "    all_A = torch.tensor(all_A)\n",
    "    return all_A\n",
    "\n",
    "\n",
    "class GraphConvolution(nn.Module):\n",
    "    def __init__(self, in_channels, out_channels, bias=False):\n",
    "\n",
    "        super(GraphConvolution, self).__init__()\n",
    "\n",
    "        self.in_channels = in_channels\n",
    "        self.out_channels = out_channels\n",
    "        self.weight = nn.Parameter(torch.FloatTensor(in_channels, out_channels))\n",
    "        nn.init.xavier_normal_(self.weight)\n",
    "        self.bias = None\n",
    "        if bias:\n",
    "            self.bias = nn.Parameter(torch.FloatTensor(out_channels))\n",
    "            nn.init.zeros_(self.bias)\n",
    "\n",
    "    def forward(self, x, adj):\n",
    "        out = torch.matmul(adj, x)\n",
    "        out = torch.matmul(out, self.weight)\n",
    "        if self.bias is not None:\n",
    "            return out + self.bias\n",
    "        else:\n",
    "            return out\n",
    "\n",
    "class Linear(nn.Module):\n",
    "    def __init__(self, in_channels, out_channels, bias=True):\n",
    "        super(Linear, self).__init__()\n",
    "        self.linear = nn.Linear(in_channels, out_channels, bias=bias)\n",
    "        nn.init.xavier_normal_(self.linear.weight)\n",
    "        if bias:\n",
    "            nn.init.zeros_(self.linear.bias)\n",
    "\n",
    "    def forward(self, inputs):\n",
    "        return self.linear(inputs)\n",
    "    \n",
    "    \n",
    "import torch\n",
    "import torch.nn as nn\n",
    "import torch.nn.functional as F\n",
    "\n",
    "\n",
    "class Chebynet(nn.Module):\n",
    "    def __init__(self, in_channels, K, out_channels):\n",
    "        super(Chebynet, self).__init__()\n",
    "        self.K = K\n",
    "        self.gc = GraphConvolution( in_channels,  out_channels)\n",
    "\n",
    "    def forward(self, x,L):\n",
    "        result = self.gc(x, L)\n",
    "        result = F.relu(result)\n",
    "        return result\n",
    "\n",
    "\n",
    "class DGCNN(nn.Module):\n",
    "    def __init__(self, in_channels,num_electrodes, out_channels, num_classes=3):\n",
    "        super(DGCNN, self).__init__()\n",
    "        self.layer1 = GNet(in_channels, out_channels)\n",
    "        self.layer2 = GNet(in_channels, out_channels)\n",
    "        self.BN1 = nn.BatchNorm1d(in_channels)\n",
    "        self.fc = Linear(2*num_electrodes*out_channels, num_classes)\n",
    "\n",
    "    def forward(self, x, A1, A2):\n",
    "        L1 = normalize_all_A(A1)\n",
    "        L2 = normalize_all_A(A2)\n",
    "        result1 = self.layer1(x, L1)\n",
    "        result2 = self.layer2(x, L2)\n",
    "        result1 = result1.reshape(x.shape[0], -1)\n",
    "        result2 = result2.reshape(x.shape[0], -1)\n",
    "        result = torch.cat((result1, result2), -1)\n",
    "        result = self.fc(result)\n",
    "        return result"
   ]
  },
  {
   "cell_type": "code",
   "execution_count": 1691,
   "id": "1cacc567-57f2-4de8-ab2a-7da35f269c07",
   "metadata": {},
   "outputs": [],
   "source": [
    "import torch\n",
    "import torch.nn as nn\n",
    "import torch.nn.functional as F\n",
    "\n",
    "\n",
    "\"\"\"\n",
    "    LAYERS: GCNConv and ChebNetConv\n",
    "\"\"\"\n",
    "\n",
    "\n",
    "class GCNConv(nn.Module):\n",
    "    def __init__(self, in_features, out_features):\n",
    "        super(GCNConv, self).__init__()\n",
    "        self.linear = nn.Linear(in_features, out_features, bias=False)\n",
    "\n",
    "    def forward(self, x: torch.Tensor, adjacency_hat: torch.sparse_coo_tensor):\n",
    "        #print(x.shape, adjacency_hat.shape)\n",
    "        x = self.linear(x)\n",
    "        x = torch.matmul(adjacency_hat, x)\n",
    "        return x\n",
    "\n",
    "\n",
    "class ChebNetConv(nn.Module):\n",
    "    def __init__(self, in_features, out_features, k):\n",
    "        super(ChebNetConv, self).__init__()\n",
    "\n",
    "        self.K = k\n",
    "        self.linear = nn.Linear(in_features * k, out_features)\n",
    "\n",
    "    def forward(self, x: torch.Tensor, laplacian: torch.sparse_coo_tensor):\n",
    "        x = self.__transform_to_chebyshev(x, laplacian)\n",
    "        #print(x.shape)\n",
    "        x = self.linear(x)\n",
    "        return x\n",
    "\n",
    "    def __transform_to_chebyshev(self, x, laplacian):\n",
    "        cheb_x = x.unsqueeze(2)\n",
    "        x0 = x\n",
    "\n",
    "        if self.K > 1:\n",
    "            x1 = torch.matmul(laplacian, x0)\n",
    "            cheb_x = torch.cat((cheb_x, x1.unsqueeze(2)), 2)\n",
    "            for _ in range(2, self.K):\n",
    "                x2 = 2 * torch.matmul(laplacian, x1) - x0\n",
    "                cheb_x = torch.cat((cheb_x, x2.unsqueeze(2)), 2)\n",
    "                x0, x1 = x1, x2\n",
    "\n",
    "        cheb_x = cheb_x.reshape([x.shape[0], -1])\n",
    "        #print(cheb_x.shape)\n",
    "        return cheb_x\n",
    "\n",
    "\n",
    "\"\"\"\n",
    "    MODELS\n",
    "\"\"\"\n",
    "\n",
    "\n",
    "class TwoLayerGCN(nn.Module):\n",
    "    def __init__(self, input_size, hidden_size, num_electrodes, out_channels, num_classes, dropout=0.1):\n",
    "        super(TwoLayerGCN, self).__init__()\n",
    "\n",
    "        self.conv1 = GCNConv(input_size, hidden_size)\n",
    "        self.conv2 = GCNConv(hidden_size, out_channels)\n",
    "        self.relu = nn.ReLU()\n",
    "        self.dropout = nn.Dropout(dropout)\n",
    "        self.fc = Linear(336, num_classes)\n",
    "        \n",
    "    def forward(self, x: torch.Tensor, adjacency_hat: torch.sparse_coo_tensor):\n",
    "        x = self.dropout(x)\n",
    "        x = self.conv1(x, adjacency_hat)\n",
    "        x = self.relu(x)\n",
    "        x = self.dropout(x)\n",
    "        x = self.conv2(x, adjacency_hat)\n",
    "        x = x.reshape(x.shape[0], -1)\n",
    "        x = self.fc(x)\n",
    "        return x\n",
    "\n",
    "\n",
    "class GCN(nn.Module):\n",
    "    def __init__(self, input_size, hidden_size, num_electrodes, out_channels, num_classes, num_hidden_layers=0, dropout=0.1, residual=False):\n",
    "        super(GCN, self).__init__()\n",
    "\n",
    "        self.dropout = dropout\n",
    "        self.residual = residual\n",
    "        \n",
    "        self.input_conv = GCNConv(input_size, hidden_size)\n",
    "        self.hidden_convs = nn.ModuleList([GCNConv(hidden_size, hidden_size) for _ in range(num_hidden_layers)])\n",
    "        self.output_conv = GCNConv(hidden_size, out_channels)\n",
    "        self.fc = Linear(336, num_classes)\n",
    "\n",
    "    def forward(self, x: torch.Tensor, adjacency_hat: torch.sparse_coo_tensor):\n",
    "        x = F.dropout(x, p=self.dropout, training=self.training)\n",
    "        x = F.relu(self.input_conv(x, adjacency_hat))\n",
    "        for conv in self.hidden_convs:\n",
    "            if self.residual:\n",
    "                x = F.relu(conv(x, adjacency_hat)) + x\n",
    "            else:\n",
    "                x = F.relu(conv(x, adjacency_hat))\n",
    "        x = F.dropout(x, p=self.dropout, training=self.training)\n",
    "        x = self.output_conv(x, adjacency_hat)\n",
    "        x = x.reshape(x.shape[0], -1)\n",
    "        x = self.fc(x)\n",
    "        return x\n",
    "\n",
    "\n",
    "class TwoLayerChebNet(nn.Module):\n",
    "    def __init__(self, input_size, hidden_size, num_electrodes, out_channels, num_classes, dropout=0.1, k=2):\n",
    "        super(TwoLayerChebNet, self).__init__()\n",
    "\n",
    "        self.conv1 = ChebNetConv(input_size, hidden_size, k)\n",
    "        self.conv2 = ChebNetConv(hidden_size, out_channels, k)\n",
    "        self.relu = nn.ReLU()\n",
    "        self.dropout = nn.Dropout(dropout)\n",
    "        self.fc = Linear(336, num_classes)\n",
    "\n",
    "    def forward(self, x: torch.Tensor, laplacian: torch.sparse_coo_tensor):\n",
    "        x = self.dropout(x)\n",
    "        x = self.conv1(x, laplacian)\n",
    "        x = self.relu(x)\n",
    "        x = self.dropout(x)\n",
    "        x = self.conv2(x, laplacian)\n",
    "        x = x.reshape(x.shape[0], -1)\n",
    "        x = self.fc(x)\n",
    "        return x\n",
    "\n",
    "\n",
    "class ChebNetGCN(nn.Module):\n",
    "    def __init__(self, input_size, hidden_size, num_electrodes, out_channels, num_hidden_layers=0, dropout=0.1, residual=False, k=2):\n",
    "        super(ChebNetGCN, self).__init__()\n",
    "\n",
    "        self.dropout = dropout\n",
    "        self.residual = residual\n",
    "\n",
    "        self.input_conv = ChebNetConv(21*input_size, hidden_size, k)\n",
    "        self.hidden_convs = nn.ModuleList([ChebNetConv(hidden_size, hidden_size, k) for _ in range(num_hidden_layers)])\n",
    "        self.output_conv = ChebNetConv(21*hidden_size, out_channels, k)\n",
    "        \n",
    "        #self.fc = Linear(21, num_classes)\n",
    "        \n",
    "    def forward(self, x: torch.Tensor, laplacian: torch.sparse_coo_tensor):\n",
    "        #x = F.dropout(x, p=self.dropout, training=self.training)\n",
    "        #print(x.shape, laplacian.shape)\n",
    "        x = F.relu(self.input_conv(x, laplacian))\n",
    "        for conv in self.hidden_convs:\n",
    "            if self.residual:\n",
    "                x = F.relu(conv(x, laplacian)) + x\n",
    "            else:\n",
    "                x = F.relu(conv(x, laplacian))\n",
    "        #x = F.dropout(x, p=self.dropout, training=self.training)\n",
    "        #print(x.shape, laplacian.shape)\n",
    "        #x = self.output_conv(x, laplacian)\n",
    "        x = x.reshape(x.shape[0], -1)\n",
    "        #x = self.fc(x)\n",
    "        return x\n",
    "    \n",
    "    \n",
    "class DGCNN(nn.Module):\n",
    "    def __init__(self, in_channels, num_electrodes, out_channels, num_classes=2):\n",
    "        super(DGCNN, self).__init__()\n",
    "        self.layer1 = ChebNetGCN(in_channels, 32, 21, 16)\n",
    "        self.layer2 = ChebNetGCN(in_channels, 32, 21, 16)\n",
    "        self.BN1 = nn.BatchNorm1d(in_channels)\n",
    "        self.fc = Linear(64, num_classes)\n",
    "\n",
    "    def forward(self, x, A1, A2):\n",
    "        result1 = self.layer1(x, A1)\n",
    "        result2 = self.layer2(x, A2)\n",
    "        result = torch.cat((result1, result2), -1)\n",
    "        result = self.fc(result)\n",
    "        return result"
   ]
  },
  {
   "cell_type": "code",
   "execution_count": 1661,
   "id": "93679f4d-89ac-4d8c-9f98-bf3a9a3ec577",
   "metadata": {},
   "outputs": [],
   "source": [
    "def data_loader(features, graphs1, graphs2, labels, device, batch_size, shuffle=True):\n",
    "    features, graphs1, graphs2, labels = torch.Tensor(features), torch.Tensor(graphs1), torch.Tensor(graphs2), torch.Tensor(labels)\n",
    "    data = torch.utils.data.TensorDataset(features, graphs1, graphs2, labels)\n",
    "    del features\n",
    "    del labels\n",
    "    data_iter = torch.utils.data.DataLoader(data, batch_size, shuffle=shuffle)\n",
    "    del data\n",
    "    return data_iter"
   ]
  },
  {
   "cell_type": "code",
   "execution_count": 1666,
   "id": "fb3fc1a4-eb42-48b1-ac3f-ce31ebff2e8e",
   "metadata": {
    "tags": []
   },
   "outputs": [],
   "source": [
    "%%capture\n",
    "from tqdm import tqdm\n",
    "import torch.nn as nn\n",
    "from sklearn.model_selection import KFold\n",
    "from sklearn.preprocessing import OneHotEncoder\n",
    "import torch\n",
    "\n",
    "NUM_EPOCHS = 1000\n",
    "NUM_CHANNELS = 21\n",
    "NUM_CLASSES = 2\n",
    "NUM_NODE_FEATURES = 45\n",
    "BATCH_SIZE = 128\n",
    "DEVICE = torch.device(\"cpu\")\n",
    "\n",
    "loss_func = nn.BCEWithLogitsLoss()\n",
    "\n",
    "all_train_losses = []\n",
    "all_val_losses = []\n",
    "all_train_f1 = []\n",
    "all_val_f1 = []\n",
    "\n",
    "skf = KFold(n_splits=5, shuffle=True)\n",
    "skf.get_n_splits(train_X, train_y)\n",
    "\n",
    "print(\"Training Model....\")\n",
    "for i, (train_index, val_index) in enumerate(skf.split(train_X, train_y)):\n",
    "    print(\"KFold \", i)\n",
    "    #model = DGCNN(in_channels=NUM_NODE_FEATURES,\n",
    "    #              num_electrodes=NUM_CHANNELS, \n",
    "    #              k_adj=2, \n",
    "    #              out_channels=32, \n",
    "    #              num_classes=NUM_CLASSES)\n",
    "    #model = DGCNN(NUM_NODE_FEATURES, NUM_CHANNELS, 8, 8, NUM_CLASSES)\n",
    "    model = DGCNN(in_channels=NUM_NODE_FEATURES, \n",
    "              num_electrodes=NUM_CHANNELS, \n",
    "              out_channels=8, \n",
    "              num_classes=NUM_CLASSES)\n",
    "    \n",
    "    optimizer = torch.optim.Adam(model.parameters(), lr=1e-4)\n",
    "\n",
    "    train_X_subset = train_X[train_index]\n",
    "    train_y_subset = train_y[train_index]\n",
    "    train_graphs_subset = train_graphs[train_index]\n",
    "    train_corr_graphs_subset = train_corr_graphs[train_index]\n",
    "    val_X = train_X[val_index]\n",
    "    val_y = train_y[val_index]\n",
    "    val_graphs_subset = train_graphs[val_index]\n",
    "    val_corr_graphs_subset = train_corr_graphs[val_index]\n",
    "    \n",
    "    encoder = OneHotEncoder()\n",
    "    train_y_subset = encoder.fit_transform(train_y_subset).toarray()\n",
    "    val_y = encoder.fit_transform(val_y).toarray()\n",
    "\n",
    "    batch_size = 128\n",
    "    train_iter = data_loader(train_X_subset ,train_graphs_subset, train_corr_graphs_subset, train_y_subset, DEVICE, BATCH_SIZE, shuffle=True)\n",
    "    val_iter = data_loader(val_X, val_graphs_subset, val_corr_graphs_subset, val_y, DEVICE, BATCH_SIZE, shuffle=False)\n",
    "\n",
    "    kfold_train_loss = []\n",
    "    kfold_val_loss = []\n",
    "    kfold_train_f1 = []\n",
    "    kfold_val_f1 = []\n",
    "    for epoch in tqdm(range(1, NUM_EPOCHS + 1)):\n",
    "        print(\"Epoch\", epoch) \n",
    "        loss_sum, n = 0.0, 0\n",
    "        model.train()\n",
    "        for t, (x, A1, A2, y) in enumerate(train_iter):\n",
    "            optimizer.zero_grad()\n",
    "            x = x.float()\n",
    "            A1 = A1.float()\n",
    "            A2 = A2.float()\n",
    "            y_pred = model(x, A1, A2)\n",
    "            loss = loss_func(y_pred, y)\n",
    "            loss_sum += loss#.item()\n",
    "            loss.backward()\n",
    "            optimizer.step()\n",
    "\n",
    "        train_f1 = cal_accuracy(model, train_iter)[-1]\n",
    "        val_f1 = cal_accuracy(model, val_iter)[-1]\n",
    "        print(\"train loss: \", train_loss, \", val loss: \", val_loss)\n",
    "        #kfold_train_loss.append(train_loss)\n",
    "        #kfold_val_loss.append(val_loss)\n",
    "        kfold_train_f1.append(train_f1)\n",
    "        kfold_val_f1.append(val_f1)\n",
    "\n",
    "    #all_train_losses.append(kfold_train_loss)\n",
    "    #all_val_losses.append(kfold_val_loss)\n",
    "    all_train_f1.append(kfold_train_f1)\n",
    "    all_val_f1.append(kfold_val_f1)"
   ]
  },
  {
   "cell_type": "code",
   "execution_count": 1667,
   "id": "0264b965-6936-4c8a-a886-bb75e3082879",
   "metadata": {},
   "outputs": [
    {
     "name": "stderr",
     "output_type": "stream",
     "text": [
      "No artists with labels found to put in legend.  Note that artists whose label start with an underscore are ignored when legend() is called with no argument.\n"
     ]
    },
    {
     "data": {
      "image/png": "[encoded data removed]",
      "text/plain": [
       "<Figure size 640x480 with 1 Axes>"
      ]
     },
     "metadata": {},
     "output_type": "display_data"
    }
   ],
   "source": [
    "all_val_f1 = np.moveaxis(np.array(all_val_f1), 0, 1)\n",
    "all_train_f1 = np.moveaxis(np.array(all_train_f1), 0, 1)\n",
    "plt.plot(all_train_f1, color='blue')\n",
    "plt.plot(all_val_f1, color='orange')\n",
    "plt.xlabel(\"Epochs\")\n",
    "plt.xticks(range(0, 1000, 100), range(0, 1000, 100))\n",
    "plt.ylabel(\"loss\")\n",
    "plt.legend(loc=\"upper right\")\n",
    "plt.show()"
   ]
  },
  {
   "cell_type": "code",
   "execution_count": 1692,
   "id": "4928295c-9fef-4e04-9f64-b8640d824030",
   "metadata": {},
   "outputs": [
    {
     "name": "stdout",
     "output_type": "stream",
     "text": [
      "Training Model....\n"
     ]
    },
    {
     "name": "stderr",
     "output_type": "stream",
     "text": [
      "100%|█████████████████████████████████████████████████████████████████████████████████████| 500/500 [00:34<00:00, 14.35it/s]\n"
     ]
    }
   ],
   "source": [
    "#%%capture\n",
    "from sklearn.preprocessing import OneHotEncoder\n",
    "DEVICE = torch.device(\"cpu\")\n",
    "\n",
    "print(\"Training Model....\")\n",
    "NUM_EPOCHS = 500\n",
    "NUM_CHANNELS = 21\n",
    "NUM_CLASSES = 2\n",
    "NUM_NODE_FEATURES = 45\n",
    "BATCH_SIZE = 128\n",
    "\n",
    "model = DGCNN(in_channels=NUM_NODE_FEATURES, \n",
    "              num_electrodes=NUM_CHANNELS, \n",
    "              out_channels=8, \n",
    "              num_classes=NUM_CLASSES)\n",
    "\n",
    "loss_func = nn.BCEWithLogitsLoss()\n",
    "optimizer = torch.optim.Adam(model.parameters(), lr=1e-4)\n",
    "\n",
    "encoder = OneHotEncoder()\n",
    "train_y_ohe = encoder.fit_transform(train_y).toarray()\n",
    "test_y_ohe = encoder.fit_transform(test_y).toarray()\n",
    "    \n",
    "train_iter = data_loader(train_X , train_graphs, train_corr_graphs, train_y_ohe, DEVICE, BATCH_SIZE, shuffle=True)\n",
    "test_iter = data_loader(test_X , test_graphs, test_corr_graphs, test_y_ohe, DEVICE, BATCH_SIZE, shuffle=False)\n",
    "  \n",
    "for epoch in tqdm(range(1, NUM_EPOCHS + 1)):\n",
    "    loss_sum, n = 0.0, 0\n",
    "    model.train()\n",
    "    for t, (x, A1, A2, y) in enumerate(train_iter):\n",
    "        optimizer.zero_grad()\n",
    "        x = x.float()\n",
    "        A1 = A1.float()\n",
    "        A2 = A2.float()\n",
    "        y_pred = model(x, A1, A2)\n",
    "        loss = loss_func(y_pred, y)\n",
    "        loss_sum += loss#.item()\n",
    "        loss.backward()\n",
    "        optimizer.step()"
   ]
  },
  {
   "cell_type": "code",
   "execution_count": 2451,
   "id": "5b1f91e7-a1ad-4453-aeec-3e897b8fe7ed",
   "metadata": {},
   "outputs": [
    {
     "data": {
      "text/plain": [
       "(2232, 1)"
      ]
     },
     "execution_count": 2451,
     "metadata": {},
     "output_type": "execute_result"
    }
   ],
   "source": [
    "train_y.shape"
   ]
  },
  {
   "cell_type": "code",
   "execution_count": 1665,
   "id": "9aee9fec-6090-4338-a7b2-e400f138de60",
   "metadata": {},
   "outputs": [],
   "source": [
    "from sklearn.metrics import accuracy_score, confusion_matrix, f1_score, precision_score, recall_score, auc, roc_auc_score\n",
    "    \n",
    "def cal_accuracy(model, data_iter):\n",
    "    ytrue = []\n",
    "    ypreds = []\n",
    "    y_score = []\n",
    "    model.eval()\n",
    "    with torch.no_grad():\n",
    "        for x, A1, A2, y in data_iter:\n",
    "            x = x.float()\n",
    "            A1 = A1.float()\n",
    "            A2 = A2.float()\n",
    "            yhat = model(x, A1, A2)\n",
    "            \n",
    "            #yhat = [0 if i<0.5 else 1 for i in yhat]\n",
    "            #yhat = torch.exp(yhat)\n",
    "            yhat_labels = np.argmax(yhat, -1)\n",
    "            y_labels = np.argmax(y, -1)\n",
    "            \n",
    "            y_score.extend(np.max(F.softmax(yhat, dim=1).numpy(), -1))\n",
    "            ytrue.extend(list(y_labels.numpy()))\n",
    "            ypreds.extend([int(yhat_i) for yhat_i in yhat_labels])\n",
    "    \n",
    "    #fpr, tpr, thresholds = roc_curve(ytrue, y_score)\n",
    "    #auc_measure = auc(fpr, tpr)\n",
    "    return (accuracy_score(ytrue, ypreds), \n",
    "            confusion_matrix(ytrue, ypreds), \n",
    "            precision_score(ytrue, ypreds,  average='weighted'), \n",
    "            recall_score(ytrue, ypreds,  average='weighted'),\n",
    "            f1_score(ytrue, ypreds,  average='weighted'))"
   ]
  },
  {
   "cell_type": "code",
   "execution_count": 1693,
   "id": "90a743c6-76bd-4d24-b751-2aa9d0d1525f",
   "metadata": {},
   "outputs": [
    {
     "name": "stdout",
     "output_type": "stream",
     "text": [
      "Accuracy:  0.900089605734767\n",
      "Precision:  0.8939365076832771\n",
      "Recall:  0.900089605734767\n",
      "F1:  0.8891270303751577\n",
      "Confusion Matrix:  [[1838   39]\n",
      " [ 184  171]]\n"
     ]
    }
   ],
   "source": [
    "train_acc = cal_accuracy(model, train_iter)\n",
    "print(\"Accuracy: \", train_acc[0])\n",
    "print(\"Precision: \", train_acc[2])\n",
    "print(\"Recall: \", train_acc[3])\n",
    "print(\"F1: \", train_acc[4])\n",
    "print(\"Confusion Matrix: \", train_acc[1])"
   ]
  },
  {
   "cell_type": "code",
   "execution_count": 1694,
   "id": "2f624782-5cf1-46ed-8b85-de8ecc8436d2",
   "metadata": {},
   "outputs": [
    {
     "name": "stdout",
     "output_type": "stream",
     "text": [
      "Accuracy:  0.7621621621621621\n",
      "Precision:  0.7623754833057159\n",
      "Recall:  0.7621621621621621\n",
      "F1:  0.7619113959320144\n",
      "Confusion Matrix:  [[75 20]\n",
      " [24 66]]\n"
     ]
    }
   ],
   "source": [
    "test_acc = cal_accuracy(model, test_iter)\n",
    "print(\"Accuracy: \", test_acc[0])\n",
    "print(\"Precision: \", test_acc[2])\n",
    "print(\"Recall: \", test_acc[3])\n",
    "print(\"F1: \", test_acc[4])\n",
    "print(\"Confusion Matrix: \", test_acc[1])"
   ]
  },
  {
   "cell_type": "code",
   "execution_count": null,
   "id": "92d15bb0-49ec-42db-8e86-11a787b06c4e",
   "metadata": {},
   "outputs": [],
   "source": [
    "Accuracy:  0.8108108108108109\n",
    "Precision:  0.815856875262816\n",
    "Recall:  0.8108108108108109\n",
    "F1:  0.8104455913985295\n",
    "Confusion Matrix:  [[72 23]\n",
    "                    [12 78]]"
   ]
  }
 ],
 "metadata": {
  "kernelspec": {
   "display_name": "Python 3 (ipykernel)",
   "language": "python",
   "name": "python3"
  },
  "language_info": {
   "codemirror_mode": {
    "name": "ipython",
    "version": 3
   },
   "file_extension": ".py",
   "mimetype": "text/x-python",
   "name": "python",
   "nbconvert_exporter": "python",
   "pygments_lexer": "ipython3",
   "version": "3.10.4"
  }
 },
 "nbformat": 4,
 "nbformat_minor": 5
}
