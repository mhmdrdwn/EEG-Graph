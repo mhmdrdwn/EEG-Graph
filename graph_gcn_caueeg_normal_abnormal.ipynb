{
 "cells": [
  {
   "cell_type": "code",
   "execution_count": 1,
   "id": "5dc45f56-9d05-497a-9f13-e1c3483d593a",
   "metadata": {},
   "outputs": [
    {
     "name": "stdout",
     "output_type": "stream",
     "text": [
      "abnormal-no-overlap.json annotation.xlsx          dementia.json\n",
      "abnormal.json            \u001b[34mconn_data\u001b[m\u001b[m                \u001b[34mevent\u001b[m\u001b[m\n",
      "annotation.json          dementia-no-overlap.json \u001b[34msignal\u001b[m\u001b[m\n"
     ]
    }
   ],
   "source": [
    "!ls ../caueeg/"
   ]
  },
  {
   "cell_type": "code",
   "execution_count": 2,
   "id": "cca5aa8a-bcf2-4093-925d-b260b21c45e8",
   "metadata": {},
   "outputs": [],
   "source": [
    "import json\n",
    "f = open('../caueeg/abnormal.json')\n",
    "data_files = json.load(f)\n",
    "f.close()"
   ]
  },
  {
   "cell_type": "code",
   "execution_count": 3,
   "id": "0a70d27a-16c0-47a6-a412-af6070528dea",
   "metadata": {},
   "outputs": [
    {
     "data": {
      "text/plain": [
       "{'serial': '01258',\n",
       " 'age': 77,\n",
       " 'symptom': ['dementia', 'vd', 'sivd'],\n",
       " 'class_name': 'Abnormal',\n",
       " 'class_label': 1}"
      ]
     },
     "execution_count": 3,
     "metadata": {},
     "output_type": "execute_result"
    }
   ],
   "source": [
    "data_files[\"train_split\"][0]"
   ]
  },
  {
   "cell_type": "code",
   "execution_count": 4,
   "id": "7d002a1e-5d1e-4058-a111-8a910a7099fa",
   "metadata": {},
   "outputs": [],
   "source": [
    "idx2label = {}\n",
    "for file_idx in data_files[\"train_split\"]:\n",
    "    idx2label[file_idx[\"serial\"]] = file_idx[\"class_label\"]\n",
    "for file_idx in data_files[\"test_split\"]:\n",
    "    idx2label[file_idx[\"serial\"]] = file_idx[\"class_label\"]\n",
    "for file_idx in data_files[\"validation_split\"]:\n",
    "    idx2label[file_idx[\"serial\"]] = file_idx[\"class_label\"]"
   ]
  },
  {
   "cell_type": "code",
   "execution_count": 5,
   "id": "4ac832cb-d3f7-4376-a2a8-70ccae71b1f9",
   "metadata": {},
   "outputs": [
    {
     "data": {
      "text/plain": [
       "1107"
      ]
     },
     "execution_count": 5,
     "metadata": {},
     "output_type": "execute_result"
    }
   ],
   "source": [
    "len(data_files[\"train_split\"])"
   ]
  },
  {
   "cell_type": "code",
   "execution_count": 6,
   "id": "8a096cad-8492-4a4d-9d06-18e988fbe02b",
   "metadata": {},
   "outputs": [
    {
     "data": {
      "text/plain": [
       "136"
      ]
     },
     "execution_count": 6,
     "metadata": {},
     "output_type": "execute_result"
    }
   ],
   "source": [
    "len(data_files[\"test_split\"])"
   ]
  },
  {
   "cell_type": "code",
   "execution_count": 7,
   "id": "90092c14-600d-41ff-af89-5ebb750afa11",
   "metadata": {},
   "outputs": [
    {
     "data": {
      "text/plain": [
       "136"
      ]
     },
     "execution_count": 7,
     "metadata": {},
     "output_type": "execute_result"
    }
   ],
   "source": [
    "len(data_files[\"validation_split\"])"
   ]
  },
  {
   "cell_type": "code",
   "execution_count": 8,
   "id": "3feaa573-0e62-45a1-b577-2ca55aa7e112",
   "metadata": {},
   "outputs": [
    {
     "name": "stdout",
     "output_type": "stream",
     "text": [
      "1379\n"
     ]
    }
   ],
   "source": [
    "import glob, os\n",
    "files = []\n",
    "for file in glob.glob(\"../caueeg/signal/edf/*.edf\"):\n",
    "    files.append(file)\n",
    "print(len(files))"
   ]
  },
  {
   "cell_type": "code",
   "execution_count": 9,
   "id": "12fab039-f33b-45f3-8669-f9e926d4c3bb",
   "metadata": {},
   "outputs": [
    {
     "name": "stdout",
     "output_type": "stream",
     "text": [
      "136\n",
      "1243\n"
     ]
    }
   ],
   "source": [
    "import glob, os\n",
    "test_data_files = []\n",
    "for file_name in data_files[\"test_split\"]:\n",
    "    test_data_files.append(\"../caueeg/signal/edf/\"+file_name[\"serial\"]+\".edf\")\n",
    "print(len(test_data_files))\n",
    "\n",
    "train_data_files = []\n",
    "for file_name in data_files[\"train_split\"]:\n",
    "    train_data_files.append(\"../caueeg/signal/edf/\"+file_name[\"serial\"]+\".edf\")\n",
    "for file_name in data_files[\"validation_split\"]:\n",
    "    train_data_files.append(\"../caueeg/signal/edf/\"+file_name[\"serial\"]+\".edf\")\n",
    "print(len(train_data_files))"
   ]
  },
  {
   "cell_type": "code",
   "execution_count": 10,
   "id": "e5dfbe3f-39e9-4c8e-8ca8-3145cf627c48",
   "metadata": {},
   "outputs": [
    {
     "name": "stderr",
     "output_type": "stream",
     "text": [
      "/Users/mohamedr/opt/anaconda3/envs/xai/lib/python3.10/site-packages/tqdm/auto.py:22: TqdmWarning: IProgress not found. Please update jupyter and ipywidgets. See https://ipywidgets.readthedocs.io/en/stable/user_install.html\n",
      "  from .autonotebook import tqdm as notebook_tqdm\n"
     ]
    }
   ],
   "source": [
    "import torch\n",
    "from torch import nn\n",
    "from torch.nn import functional as F\n",
    "from torch.nn.modules.module import Module\n",
    "from sklearn.preprocessing import OneHotEncoder"
   ]
  },
  {
   "cell_type": "code",
   "execution_count": 11,
   "id": "8c6817e2-4c6f-4dc4-902b-cebc373f0ee8",
   "metadata": {
    "tags": []
   },
   "outputs": [
    {
     "name": "stdout",
     "output_type": "stream",
     "text": [
      "Using data from preloaded Raw for 917 events and 200 original time points ...\n",
      "0 bad epochs dropped\n"
     ]
    },
    {
     "data": {
      "text/plain": [
       "(917, 21, 200)"
      ]
     },
     "execution_count": 11,
     "metadata": {},
     "output_type": "execute_result"
    }
   ],
   "source": [
    "import mne\n",
    "import numpy as np\n",
    "\n",
    "file = train_data_files[0]\n",
    "data = mne.io.read_raw(file, verbose=False, preload=True)\n",
    "\n",
    "data.filter(l_freq=0.5, h_freq=47, verbose=False)\n",
    "data = mne.make_fixed_length_epochs(data, duration=1, overlap=0, verbose=False)\n",
    "ch_names = data.ch_names\n",
    "data = data.get_data()*1e6\n",
    "data.shape"
   ]
  },
  {
   "cell_type": "code",
   "execution_count": 12,
   "id": "f6335aaa-894e-47cd-9211-049856725c6d",
   "metadata": {},
   "outputs": [],
   "source": [
    "import mne\n",
    "from tqdm import tqdm\n",
    "from statsmodels.tsa.stattools import grangercausalitytests\n",
    "import random\n",
    "import numpy as np\n",
    "from scipy.signal import savgol_filter\n",
    "from scipy import signal\n",
    "import cv2\n",
    "from numpy import *\n",
    "from scipy.stats import iqr\n",
    "from scipy.integrate import simps\n",
    "from scipy.stats import entropy\n",
    "from scipy.signal import medfilt\n",
    "from scipy.stats import differential_entropy, norm\n",
    "from scipy import fftpack\n",
    "import antropy as ant\n",
    "\n",
    "\n",
    "def calcGrangerCausality(eegData,ii,jj):\n",
    "    #eegData = np.diff(eegData)\n",
    "    gc_avg = []\n",
    "    for epoch_idx, epoch in enumerate(eegData):\n",
    "        if epoch_idx%2 == 0:\n",
    "            X = np.vstack([epoch[ii,:],epoch[jj,:]]).T\n",
    "            gc = grangercausalitytests(X, 1, addconst=True, verbose=False)[1][0]['ssr_ftest'][0]\n",
    "            gc_avg.append(gc)\n",
    "    gc_avg = np.mean(gc_avg)\n",
    "    return gc_avg\n",
    "\n",
    "def get_label(file):\n",
    "    idx = file.split(\"/\")[-1][:-4]\n",
    "    label = idx2label[idx]\n",
    "    if label == 0:\n",
    "        return [0]\n",
    "    elif label == 1:\n",
    "        return [1]\n",
    "\n",
    "\n",
    "def lyapunov(x):\n",
    "    return np.mean(np.log(np.abs(np.gradient(x))))\n",
    "\n",
    "\n",
    "def build_data(raw_data, cal_conn=False, bands=False):\n",
    "    \n",
    "    eeg_data = []\n",
    "    labels = []\n",
    "    lengths = []\n",
    "    groups = []\n",
    "    i = 0\n",
    "    fs = 100\n",
    "    \n",
    "    data_features = []\n",
    "    data_labels = []\n",
    "    data_graphs = []\n",
    "    \n",
    "    for file in tqdm(raw_data):\n",
    "        \n",
    "        #get label\n",
    "        label = get_label(file)\n",
    "        data_labels.append(label)\n",
    "        \n",
    "        #node features\n",
    "        sample_features = []\n",
    "        data = mne.io.read_raw(file, verbose=False, preload=True)\n",
    "        ch_names = data.ch_names\n",
    "        data.resample(sfreq=100)\n",
    "        data.filter(l_freq=0.5, h_freq=40, verbose=False).resample(sfreq=fs)\n",
    "        data_epochs = mne.make_fixed_length_epochs(data, duration=1, overlap=0, verbose=False)\n",
    "        data = data.get_data()#[:, :20000]\n",
    "        data_epochs = data_epochs.get_data()\n",
    "        if data_epochs.shape[0] > 100:\n",
    "            data_epochs = data_epochs[:100]\n",
    "        \n",
    "        \n",
    "        if cal_conn:\n",
    "            gc = []\n",
    "            for i in range(21):\n",
    "                gc1 = []\n",
    "                for j in range(21):\n",
    "                    gc1.append(calcGrangerCausality(data_epochs, i, j))\n",
    "                gc.append(gc1)\n",
    "        \n",
    "            gc1 = (np.array(gc) + np.array(gc).T)/2\n",
    "            gc2 = (np.array(gc) - np.array(gc).T)/2\n",
    "            data_graphs.append([gc1, gc2])    \n",
    "        \n",
    "        \n",
    "        ch_features = []    \n",
    "        # freq domain features\n",
    "        sf = 256\n",
    "        win = 4 * sf # win size 4 seconds * sampling freq\n",
    "        # delta (0.5–4 Hz), theta (4–8 Hz), alpha (8–13 Hz), beta (13–30 Hz), and gamma (30–... Hz).\n",
    "        freq_ranges = [[0.5, 4], [4, 8], [8, 13], [13, 30], [30, 47]]\n",
    "        for ch in data:\n",
    "            \n",
    "            ch_features.append(differential_entropy(ch))\n",
    "        \n",
    "            ly = lyapunov(ch)\n",
    "            ch_features.append(ly)\n",
    "        \n",
    "            entropy = ant.perm_entropy(ch, normalize=True)\n",
    "            ch_features.append(entropy)\n",
    "        \n",
    "            entropy = ant.spectral_entropy(ch, sf=100, method='welch', normalize=True)\n",
    "            ch_features.append(entropy)\n",
    "        \n",
    "            mobility = ant.hjorth_params(ch)\n",
    "            ch_features.append(mobility[0])\n",
    "            ch_features.append(mobility[1])\n",
    "        \n",
    "            zero_cross_count = ant.num_zerocross(ch)\n",
    "            ch_features.append(zero_cross_count)\n",
    "            \n",
    "            \n",
    "            if bands:\n",
    "                # freq domain features\n",
    "                for freq_band in freq_ranges:\n",
    "                \n",
    "                    # differential entropy\n",
    "                    sos = signal.butter(10, (freq_band[0], freq_band[1]), 'bandpass', fs=1000, output='sos')\n",
    "                    filtered_ch = signal.sosfilt(sos, ch) \n",
    "                    ch_features.append(differential_entropy(filtered_ch))\n",
    "\n",
    "                    # lyapunov features\n",
    "                    ch_features.append(lyapunov(filtered_ch))\n",
    "\n",
    "                    # Permutation entropy\n",
    "                    entropy = ant.perm_entropy(filtered_ch, normalize=True)\n",
    "                    ch_features.append(entropy)\n",
    "\n",
    "                    # Spectral entropy\n",
    "                    entropy = ant.spectral_entropy(filtered_ch, sf=100, method='welch', normalize=True)\n",
    "                    ch_features.append(entropy)\n",
    "\n",
    "                    # Hjorth mobility and complexity\n",
    "                    mobility = ant.hjorth_params(filtered_ch)\n",
    "                    ch_features.append(mobility[0])\n",
    "                    ch_features.append(mobility[1])\n",
    "\n",
    "                    corr = np.correlate(filtered_ch, filtered_ch)\n",
    "                    ch_features.append(corr[0])\n",
    "\n",
    "                    # Number of zero-crossings\n",
    "                    zero_cross_count = ant.num_zerocross(filtered_ch)\n",
    "                    ch_features.append(zero_cross_count)\n",
    "\n",
    "                    # power spectrum\n",
    "                    freqs, psd = signal.welch(ch, sf, nperseg=win)\n",
    "                    idx_freq_band = np.logical_and(freqs >= freq_band[0], freqs < freq_band[1])\n",
    "                    # Frequency resolution\n",
    "                    freq_res = freqs[1] - freqs[0]  # = 1 / 4 = 0.25\n",
    "                    # Compute the absolute power by approximating the area under the curve\n",
    "                    band_power = simps(psd[idx_freq_band], dx=freq_res)\n",
    "                    #power_band_.append(band_power)\n",
    "                    ch_features.append(band_power)\n",
    "                \n",
    "            \n",
    "            sample_features.append(ch_features)\n",
    "            ch_features = []\n",
    "            \n",
    "        data_features.append(sample_features)\n",
    "        \n",
    "    data_features = np.array(data_features)\n",
    "    data_labels = np.array(data_labels)\n",
    "    data_graphs = np.array(data_graphs)\n",
    "    \n",
    "    return data_features, data_graphs, data_labels"
   ]
  },
  {
   "cell_type": "code",
   "execution_count": 482,
   "id": "10f8e8ef-05de-4ada-96cd-2bb37b030463",
   "metadata": {
    "tags": []
   },
   "outputs": [],
   "source": [
    "%%capture\n",
    "np.random.seed(42)\n",
    "train_X, train_graphs, train_y = build_data(train_data_files)\n",
    "test_X, test_graphs, test_y = build_data(test_data_files)"
   ]
  },
  {
   "cell_type": "code",
   "execution_count": 113,
   "id": "aad832ad-4de0-48fd-8484-ac6746630ab1",
   "metadata": {},
   "outputs": [
    {
     "data": {
      "text/plain": [
       "((136, 21, 52),\n",
       " (1243, 21, 52),\n",
       " (1243, 2, 21, 21),\n",
       " (136, 1),\n",
       " (1243, 1),\n",
       " (136, 2, 21, 21))"
      ]
     },
     "execution_count": 113,
     "metadata": {},
     "output_type": "execute_result"
    }
   ],
   "source": [
    "test_X.shape, train_X.shape, train_graphs.shape, test_y.shape, train_y.shape, test_graphs.shape"
   ]
  },
  {
   "cell_type": "code",
   "execution_count": 83,
   "id": "4f5210a0-d246-4b98-ac39-889c7f0b5c94",
   "metadata": {},
   "outputs": [],
   "source": [
    "import copy\n",
    "\n",
    "def uniform_all_data(train_graphs, test_graphs):\n",
    "    out_train = copy.deepcopy(train_graphs)\n",
    "    out_test = copy.deepcopy(test_graphs)\n",
    "\n",
    "    \n",
    "    min_A = train_graphs.min()\n",
    "    max_A = train_graphs.max()\n",
    "    out_train = (train_graphs - min_A)/(max_A - min_A)\n",
    "    out_test = (test_graphs - min_A)/(max_A - min_A)\n",
    "\n",
    "    return out_train, out_test\n",
    "\n",
    "\n",
    "def uniform_separate_A(train_graphs):\n",
    "    out_normalized = copy.deepcopy(train_graphs)\n",
    "\n",
    "    for i, A in enumerate(train_graphs):\n",
    "        \n",
    "        for j, feat in enumerate(A):\n",
    "            min_A = train_graphs[i, j].min()\n",
    "            max_A = train_graphs[i, j].max()\n",
    "    \n",
    "            out_normalized[i, j] = (train_graphs[i, j] - min_A)/(max_A - min_A)\n",
    "\n",
    "    return out_normalized\n",
    "\n",
    "import copy\n",
    "\n",
    "def uniform(graphs):\n",
    "    out = copy.deepcopy(graphs)\n",
    "\n",
    "    min_A = graphs.min()\n",
    "    max_A = graphs.max()\n",
    "    out = (graphs - min_A)/(max_A - min_A)\n",
    "\n",
    "    return out"
   ]
  },
  {
   "cell_type": "code",
   "execution_count": 82,
   "id": "2022386b-1f5b-4555-ac96-8ea27a5f94f1",
   "metadata": {},
   "outputs": [],
   "source": [
    "#np.save(\"../caueeg_features/conn_data/gc/train_X.npy\", train_X)\n",
    "#np.save(\"../caueeg_features/conn_data/gc/test_X.npy\", test_X)\n",
    "#np.save(\"../caueeg_features/conn_data/gc/train_y.npy\", train_y)\n",
    "#np.save(\"../caueeg_features/conn_data/gc/test_y.npy\", test_y)\n",
    "#np.save(\"../caueeg_features/conn_data/gc/train_graphs1.npy\", train_graphs)\n",
    "#np.save(\"../caueeg_features/conn_data/gc/test_graphs1.npy\", test_graphs)\n",
    "\n",
    "train_X = np.load(\"../caueeg_features/conn_data/gc/train_X.npy\")\n",
    "test_X = np.load(\"../caueeg_features/conn_data/gc/test_X.npy\")\n",
    "train_y = np.load(\"../caueeg_features/conn_data/gc/train_y.npy\")\n",
    "test_y = np.load(\"../caueeg_features/conn_data/gc/test_y.npy\")\n",
    "train_graphs = np.load(\"../caueeg_features/conn_data/gc/train_graphs1.npy\")\n",
    "test_graphs = np.load(\"../caueeg_features/conn_data/gc/test_graphs1.npy\")\n"
   ]
  },
  {
   "cell_type": "code",
   "execution_count": 549,
   "id": "3ab18f43-4a72-49d2-b3ce-2f241d3688b3",
   "metadata": {},
   "outputs": [],
   "source": [
    "#train_graphs = uniform_separate_A(train_graphs)\n",
    "#test_graphs = uniform_separate_A(test_graphs)\n",
    "\n",
    "#train_graphs.min(), train_graphs.max()"
   ]
  },
  {
   "cell_type": "code",
   "execution_count": 84,
   "id": "bfef37df-ce44-4f93-889f-c5d4dfaa30ae",
   "metadata": {},
   "outputs": [
    {
     "name": "stdout",
     "output_type": "stream",
     "text": [
      "True False\n"
     ]
    },
    {
     "data": {
      "text/plain": [
       "(-0.07528492609181447,\n",
       " 0.9648155827782534,\n",
       " -0.09881203062077881,\n",
       " 0.9694773151885153)"
      ]
     },
     "execution_count": 84,
     "metadata": {},
     "output_type": "execute_result"
    }
   ],
   "source": [
    "train_graphs, test_graphs = uniform_all_data(train_graphs, test_graphs)\n",
    "#train_graphs1, test_graphs1 = uniform_all_data(train_graphs[:, 0], test_graphs[:, 0])\n",
    "#train_graphs2, test_graphs2 = uniform_all_data(train_graphs[:, 1], test_graphs[:, 1])\n",
    "\n",
    "# here we check if the two matrices are symmetric\n",
    "def check_symmetric(a, rtol=1e-05, atol=1e-08):\n",
    "    return np.allclose(a, a.T, rtol=rtol, atol=atol)\n",
    "\n",
    "print(check_symmetric(train_graphs[0, 0]), check_symmetric(train_graphs[0, 1]))\n",
    "\n",
    "import networkx as nx\n",
    "test_graphs_normalized = []\n",
    "train_graphs_normalized = []\n",
    "\n",
    "for graph in test_graphs:\n",
    "    graph_normalized = []\n",
    "    for graph_feat in graph:\n",
    "        graph_feat = nx.Graph(graph_feat)\n",
    "        graph_normalized.append(nx.normalized_laplacian_matrix(graph_feat).toarray())\n",
    "    test_graphs_normalized.append(graph_normalized)\n",
    "for graph in train_graphs:\n",
    "    graph_normalized = []\n",
    "    for graph_feat in graph:\n",
    "        graph_feat = nx.Graph(graph_feat)\n",
    "        graph_normalized.append(nx.normalized_laplacian_matrix(graph_feat).toarray())\n",
    "    train_graphs_normalized.append(graph_normalized)               \n",
    "\n",
    "train_graphs = np.array(train_graphs_normalized)  \n",
    "test_graphs = np.array(test_graphs_normalized)  \n",
    "\n",
    "test_graphs.min(), test_graphs.max(), train_graphs.min(), train_graphs.max()"
   ]
  },
  {
   "cell_type": "code",
   "execution_count": 552,
   "id": "97d14726-1560-41e8-94bf-36d7edf10c25",
   "metadata": {},
   "outputs": [
    {
     "data": {
      "image/png": "[encoded data removed]",
      "text/plain": [
       "<Figure size 950x950 with 2 Axes>"
      ]
     },
     "metadata": {},
     "output_type": "display_data"
    },
    {
     "data": {
      "image/png": "[encoded data removed]",
      "text/plain": [
       "<Figure size 950x950 with 2 Axes>"
      ]
     },
     "metadata": {},
     "output_type": "display_data"
    },
    {
     "name": "stdout",
     "output_type": "stream",
     "text": [
      "label:  [1]\n"
     ]
    }
   ],
   "source": [
    "import matplotlib.pyplot as plt\n",
    "import numpy as np\n",
    "fig, ax = plt.subplots(figsize=(9.5,9.5))\n",
    "fig2, ax2 = plt.subplots(figsize=(9.5,9.5))\n",
    "\n",
    "# create an index for each tick position\n",
    "my_xticks = ch_names_renamed\n",
    "x = range(21)\n",
    "\n",
    "plt.xticks(x, my_xticks)\n",
    "plt.yticks(x, my_xticks)\n",
    "\n",
    "im = ax.imshow(train_graphs[6, 0], cmap='bwr', interpolation='nearest')\n",
    "fig.colorbar(im, orientation='vertical', fraction=0.046, pad=0.04)\n",
    "\n",
    "im2 = ax2.imshow(train_graphs[6, 1], cmap='bwr', interpolation='nearest')\n",
    "fig2.colorbar(im2, orientation='vertical', fraction=0.046, pad=0.04)\n",
    "#fig.savefig(\"abnormal2.pdf\", bbox_inches='tight')\n",
    "\n",
    "plt.show()\n",
    "\n",
    "print(\"label: \", train_y[6])"
   ]
  },
  {
   "cell_type": "code",
   "execution_count": 16,
   "id": "b155b2ec-91d0-4815-a926-aa21fc1e2090",
   "metadata": {},
   "outputs": [
    {
     "name": "stdout",
     "output_type": "stream",
     "text": [
      "True True\n"
     ]
    }
   ],
   "source": [
    "# here we check if the laplacians of the two matrices are symmetric\n",
    "print(check_symmetric(train_graphs[6, 0]), check_symmetric(train_graphs[6, 1]))"
   ]
  },
  {
   "cell_type": "code",
   "execution_count": 17,
   "id": "1b3302ae-77ab-4baa-9da6-e622967ba3b1",
   "metadata": {},
   "outputs": [],
   "source": [
    "ch_names_renamed = []\n",
    "for ch in ch_names[:-2]:\n",
    "    ch_names_renamed.append(ch[:-4])\n",
    "ch_names_renamed.extend([\"A1\", \"A2\"])"
   ]
  },
  {
   "cell_type": "code",
   "execution_count": 18,
   "id": "00223d67-e49a-41c7-aecc-2056c63e8381",
   "metadata": {},
   "outputs": [],
   "source": [
    "import torch\n",
    "\n",
    "from sklearn.preprocessing import StandardScaler, RobustScaler\n",
    "from sklearn.base import TransformerMixin,BaseEstimator\n",
    "from sklearn.metrics import accuracy_score, confusion_matrix, f1_score, precision_score, recall_score\n",
    "import copy\n",
    "\n",
    "def data_loader(features, graphs, labels, device, batch_size, shuffle=True):\n",
    "    features, graphs, labels = torch.Tensor(features), torch.Tensor(graphs), torch.Tensor(labels)\n",
    "    data = torch.utils.data.TensorDataset(features, graphs, labels)\n",
    "    del features\n",
    "    del labels\n",
    "    data_iter = torch.utils.data.DataLoader(data, batch_size, shuffle=shuffle)\n",
    "    del data\n",
    "    return data_iter\n",
    "\n",
    "def standardize_data(train_X, test_X):\n",
    " \n",
    "    train_X_std = copy.deepcopy(train_X)\n",
    "    test_X_std = copy.deepcopy(test_X)\n",
    "    \n",
    "    for i in tqdm(range(train_X.shape[1])):\n",
    "        for j in range(train_X.shape[2]):\n",
    "            min_ = np.min(train_X[:, i, j])\n",
    "            max_ = np.max(train_X[:, i, j])\n",
    "            train_X_std[:, i, j] = (train_X[:, i, j] - min_)/(max_ - min_)\n",
    "            test_X_std[:, i, j] = (test_X[:, i, j] - min_)/(max_ - min_)\n",
    "\n",
    "    return train_X_std, test_X_std"
   ]
  },
  {
   "cell_type": "code",
   "execution_count": 85,
   "id": "7902cdba-a6ef-44bf-9338-a2bdf93ae01c",
   "metadata": {
    "tags": []
   },
   "outputs": [
    {
     "name": "stderr",
     "output_type": "stream",
     "text": [
      "100%|█████████████████████████████████████████| 21/21 [00:00<00:00, 3693.25it/s]\n"
     ]
    }
   ],
   "source": [
    "train_X = np.load(\"../caueeg_features/conn_data/gc/train_X.npy\")\n",
    "test_X = np.load(\"../caueeg_features/conn_data/gc/test_X.npy\")\n",
    "train_y = np.load(\"../caueeg_features/conn_data/gc/train_y.npy\")\n",
    "test_y = np.load(\"../caueeg_features/conn_data/gc/test_y.npy\")\n",
    "train_graphs = np.load(\"../caueeg_features/conn_data/gc/train_graphs1.npy\")\n",
    "test_graphs = np.load(\"../caueeg_features/conn_data/gc/test_graphs1.npy\")\n",
    "train_graphs1, test_graphs1 = uniform_all_data(train_graphs[:, 0], test_graphs[:, 0])\n",
    "train_graphs2, test_graphs2 = uniform_all_data(train_graphs[:, 1], test_graphs[:, 1])\n",
    "\n",
    "train_graphs = np.sum((train_graphs1, train_graphs2), axis=0)\n",
    "test_graphs = np.sum((test_graphs1, test_graphs2), axis=0)\n",
    "#train_graphs, test_graphs = uniform_all_data(train_graphs, test_graphs)\n",
    "train_X, test_X = standardize_data(train_X, test_X)"
   ]
  },
  {
   "cell_type": "code",
   "execution_count": 86,
   "id": "b87a4257-61f2-49b2-93a8-d741aacaecfa",
   "metadata": {},
   "outputs": [
    {
     "data": {
      "text/plain": [
       "(1.0, 1.0445493456293193, 0.0, -0.11878684040599256)"
      ]
     },
     "execution_count": 86,
     "metadata": {},
     "output_type": "execute_result"
    }
   ],
   "source": [
    "train_X.max(), test_X.max(), train_X.min(), test_X.min()"
   ]
  },
  {
   "cell_type": "code",
   "execution_count": 79,
   "id": "3a13941e-9d20-4c8e-a3f0-2f3b65986985",
   "metadata": {},
   "outputs": [],
   "source": [
    "from sklearn.metrics import accuracy_score, confusion_matrix, f1_score, precision_score, recall_score, auc, roc_auc_score\n",
    "\n",
    "def evaluate_model(model, loss_func, data_iter):\n",
    "    model.eval()\n",
    "    loss_sum, n = 0, 0\n",
    "    with torch.no_grad():\n",
    "        for x, A, y in data_iter:\n",
    "            x = x.float()\n",
    "            A = A.float()\n",
    "            y_pred = model(x, A)\n",
    "            loss = loss_func(y_pred,y)\n",
    "            loss_sum += loss.item()\n",
    "            n += 1\n",
    "        return loss_sum / n\n",
    "    \n",
    "def cal_accuracy(model, data_iter):\n",
    "    ytrue = []\n",
    "    ypreds = []\n",
    "    y_score = []\n",
    "    model.eval()\n",
    "    with torch.no_grad():\n",
    "        for x, A, y in data_iter:\n",
    "            x = x.float()\n",
    "            A = A.float()\n",
    "            yhat = model(x, A)\n",
    "            \n",
    "            yhat_labels = np.argmax(yhat, -1)\n",
    "            y_labels = np.argmax(y, -1)\n",
    "            \n",
    "            y_score.extend(np.max(F.softmax(yhat, dim=1).numpy(), -1))\n",
    "            ytrue.extend(list(y_labels.numpy()))\n",
    "            ypreds.extend([int(yhat_i) for yhat_i in yhat_labels])\n",
    "    \n",
    "    return (accuracy_score(ytrue, ypreds), \n",
    "            confusion_matrix(ytrue, ypreds), \n",
    "            precision_score(ytrue, ypreds, zero_division=0), \n",
    "            recall_score(ytrue, ypreds, zero_division=0),\n",
    "            f1_score(ytrue, ypreds,  zero_division=0))"
   ]
  },
  {
   "cell_type": "markdown",
   "id": "560901a3-ac60-4c2d-b7d2-3057d46ea961",
   "metadata": {},
   "source": [
    "# GC"
   ]
  },
  {
   "cell_type": "code",
   "execution_count": 87,
   "id": "1026fb3e-247e-41d3-a39b-a91699c2e5cf",
   "metadata": {},
   "outputs": [],
   "source": [
    "import numpy as np\n",
    "import torch\n",
    "import torch.nn as nn\n",
    "import torch.nn.functional as F\n",
    "from torch_geometric.nn import global_mean_pool, global_max_pool\n",
    "import networkx as nx\n",
    "\n",
    "\n",
    "def normalize_A(A):\n",
    "    norm = []\n",
    "    A1 = (A + A.T)/2\n",
    "    A2 = (A - A.T)/2\n",
    "    A1 = uniform(A1)\n",
    "    A2 = uniform(A2)\n",
    "    for graph_feat in [A1, A2]:\n",
    "        graph_feat = nx.Graph(graph_feat)\n",
    "        norm.append(nx.normalized_laplacian_matrix(graph_feat).toarray())\n",
    "    \n",
    "    return norm\n",
    "\n",
    "\n",
    "def normalize_all_A(A):\n",
    "    \n",
    "    A = A.detach().numpy()\n",
    "    all_A = []\n",
    "    for adj in A:\n",
    "        all_A.append(normalize_A(adj))\n",
    "    all_A = np.array(all_A)\n",
    "    all_A = torch.tensor(all_A)\n",
    "    return all_A\n",
    "\n",
    "\n",
    "class ChebNetConv(nn.Module):\n",
    "    def __init__(self, in_features, out_features, k):\n",
    "        super(ChebNetConv, self).__init__()\n",
    "\n",
    "        self.K = k\n",
    "        self.linear = nn.Linear(in_features * k, out_features)\n",
    "\n",
    "    def forward(self, x: torch.Tensor, laplacian: torch.sparse_coo_tensor):\n",
    "        x = self.__transform_to_chebyshev(x, laplacian)\n",
    "        x = self.linear(x)\n",
    "        \n",
    "        return x\n",
    "\n",
    "    def __transform_to_chebyshev(self, x, laplacian):\n",
    "        cheb_x = x.unsqueeze(2)\n",
    "        x0 = x\n",
    "        if self.K > 1:\n",
    "            x1 = torch.matmul(laplacian, x0)\n",
    "            cheb_x = torch.cat((cheb_x, x1.unsqueeze(2)), 2)\n",
    "            for _ in range(2, self.K):\n",
    "                x2 = 2 * torch.matmul(laplacian, x1) - x0\n",
    "                cheb_x = torch.cat((cheb_x, x2.unsqueeze(2)), 2)\n",
    "                x0, x1 = x1, x2\n",
    "        cheb_x = cheb_x.reshape(cheb_x.shape[0], cheb_x.shape[1], cheb_x.shape[2]*cheb_x.shape[3])\n",
    "        return cheb_x\n",
    "\n",
    "    \n",
    "import torch.nn.functional as F\n",
    "\n",
    "\n",
    "class ChebNetGCN(nn.Module):\n",
    "    def __init__(self, input_size, hidden_size, num_electrodes, out_channels, \n",
    "                 num_classes, num_hidden_layers=2, dropout=0, residual=False, k=2):\n",
    "        super(ChebNetGCN, self).__init__()\n",
    "\n",
    "        self.dropout = dropout\n",
    "        self.residual = residual\n",
    "\n",
    "        self.input_conv = ChebNetConv(input_size, hidden_size, k)\n",
    "        self.hidden_convs = nn.ModuleList([ChebNetConv(hidden_size, hidden_size, k) for _ in range(num_hidden_layers)])\n",
    "        self.output_conv = ChebNetConv(hidden_size, out_channels, k)\n",
    "        self.BN1 = nn.BatchNorm1d(out_channels*2)\n",
    "        self.fc = nn.Linear(out_channels*2, num_classes)\n",
    "        \n",
    "    def forward(self, x: torch.Tensor, A: torch.sparse_coo_tensor, edge_weight=None):\n",
    "        if edge_weight is not None:\n",
    "            A = edge_weight * A\n",
    "            \n",
    "        laplacians = normalize_all_A(A)\n",
    "        \n",
    "        laplacian1,laplacian2 = laplacians[:, 0].float(), laplacians[:, 1].float()\n",
    "        #print(laplacian1.shape,laplacian2.shape, laplacian1[0])\n",
    "        #laplacian1 = laplacian1 + laplacian2\n",
    "        x1 = F.relu(self.input_conv(x, laplacian1))\n",
    "        x2 = F.relu(self.input_conv(x, laplacian2))\n",
    "        #print(x.shape)\n",
    "        for conv in self.hidden_convs:\n",
    "            if self.residual:\n",
    "                x1 = F.relu(conv(x1, laplacian1)) + x1\n",
    "                x2 = F.relu(conv(x2, laplacian2)) + x2\n",
    "            else:\n",
    "                x1 = F.relu(conv(x1, laplacian1))\n",
    "                x2 = F.relu(conv(x2, laplacian2))\n",
    "        #print(x.shape)        \n",
    "        #x1 = F.dropout(x1, p=self.dropout, training=self.training)\n",
    "        x1 = self.output_conv(x1, laplacian1)\n",
    "        #x2 = F.dropout(x2, p=self.dropout, training=self.training)\n",
    "        x2 = self.output_conv(x2, laplacian2)\n",
    "        #print(x.shape)\n",
    "        x1 = x1.squeeze()\n",
    "        #x = x1\n",
    "        x2 = x2.squeeze()\n",
    "        #print(x1.shape,x2.shape)\n",
    "        x = torch.cat((x1, x2), dim=-1)\n",
    "        #x = x1 + x2\n",
    "        #print(x.shape)\n",
    "        batch =None\n",
    "        x = global_mean_pool(x, batch)\n",
    "        #print(x.shape)\n",
    "        x = self.BN1(x)\n",
    "        x = self.fc(x)\n",
    "        #print(x.shape)\n",
    "        return x"
   ]
  },
  {
   "cell_type": "code",
   "execution_count": 95,
   "id": "29a1db76-d4c9-48fd-a794-ecda8a3f7517",
   "metadata": {
    "collapsed": true,
    "jupyter": {
     "outputs_hidden": true
    },
    "tags": []
   },
   "outputs": [
    {
     "name": "stdout",
     "output_type": "stream",
     "text": [
      "Training Model....\n"
     ]
    },
    {
     "name": "stderr",
     "output_type": "stream",
     "text": [
      "  0%|                                         | 1/400 [00:16<1:48:00, 16.24s/it]\n"
     ]
    },
    {
     "ename": "KeyboardInterrupt",
     "evalue": "",
     "output_type": "error",
     "traceback": [
      "\u001b[0;31m---------------------------------------------------------------------------\u001b[0m",
      "\u001b[0;31mKeyboardInterrupt\u001b[0m                         Traceback (most recent call last)",
      "Input \u001b[0;32mIn [95]\u001b[0m, in \u001b[0;36m<cell line: 28>\u001b[0;34m()\u001b[0m\n\u001b[1;32m     65\u001b[0m train_loss \u001b[38;5;241m=\u001b[39m evaluate_model(model, loss_func, train_iter)\n\u001b[1;32m     66\u001b[0m val_loss \u001b[38;5;241m=\u001b[39m evaluate_model(model, loss_func, val_iter)\n\u001b[0;32m---> 67\u001b[0m train_f1 \u001b[38;5;241m=\u001b[39m \u001b[43mcal_accuracy\u001b[49m\u001b[43m(\u001b[49m\u001b[43mmodel\u001b[49m\u001b[43m,\u001b[49m\u001b[43m \u001b[49m\u001b[43mtrain_iter\u001b[49m\u001b[43m)\u001b[49m[\u001b[38;5;241m-\u001b[39m\u001b[38;5;241m1\u001b[39m]\n\u001b[1;32m     68\u001b[0m val_f1 \u001b[38;5;241m=\u001b[39m cal_accuracy(model, val_iter)[\u001b[38;5;241m-\u001b[39m\u001b[38;5;241m1\u001b[39m]\n\u001b[1;32m     69\u001b[0m kfold_train_loss\u001b[38;5;241m.\u001b[39mappend(train_loss)\n",
      "Input \u001b[0;32mIn [79]\u001b[0m, in \u001b[0;36mcal_accuracy\u001b[0;34m(model, data_iter)\u001b[0m\n\u001b[1;32m     23\u001b[0m x \u001b[38;5;241m=\u001b[39m x\u001b[38;5;241m.\u001b[39mfloat()\n\u001b[1;32m     24\u001b[0m A \u001b[38;5;241m=\u001b[39m A\u001b[38;5;241m.\u001b[39mfloat()\n\u001b[0;32m---> 25\u001b[0m yhat \u001b[38;5;241m=\u001b[39m \u001b[43mmodel\u001b[49m\u001b[43m(\u001b[49m\u001b[43mx\u001b[49m\u001b[43m,\u001b[49m\u001b[43m \u001b[49m\u001b[43mA\u001b[49m\u001b[43m)\u001b[49m\n\u001b[1;32m     27\u001b[0m yhat_labels \u001b[38;5;241m=\u001b[39m np\u001b[38;5;241m.\u001b[39margmax(yhat, \u001b[38;5;241m-\u001b[39m\u001b[38;5;241m1\u001b[39m)\n\u001b[1;32m     28\u001b[0m y_labels \u001b[38;5;241m=\u001b[39m np\u001b[38;5;241m.\u001b[39margmax(y, \u001b[38;5;241m-\u001b[39m\u001b[38;5;241m1\u001b[39m)\n",
      "File \u001b[0;32m~/opt/anaconda3/envs/xai/lib/python3.10/site-packages/torch/nn/modules/module.py:1194\u001b[0m, in \u001b[0;36mModule._call_impl\u001b[0;34m(self, *input, **kwargs)\u001b[0m\n\u001b[1;32m   1190\u001b[0m \u001b[38;5;66;03m# If we don't have any hooks, we want to skip the rest of the logic in\u001b[39;00m\n\u001b[1;32m   1191\u001b[0m \u001b[38;5;66;03m# this function, and just call forward.\u001b[39;00m\n\u001b[1;32m   1192\u001b[0m \u001b[38;5;28;01mif\u001b[39;00m \u001b[38;5;129;01mnot\u001b[39;00m (\u001b[38;5;28mself\u001b[39m\u001b[38;5;241m.\u001b[39m_backward_hooks \u001b[38;5;129;01mor\u001b[39;00m \u001b[38;5;28mself\u001b[39m\u001b[38;5;241m.\u001b[39m_forward_hooks \u001b[38;5;129;01mor\u001b[39;00m \u001b[38;5;28mself\u001b[39m\u001b[38;5;241m.\u001b[39m_forward_pre_hooks \u001b[38;5;129;01mor\u001b[39;00m _global_backward_hooks\n\u001b[1;32m   1193\u001b[0m         \u001b[38;5;129;01mor\u001b[39;00m _global_forward_hooks \u001b[38;5;129;01mor\u001b[39;00m _global_forward_pre_hooks):\n\u001b[0;32m-> 1194\u001b[0m     \u001b[38;5;28;01mreturn\u001b[39;00m \u001b[43mforward_call\u001b[49m\u001b[43m(\u001b[49m\u001b[38;5;241;43m*\u001b[39;49m\u001b[38;5;28;43minput\u001b[39;49m\u001b[43m,\u001b[49m\u001b[43m \u001b[49m\u001b[38;5;241;43m*\u001b[39;49m\u001b[38;5;241;43m*\u001b[39;49m\u001b[43mkwargs\u001b[49m\u001b[43m)\u001b[49m\n\u001b[1;32m   1195\u001b[0m \u001b[38;5;66;03m# Do not call functions when jit is used\u001b[39;00m\n\u001b[1;32m   1196\u001b[0m full_backward_hooks, non_full_backward_hooks \u001b[38;5;241m=\u001b[39m [], []\n",
      "Input \u001b[0;32mIn [87]\u001b[0m, in \u001b[0;36mChebNetGCN.forward\u001b[0;34m(self, x, A, edge_weight)\u001b[0m\n\u001b[1;32m     78\u001b[0m \u001b[38;5;28;01mif\u001b[39;00m edge_weight \u001b[38;5;129;01mis\u001b[39;00m \u001b[38;5;129;01mnot\u001b[39;00m \u001b[38;5;28;01mNone\u001b[39;00m:\n\u001b[1;32m     79\u001b[0m     A \u001b[38;5;241m=\u001b[39m edge_weight \u001b[38;5;241m*\u001b[39m A\n\u001b[0;32m---> 81\u001b[0m laplacians \u001b[38;5;241m=\u001b[39m \u001b[43mnormalize_all_A\u001b[49m\u001b[43m(\u001b[49m\u001b[43mA\u001b[49m\u001b[43m)\u001b[49m\n\u001b[1;32m     83\u001b[0m laplacian1,laplacian2 \u001b[38;5;241m=\u001b[39m laplacians[:, \u001b[38;5;241m0\u001b[39m]\u001b[38;5;241m.\u001b[39mfloat(), laplacians[:, \u001b[38;5;241m1\u001b[39m]\u001b[38;5;241m.\u001b[39mfloat()\n\u001b[1;32m     84\u001b[0m \u001b[38;5;66;03m#print(laplacian1.shape,laplacian2.shape, laplacian1[0])\u001b[39;00m\n\u001b[1;32m     85\u001b[0m \u001b[38;5;66;03m#laplacian1 = laplacian1 + laplacian2\u001b[39;00m\n",
      "Input \u001b[0;32mIn [87]\u001b[0m, in \u001b[0;36mnormalize_all_A\u001b[0;34m(A)\u001b[0m\n\u001b[1;32m     25\u001b[0m all_A \u001b[38;5;241m=\u001b[39m []\n\u001b[1;32m     26\u001b[0m \u001b[38;5;28;01mfor\u001b[39;00m adj \u001b[38;5;129;01min\u001b[39;00m A:\n\u001b[0;32m---> 27\u001b[0m     all_A\u001b[38;5;241m.\u001b[39mappend(\u001b[43mnormalize_A\u001b[49m\u001b[43m(\u001b[49m\u001b[43madj\u001b[49m\u001b[43m)\u001b[49m)\n\u001b[1;32m     28\u001b[0m all_A \u001b[38;5;241m=\u001b[39m np\u001b[38;5;241m.\u001b[39marray(all_A)\n\u001b[1;32m     29\u001b[0m all_A \u001b[38;5;241m=\u001b[39m torch\u001b[38;5;241m.\u001b[39mtensor(all_A)\n",
      "Input \u001b[0;32mIn [87]\u001b[0m, in \u001b[0;36mnormalize_A\u001b[0;34m(A)\u001b[0m\n\u001b[1;32m     15\u001b[0m \u001b[38;5;28;01mfor\u001b[39;00m graph_feat \u001b[38;5;129;01min\u001b[39;00m [A1, A2]:\n\u001b[1;32m     16\u001b[0m     graph_feat \u001b[38;5;241m=\u001b[39m nx\u001b[38;5;241m.\u001b[39mGraph(graph_feat)\n\u001b[0;32m---> 17\u001b[0m     norm\u001b[38;5;241m.\u001b[39mappend(\u001b[43mnx\u001b[49m\u001b[38;5;241;43m.\u001b[39;49m\u001b[43mnormalized_laplacian_matrix\u001b[49m\u001b[43m(\u001b[49m\u001b[43mgraph_feat\u001b[49m\u001b[43m)\u001b[49m\u001b[38;5;241m.\u001b[39mtoarray())\n\u001b[1;32m     19\u001b[0m \u001b[38;5;28;01mreturn\u001b[39;00m norm\n",
      "File \u001b[0;32m<class 'networkx.utils.decorators.argmap'> compilation 8:4\u001b[0m, in \u001b[0;36margmap_normalized_laplacian_matrix_5\u001b[0;34m(G, nodelist, weight)\u001b[0m\n\u001b[1;32m      2\u001b[0m \u001b[38;5;28;01mfrom\u001b[39;00m \u001b[38;5;21;01mos\u001b[39;00m\u001b[38;5;21;01m.\u001b[39;00m\u001b[38;5;21;01mpath\u001b[39;00m \u001b[38;5;28;01mimport\u001b[39;00m splitext\n\u001b[1;32m      3\u001b[0m \u001b[38;5;28;01mfrom\u001b[39;00m \u001b[38;5;21;01mcontextlib\u001b[39;00m \u001b[38;5;28;01mimport\u001b[39;00m contextmanager\n\u001b[0;32m----> 4\u001b[0m \u001b[38;5;28;01mfrom\u001b[39;00m \u001b[38;5;21;01mpathlib\u001b[39;00m \u001b[38;5;28;01mimport\u001b[39;00m Path\n\u001b[1;32m      5\u001b[0m \u001b[38;5;28;01mimport\u001b[39;00m \u001b[38;5;21;01mwarnings\u001b[39;00m\n\u001b[1;32m      7\u001b[0m \u001b[38;5;28;01mimport\u001b[39;00m \u001b[38;5;21;01mnetworkx\u001b[39;00m \u001b[38;5;28;01mas\u001b[39;00m \u001b[38;5;21;01mnx\u001b[39;00m\n",
      "File \u001b[0;32m~/opt/anaconda3/envs/xai/lib/python3.10/site-packages/networkx/linalg/laplacianmatrix.py:122\u001b[0m, in \u001b[0;36mnormalized_laplacian_matrix\u001b[0;34m(G, nodelist, weight)\u001b[0m\n\u001b[1;32m    120\u001b[0m n, m \u001b[38;5;241m=\u001b[39m A\u001b[38;5;241m.\u001b[39mshape\n\u001b[1;32m    121\u001b[0m diags \u001b[38;5;241m=\u001b[39m A\u001b[38;5;241m.\u001b[39msum(axis\u001b[38;5;241m=\u001b[39m\u001b[38;5;241m1\u001b[39m)\u001b[38;5;241m.\u001b[39mflatten()\n\u001b[0;32m--> 122\u001b[0m D \u001b[38;5;241m=\u001b[39m \u001b[43msp\u001b[49m\u001b[38;5;241;43m.\u001b[39;49m\u001b[43msparse\u001b[49m\u001b[38;5;241;43m.\u001b[39;49m\u001b[43mspdiags\u001b[49m\u001b[43m(\u001b[49m\u001b[43mdiags\u001b[49m\u001b[43m,\u001b[49m\u001b[43m \u001b[49m\u001b[43m[\u001b[49m\u001b[38;5;241;43m0\u001b[39;49m\u001b[43m]\u001b[49m\u001b[43m,\u001b[49m\u001b[43m \u001b[49m\u001b[43mm\u001b[49m\u001b[43m,\u001b[49m\u001b[43m \u001b[49m\u001b[43mn\u001b[49m\u001b[43m,\u001b[49m\u001b[43m \u001b[49m\u001b[38;5;28;43mformat\u001b[39;49m\u001b[38;5;241;43m=\u001b[39;49m\u001b[38;5;124;43m\"\u001b[39;49m\u001b[38;5;124;43mcsr\u001b[39;49m\u001b[38;5;124;43m\"\u001b[39;49m\u001b[43m)\u001b[49m\n\u001b[1;32m    123\u001b[0m L \u001b[38;5;241m=\u001b[39m D \u001b[38;5;241m-\u001b[39m A\n\u001b[1;32m    124\u001b[0m \u001b[38;5;28;01mwith\u001b[39;00m sp\u001b[38;5;241m.\u001b[39merrstate(divide\u001b[38;5;241m=\u001b[39m\u001b[38;5;124m\"\u001b[39m\u001b[38;5;124mignore\u001b[39m\u001b[38;5;124m\"\u001b[39m):\n",
      "File \u001b[0;32m~/opt/anaconda3/envs/xai/lib/python3.10/site-packages/scipy/sparse/construct.py:60\u001b[0m, in \u001b[0;36mspdiags\u001b[0;34m(data, diags, m, n, format)\u001b[0m\n\u001b[1;32m     25\u001b[0m \u001b[38;5;28;01mdef\u001b[39;00m \u001b[38;5;21mspdiags\u001b[39m(data, diags, m, n, \u001b[38;5;28mformat\u001b[39m\u001b[38;5;241m=\u001b[39m\u001b[38;5;28;01mNone\u001b[39;00m):\n\u001b[1;32m     26\u001b[0m     \u001b[38;5;124;03m\"\"\"\u001b[39;00m\n\u001b[1;32m     27\u001b[0m \u001b[38;5;124;03m    Return a sparse matrix from diagonals.\u001b[39;00m\n\u001b[1;32m     28\u001b[0m \n\u001b[0;32m   (...)\u001b[0m\n\u001b[1;32m     58\u001b[0m \n\u001b[1;32m     59\u001b[0m \u001b[38;5;124;03m    \"\"\"\u001b[39;00m\n\u001b[0;32m---> 60\u001b[0m     \u001b[38;5;28;01mreturn\u001b[39;00m \u001b[43mdia_matrix\u001b[49m\u001b[43m(\u001b[49m\u001b[43m(\u001b[49m\u001b[43mdata\u001b[49m\u001b[43m,\u001b[49m\u001b[43m \u001b[49m\u001b[43mdiags\u001b[49m\u001b[43m)\u001b[49m\u001b[43m,\u001b[49m\u001b[43m \u001b[49m\u001b[43mshape\u001b[49m\u001b[38;5;241;43m=\u001b[39;49m\u001b[43m(\u001b[49m\u001b[43mm\u001b[49m\u001b[43m,\u001b[49m\u001b[43mn\u001b[49m\u001b[43m)\u001b[49m\u001b[43m)\u001b[49m\u001b[38;5;241;43m.\u001b[39;49m\u001b[43masformat\u001b[49m\u001b[43m(\u001b[49m\u001b[38;5;28;43mformat\u001b[39;49m\u001b[43m)\u001b[49m\n",
      "File \u001b[0;32m~/opt/anaconda3/envs/xai/lib/python3.10/site-packages/scipy/sparse/base.py:322\u001b[0m, in \u001b[0;36mspmatrix.asformat\u001b[0;34m(self, format, copy)\u001b[0m\n\u001b[1;32m    320\u001b[0m \u001b[38;5;66;03m# Forward the copy kwarg, if it's accepted.\u001b[39;00m\n\u001b[1;32m    321\u001b[0m \u001b[38;5;28;01mtry\u001b[39;00m:\n\u001b[0;32m--> 322\u001b[0m     \u001b[38;5;28;01mreturn\u001b[39;00m \u001b[43mconvert_method\u001b[49m\u001b[43m(\u001b[49m\u001b[43mcopy\u001b[49m\u001b[38;5;241;43m=\u001b[39;49m\u001b[43mcopy\u001b[49m\u001b[43m)\u001b[49m\n\u001b[1;32m    323\u001b[0m \u001b[38;5;28;01mexcept\u001b[39;00m \u001b[38;5;167;01mTypeError\u001b[39;00m:\n\u001b[1;32m    324\u001b[0m     \u001b[38;5;28;01mreturn\u001b[39;00m convert_method()\n",
      "File \u001b[0;32m~/opt/anaconda3/envs/xai/lib/python3.10/site-packages/scipy/sparse/base.py:907\u001b[0m, in \u001b[0;36mspmatrix.tocsr\u001b[0;34m(self, copy)\u001b[0m\n\u001b[1;32m    901\u001b[0m \u001b[38;5;28;01mdef\u001b[39;00m \u001b[38;5;21mtocsr\u001b[39m(\u001b[38;5;28mself\u001b[39m, copy\u001b[38;5;241m=\u001b[39m\u001b[38;5;28;01mFalse\u001b[39;00m):\n\u001b[1;32m    902\u001b[0m     \u001b[38;5;124;03m\"\"\"Convert this matrix to Compressed Sparse Row format.\u001b[39;00m\n\u001b[1;32m    903\u001b[0m \n\u001b[1;32m    904\u001b[0m \u001b[38;5;124;03m    With copy=False, the data/indices may be shared between this matrix and\u001b[39;00m\n\u001b[1;32m    905\u001b[0m \u001b[38;5;124;03m    the resultant csr_matrix.\u001b[39;00m\n\u001b[1;32m    906\u001b[0m \u001b[38;5;124;03m    \"\"\"\u001b[39;00m\n\u001b[0;32m--> 907\u001b[0m     \u001b[38;5;28;01mreturn\u001b[39;00m \u001b[38;5;28;43mself\u001b[39;49m\u001b[38;5;241;43m.\u001b[39;49m\u001b[43mtocoo\u001b[49m\u001b[43m(\u001b[49m\u001b[43mcopy\u001b[49m\u001b[38;5;241;43m=\u001b[39;49m\u001b[43mcopy\u001b[49m\u001b[43m)\u001b[49m\u001b[38;5;241;43m.\u001b[39;49m\u001b[43mtocsr\u001b[49m\u001b[43m(\u001b[49m\u001b[43mcopy\u001b[49m\u001b[38;5;241;43m=\u001b[39;49m\u001b[38;5;28;43;01mFalse\u001b[39;49;00m\u001b[43m)\u001b[49m\n",
      "File \u001b[0;32m~/opt/anaconda3/envs/xai/lib/python3.10/site-packages/scipy/sparse/coo.py:397\u001b[0m, in \u001b[0;36mcoo_matrix.tocsr\u001b[0;34m(self, copy)\u001b[0m\n\u001b[1;32m    395\u001b[0m \u001b[38;5;28;01melse\u001b[39;00m:\n\u001b[1;32m    396\u001b[0m     M,N \u001b[38;5;241m=\u001b[39m \u001b[38;5;28mself\u001b[39m\u001b[38;5;241m.\u001b[39mshape\n\u001b[0;32m--> 397\u001b[0m     idx_dtype \u001b[38;5;241m=\u001b[39m \u001b[43mget_index_dtype\u001b[49m\u001b[43m(\u001b[49m\u001b[43m(\u001b[49m\u001b[38;5;28;43mself\u001b[39;49m\u001b[38;5;241;43m.\u001b[39;49m\u001b[43mrow\u001b[49m\u001b[43m,\u001b[49m\u001b[43m \u001b[49m\u001b[38;5;28;43mself\u001b[39;49m\u001b[38;5;241;43m.\u001b[39;49m\u001b[43mcol\u001b[49m\u001b[43m)\u001b[49m\u001b[43m,\u001b[49m\n\u001b[1;32m    398\u001b[0m \u001b[43m                                \u001b[49m\u001b[43mmaxval\u001b[49m\u001b[38;5;241;43m=\u001b[39;49m\u001b[38;5;28;43mmax\u001b[39;49m\u001b[43m(\u001b[49m\u001b[38;5;28;43mself\u001b[39;49m\u001b[38;5;241;43m.\u001b[39;49m\u001b[43mnnz\u001b[49m\u001b[43m,\u001b[49m\u001b[43m \u001b[49m\u001b[43mN\u001b[49m\u001b[43m)\u001b[49m\u001b[43m)\u001b[49m\n\u001b[1;32m    399\u001b[0m     row \u001b[38;5;241m=\u001b[39m \u001b[38;5;28mself\u001b[39m\u001b[38;5;241m.\u001b[39mrow\u001b[38;5;241m.\u001b[39mastype(idx_dtype, copy\u001b[38;5;241m=\u001b[39m\u001b[38;5;28;01mFalse\u001b[39;00m)\n\u001b[1;32m    400\u001b[0m     col \u001b[38;5;241m=\u001b[39m \u001b[38;5;28mself\u001b[39m\u001b[38;5;241m.\u001b[39mcol\u001b[38;5;241m.\u001b[39mastype(idx_dtype, copy\u001b[38;5;241m=\u001b[39m\u001b[38;5;28;01mFalse\u001b[39;00m)\n",
      "File \u001b[0;32m~/opt/anaconda3/envs/xai/lib/python3.10/site-packages/scipy/sparse/sputils.py:153\u001b[0m, in \u001b[0;36mget_index_dtype\u001b[0;34m(arrays, maxval, check_contents)\u001b[0m\n\u001b[1;32m    131\u001b[0m \u001b[38;5;28;01mdef\u001b[39;00m \u001b[38;5;21mget_index_dtype\u001b[39m(arrays\u001b[38;5;241m=\u001b[39m(), maxval\u001b[38;5;241m=\u001b[39m\u001b[38;5;28;01mNone\u001b[39;00m, check_contents\u001b[38;5;241m=\u001b[39m\u001b[38;5;28;01mFalse\u001b[39;00m):\n\u001b[1;32m    132\u001b[0m     \u001b[38;5;124;03m\"\"\"\u001b[39;00m\n\u001b[1;32m    133\u001b[0m \u001b[38;5;124;03m    Based on input (integer) arrays `a`, determine a suitable index data\u001b[39;00m\n\u001b[1;32m    134\u001b[0m \u001b[38;5;124;03m    type that can hold the data in the arrays.\u001b[39;00m\n\u001b[0;32m   (...)\u001b[0m\n\u001b[1;32m    150\u001b[0m \n\u001b[1;32m    151\u001b[0m \u001b[38;5;124;03m    \"\"\"\u001b[39;00m\n\u001b[0;32m--> 153\u001b[0m     int32min \u001b[38;5;241m=\u001b[39m \u001b[43mnp\u001b[49m\u001b[38;5;241;43m.\u001b[39;49m\u001b[43miinfo\u001b[49m\u001b[43m(\u001b[49m\u001b[43mnp\u001b[49m\u001b[38;5;241;43m.\u001b[39;49m\u001b[43mint32\u001b[49m\u001b[43m)\u001b[49m\u001b[38;5;241m.\u001b[39mmin\n\u001b[1;32m    154\u001b[0m     int32max \u001b[38;5;241m=\u001b[39m np\u001b[38;5;241m.\u001b[39miinfo(np\u001b[38;5;241m.\u001b[39mint32)\u001b[38;5;241m.\u001b[39mmax\n\u001b[1;32m    156\u001b[0m     dtype \u001b[38;5;241m=\u001b[39m np\u001b[38;5;241m.\u001b[39mintc\n",
      "File \u001b[0;32m~/opt/anaconda3/envs/xai/lib/python3.10/site-packages/numpy/core/getlimits.py:516\u001b[0m, in \u001b[0;36miinfo.__init__\u001b[0;34m(self, int_type)\u001b[0m\n\u001b[1;32m    514\u001b[0m \u001b[38;5;28;01mdef\u001b[39;00m \u001b[38;5;21m__init__\u001b[39m(\u001b[38;5;28mself\u001b[39m, int_type):\n\u001b[1;32m    515\u001b[0m     \u001b[38;5;28;01mtry\u001b[39;00m:\n\u001b[0;32m--> 516\u001b[0m         \u001b[38;5;28mself\u001b[39m\u001b[38;5;241m.\u001b[39mdtype \u001b[38;5;241m=\u001b[39m \u001b[43mnumeric\u001b[49m\u001b[38;5;241;43m.\u001b[39;49m\u001b[43mdtype\u001b[49m\u001b[43m(\u001b[49m\u001b[43mint_type\u001b[49m\u001b[43m)\u001b[49m\n\u001b[1;32m    517\u001b[0m     \u001b[38;5;28;01mexcept\u001b[39;00m \u001b[38;5;167;01mTypeError\u001b[39;00m:\n\u001b[1;32m    518\u001b[0m         \u001b[38;5;28mself\u001b[39m\u001b[38;5;241m.\u001b[39mdtype \u001b[38;5;241m=\u001b[39m numeric\u001b[38;5;241m.\u001b[39mdtype(\u001b[38;5;28mtype\u001b[39m(int_type))\n",
      "\u001b[0;31mKeyboardInterrupt\u001b[0m: "
     ]
    }
   ],
   "source": [
    "#%%capture\n",
    "from tqdm import tqdm\n",
    "import torch.nn as nn\n",
    "from sklearn.model_selection import KFold\n",
    "from sklearn.preprocessing import OneHotEncoder\n",
    "import torch\n",
    "#from model import ChebNetGCN\n",
    "\n",
    "\n",
    "NUM_EPOCHS = 400\n",
    "NUM_CHANNELS = 21\n",
    "NUM_CLASSES = 2\n",
    "NUM_NODE_FEATURES = 7\n",
    "BATCH_SIZE = 128\n",
    "DEVICE = torch.device(\"cpu\")\n",
    "\n",
    "loss_func = nn.CrossEntropyLoss()\n",
    "\n",
    "all_train_losses = []\n",
    "all_val_losses = []\n",
    "all_train_f1 = []\n",
    "all_val_f1 = []\n",
    "\n",
    "skf = KFold(n_splits=5, shuffle=True)\n",
    "skf.get_n_splits(train_X, train_y)\n",
    "\n",
    "print(\"Training Model....\")\n",
    "for i, (train_index, val_index) in enumerate(skf.split(train_X, train_y)):\n",
    "    \n",
    "    model = ChebNetGCN(NUM_NODE_FEATURES, 32, NUM_CHANNELS, 32, NUM_CLASSES)\n",
    "\n",
    "    optimizer = torch.optim.Adam(model.parameters(), lr=1e-4)\n",
    "\n",
    "    train_X_subset = train_X[train_index]\n",
    "    train_y_subset = train_y[train_index]\n",
    "    train_graphs_subset = train_graphs[train_index]\n",
    "    val_X = train_X[val_index]\n",
    "    val_y = train_y[val_index]\n",
    "    val_graphs_subset = train_graphs[val_index]\n",
    "\n",
    "    encoder = OneHotEncoder()\n",
    "    train_y_subset = encoder.fit_transform(train_y_subset).toarray()\n",
    "    val_y = encoder.transform(val_y).toarray()\n",
    "\n",
    "    train_iter = data_loader(train_X_subset ,train_graphs_subset, train_y_subset, DEVICE, BATCH_SIZE, shuffle=True)\n",
    "    val_iter = data_loader(val_X, val_graphs_subset, val_y, DEVICE, BATCH_SIZE, shuffle=False)\n",
    "\n",
    "    kfold_train_loss = []\n",
    "    kfold_val_loss = []\n",
    "    kfold_train_f1 = []\n",
    "    kfold_val_f1 = []\n",
    "    for epoch in tqdm(range(1, NUM_EPOCHS + 1)):\n",
    "        loss_sum, n = 0.0, 0\n",
    "        model.train()\n",
    "        for t, (x, A, y) in enumerate(train_iter):\n",
    "            optimizer.zero_grad()\n",
    "            x = x.float()\n",
    "            A = A.float()\n",
    "            y_pred = model(x, A)\n",
    "            loss = loss_func(y_pred, y)\n",
    "            loss_sum += loss#.item()\n",
    "            loss.backward()\n",
    "            optimizer.step()\n",
    "\n",
    "        train_loss = evaluate_model(model, loss_func, train_iter)\n",
    "        val_loss = evaluate_model(model, loss_func, val_iter)\n",
    "        train_f1 = cal_accuracy(model, train_iter)[-1]\n",
    "        val_f1 = cal_accuracy(model, val_iter)[-1]\n",
    "        kfold_train_loss.append(train_loss)\n",
    "        kfold_val_loss.append(val_loss)\n",
    "        kfold_train_f1.append(train_f1)\n",
    "        kfold_val_f1.append(val_f1)\n",
    "\n",
    "    all_train_losses.append(kfold_train_loss)\n",
    "    all_val_losses.append(kfold_val_loss)\n",
    "    all_train_f1.append(kfold_train_f1)\n",
    "    all_val_f1.append(kfold_val_f1)"
   ]
  },
  {
   "cell_type": "code",
   "execution_count": 27,
   "id": "d460eac4-9db6-495f-961a-02133296de3c",
   "metadata": {
    "tags": []
   },
   "outputs": [
    {
     "name": "stderr",
     "output_type": "stream",
     "text": [
      "No artists with labels found to put in legend.  Note that artists whose label start with an underscore are ignored when legend() is called with no argument.\n"
     ]
    },
    {
     "data": {
      "image/png": "[encoded data removed]",
      "text/plain": [
       "<Figure size 640x480 with 1 Axes>"
      ]
     },
     "metadata": {},
     "output_type": "display_data"
    }
   ],
   "source": [
    "import matplotlib.pyplot as plt\n",
    "\n",
    "all_val_losses = np.moveaxis(np.array(all_val_losses), 0, 1)\n",
    "all_train_losses = np.moveaxis(np.array(all_train_losses), 0, 1)\n",
    "plt.plot(all_train_losses, color='blue')\n",
    "plt.plot(all_val_losses, color='orange')\n",
    "plt.xlabel(\"Epochs\")\n",
    "plt.xticks(range(0, 500, 50), range(1, 501, 50))\n",
    "plt.ylabel(\"BCE loss\")\n",
    "plt.legend(loc=\"upper right\")\n",
    "plt.show()"
   ]
  },
  {
   "cell_type": "code",
   "execution_count": 28,
   "id": "b8c7b2fa-e3c9-4e92-800d-78ff896cc7f0",
   "metadata": {},
   "outputs": [
    {
     "name": "stderr",
     "output_type": "stream",
     "text": [
      "No artists with labels found to put in legend.  Note that artists whose label start with an underscore are ignored when legend() is called with no argument.\n"
     ]
    },
    {
     "data": {
      "image/png": "[encoded data removed]",
      "text/plain": [
       "<Figure size 640x480 with 1 Axes>"
      ]
     },
     "metadata": {},
     "output_type": "display_data"
    }
   ],
   "source": [
    "all_val_f1 = np.moveaxis(np.array(all_val_f1), 0, 1)\n",
    "all_train_f1 = np.moveaxis(np.array(all_train_f1), 0, 1)\n",
    "plt.plot(all_train_f1, color='blue')\n",
    "plt.plot(all_val_f1, color='orange')\n",
    "plt.xlabel(\"Epochs\")\n",
    "plt.xticks(range(0, 500, 100), range(1, 501, 100))\n",
    "plt.ylabel(\"F1\")\n",
    "plt.legend(loc=\"upper right\")\n",
    "plt.show()"
   ]
  },
  {
   "cell_type": "code",
   "execution_count": 100,
   "id": "02b3953b-1730-4eb8-a275-4062b8e51090",
   "metadata": {
    "collapsed": true,
    "jupyter": {
     "outputs_hidden": true
    },
    "tags": []
   },
   "outputs": [
    {
     "name": "stdout",
     "output_type": "stream",
     "text": [
      "Training Model....\n",
      "1 0.667739340305712 0.6617647058823529\n",
      "2 0.667739340305712 0.6617647058823529\n",
      "3 0.667739340305712 0.6617647058823529\n",
      "4 0.667739340305712 0.6617647058823529\n",
      "5 0.667739340305712 0.6617647058823529\n",
      "6 0.66934835076428 0.6617647058823529\n",
      "7 0.6967015285599356 0.7279411764705882\n",
      "8 0.7240547063555913 0.7647058823529411\n",
      "9 0.7055510860820595 0.7279411764705882\n",
      "10 0.7047465808527755 0.6911764705882353\n",
      "11 0.7063555913113435 0.7058823529411765\n",
      "12 0.7135961383748994 0.7132352941176471\n",
      "13 0.7184231697506034 0.7279411764705882\n",
      "14 0.7240547063555913 0.7352941176470589\n",
      "15 0.7337087691069992 0.7573529411764706\n",
      "16 0.7465808527755431 0.7941176470588235\n",
      "17 0.7457763475462591 0.8088235294117647\n",
      "18 0.7401448109412712 0.8088235294117647\n",
      "19 0.7465808527755431 0.8161764705882353\n",
      "20 0.7377312952534192 0.7941176470588235\n",
      "21 0.7401448109412712 0.7941176470588235\n",
      "22 0.7208366854384554 0.75\n",
      "23 0.7256637168141593 0.7794117647058824\n",
      "24 0.7401448109412712 0.7867647058823529\n",
      "25 0.7441673370876911 0.7941176470588235\n",
      "26 0.7473853580048271 0.8014705882352942\n",
      "27 0.7449718423169751 0.7941176470588235\n",
      "28 0.7489943684633951 0.7941176470588235\n",
      "29 0.7626709573612228 0.7867647058823529\n",
      "30 0.7578439259855189 0.8014705882352942\n",
      "31 0.7626709573612228 0.8014705882352942\n",
      "32 0.7497988736926791 0.7941176470588235\n",
      "33 0.7634754625905068 0.7941176470588235\n",
      "34 0.7787610619469026 0.8088235294117647\n",
      "35 0.7739340305711987 0.8088235294117647\n",
      "36 0.7771520514883347 0.8088235294117647\n",
      "37 0.7771520514883347 0.8088235294117647\n",
      "38 0.7602574416733708 0.7794117647058824\n",
      "39 0.7739340305711987 0.8014705882352942\n",
      "40 0.7747385358004827 0.8088235294117647\n",
      "41 0.7843925985518906 0.8088235294117647\n",
      "42 0.7851971037811746 0.8014705882352942\n",
      "43 0.7827835880933226 0.8088235294117647\n",
      "44 0.7916331456154465 0.8014705882352942\n",
      "45 0.7892196299275945 0.8014705882352942\n",
      "46 0.7884151246983105 0.8088235294117647\n",
      "47 0.7908286403861625 0.7941176470588235\n",
      "48 0.7948511665325825 0.8088235294117647\n",
      "49 0.7948511665325825 0.8088235294117647\n",
      "50 0.7956556717618665 0.8088235294117647\n",
      "51 0.7980691874497184 0.8161764705882353\n",
      "52 0.7988736926790024 0.8161764705882353\n",
      "53 0.8045052292839904 0.8235294117647058\n",
      "54 0.8037007240547064 0.8308823529411765\n",
      "55 0.8045052292839904 0.8308823529411765\n",
      "56 0.8085277554304103 0.8308823529411765\n",
      "57 0.8077232502011263 0.8308823529411765\n",
      "58 0.8085277554304103 0.8382352941176471\n",
      "59 0.8085277554304103 0.8382352941176471\n",
      "60 0.8093322606596943 0.8308823529411765\n",
      "61 0.8109412711182623 0.8235294117647058\n",
      "62 0.8125502815768303 0.8308823529411765\n",
      "63 0.8077232502011263 0.8308823529411765\n",
      "64 0.8125502815768303 0.8235294117647058\n",
      "65 0.8061142397425584 0.8161764705882353\n",
      "66 0.8157683024939663 0.8308823529411765\n",
      "67 0.8133547868061143 0.8308823529411765\n",
      "68 0.8165728077232502 0.8382352941176471\n",
      "69 0.8141592920353983 0.8308823529411765\n",
      "70 0.8133547868061143 0.8308823529411765\n",
      "71 0.8197908286403862 0.8529411764705882\n",
      "72 0.8141592920353983 0.8382352941176471\n",
      "73 0.8157683024939663 0.8235294117647058\n",
      "74 0.8189863234111022 0.8382352941176471\n",
      "75 0.8157683024939663 0.8382352941176471\n",
      "76 0.8205953338696702 0.8308823529411765\n",
      "77 0.8197908286403862 0.8235294117647058\n",
      "78 0.8205953338696702 0.8308823529411765\n",
      "79 0.8213998390989542 0.8382352941176471\n",
      "80 0.8165728077232502 0.8455882352941176\n",
      "81 0.8213998390989542 0.8455882352941176\n",
      "82 0.8230088495575221 0.8455882352941176\n",
      "83 0.82461786001609 0.8455882352941176\n",
      "84 0.82461786001609 0.8529411764705882\n",
      "85 0.825422365245374 0.8529411764705882\n",
      "86 0.8213998390989542 0.8455882352941176\n",
      "87 0.8189863234111022 0.8455882352941176\n",
      "88 0.825422365245374 0.8455882352941176\n",
      "89 0.8189863234111022 0.8455882352941176\n",
      "90 0.8189863234111022 0.8529411764705882\n",
      "91 0.827031375703942 0.8455882352941176\n",
      "92 0.8181818181818182 0.8455882352941176\n",
      "93 0.8189863234111022 0.8455882352941176\n",
      "94 0.8205953338696702 0.8529411764705882\n",
      "95 0.827835880933226 0.8382352941176471\n",
      "96 0.82461786001609 0.8382352941176471\n",
      "97 0.830249396621078 0.8455882352941176\n",
      "98 0.8238133547868061 0.8529411764705882\n",
      "99 0.827835880933226 0.8529411764705882\n",
      "100 0.826226870474658 0.8529411764705882\n",
      "101 0.829444891391794 0.8382352941176471\n",
      "102 0.827835880933226 0.8455882352941176\n",
      "103 0.82864038616251 0.8529411764705882\n",
      "104 0.827835880933226 0.8529411764705882\n",
      "105 0.825422365245374 0.8529411764705882\n",
      "106 0.827835880933226 0.8529411764705882\n",
      "107 0.827835880933226 0.8529411764705882\n",
      "108 0.827031375703942 0.8529411764705882\n",
      "109 0.831858407079646 0.8529411764705882\n",
      "110 0.831053901850362 0.8529411764705882\n",
      "111 0.830249396621078 0.8529411764705882\n",
      "112 0.829444891391794 0.8602941176470589\n",
      "113 0.833467417538214 0.8529411764705882\n",
      "114 0.833467417538214 0.8308823529411765\n",
      "115 0.827031375703942 0.8382352941176471\n",
      "116 0.825422365245374 0.8602941176470589\n",
      "117 0.831053901850362 0.8529411764705882\n",
      "118 0.82864038616251 0.8529411764705882\n",
      "119 0.83266291230893 0.8529411764705882\n",
      "120 0.831858407079646 0.8602941176470589\n",
      "121 0.834271922767498 0.8455882352941176\n",
      "122 0.8366854384553499 0.8529411764705882\n",
      "123 0.831858407079646 0.8382352941176471\n",
      "124 0.833467417538214 0.8382352941176471\n",
      "125 0.833467417538214 0.8529411764705882\n",
      "126 0.82461786001609 0.875\n",
      "127 0.830249396621078 0.8529411764705882\n",
      "128 0.8358809332260659 0.8529411764705882\n",
      "129 0.831053901850362 0.8382352941176471\n",
      "130 0.835076427996782 0.8382352941176471\n"
     ]
    }
   ],
   "source": [
    "#%%capture\n",
    "from tqdm import tqdm\n",
    "from tqdm import tqdm\n",
    "import torch.nn as nn\n",
    "from sklearn.model_selection import KFold\n",
    "from sklearn.preprocessing import OneHotEncoder\n",
    "import torch\n",
    "#from model import ChebNetGCN\n",
    "\n",
    "print(\"Training Model....\")\n",
    "NUM_EPOCHS = 130\n",
    "NUM_CHANNELS = 21\n",
    "NUM_CLASSES = 2\n",
    "NUM_NODE_FEATURES = 7\n",
    "BATCH_SIZE = 128\n",
    "DEVICE = torch.device(\"cpu\")\n",
    "\n",
    "model = ChebNetGCN(NUM_NODE_FEATURES, 32, NUM_CHANNELS, 32, NUM_CLASSES)\n",
    "loss_func = nn.CrossEntropyLoss()\n",
    "optimizer = torch.optim.Adam(model.parameters(), lr=1e-4)\n",
    "encoder = OneHotEncoder()\n",
    "train_y_ohe = encoder.fit_transform(train_y).toarray()\n",
    "test_y_ohe = encoder.fit_transform(test_y).toarray()\n",
    "    \n",
    "train_iter = data_loader(train_X , train_graphs, train_y_ohe, DEVICE, BATCH_SIZE, shuffle=True)\n",
    "test_iter = data_loader(test_X , test_graphs, test_y_ohe, DEVICE, BATCH_SIZE, shuffle=False)\n",
    "  \n",
    "for epoch in range(1, NUM_EPOCHS + 1):\n",
    "    loss_sum, n = 0.0, 0\n",
    "    model.train()\n",
    "    for t, (x, A, y) in enumerate(train_iter):\n",
    "        optimizer.zero_grad()\n",
    "        x = x.float()\n",
    "        A = A.float()\n",
    "        y_pred = model(x, A)\n",
    "        loss = loss_func(y_pred, y)\n",
    "        loss_sum += loss\n",
    "        loss.backward()\n",
    "        optimizer.step()\n",
    "    test_acc = cal_accuracy(model, test_iter)\n",
    "    train_acc = cal_accuracy(model, train_iter)\n",
    "    print(epoch, train_acc[0], test_acc[0])"
   ]
  },
  {
   "cell_type": "code",
   "execution_count": 101,
   "id": "66a63193-f64a-4729-8048-577bcb1489ff",
   "metadata": {
    "tags": []
   },
   "outputs": [
    {
     "name": "stdout",
     "output_type": "stream",
     "text": [
      "Accuracy:  0.8382352941176471\n",
      "Precision:  0.8617021276595744\n",
      "Recall:  0.9\n",
      "F1:  0.8804347826086957\n",
      "Confusion Matrix:  [[33 13]\n",
      " [ 9 81]]\n"
     ]
    }
   ],
   "source": [
    "test_acc = cal_accuracy(model, test_iter)\n",
    "print(\"Accuracy: \", test_acc[0])\n",
    "print(\"Precision: \", test_acc[2])\n",
    "print(\"Recall: \", test_acc[3])\n",
    "print(\"F1: \", test_acc[4])\n",
    "print(\"Confusion Matrix: \", test_acc[1])"
   ]
  },
  {
   "cell_type": "markdown",
   "id": "57220c92-c6b8-46de-91a5-530c86f0305b",
   "metadata": {},
   "source": [
    "## Uncertainty Analysis"
   ]
  },
  {
   "cell_type": "markdown",
   "id": "ab8c7167-0d58-4a11-ac06-39f5c303e891",
   "metadata": {},
   "source": [
    "Here we run the model 20 times to record the stability"
   ]
  },
  {
   "cell_type": "code",
   "execution_count": 104,
   "id": "f069fbdc-8423-4575-87e6-b5cc0ad88505",
   "metadata": {
    "tags": []
   },
   "outputs": [
    {
     "name": "stdout",
     "output_type": "stream",
     "text": [
      "Training Model....\n"
     ]
    },
    {
     "name": "stderr",
     "output_type": "stream",
     "text": [
      "100%|████████████████████████████████████████| 20/20 [2:19:17<00:00, 417.87s/it]\n"
     ]
    }
   ],
   "source": [
    "#%%capture\n",
    "print(\"Training Model....\")\n",
    "import random\n",
    "#from model import ChebNetGCN\n",
    "NUM_EPOCHS = 130\n",
    "NUM_CHANNELS = 21\n",
    "NUM_CLASSES = 2\n",
    "NUM_NODE_FEATURES = 7\n",
    "BATCH_SIZE = 128\n",
    "DEVICE = torch.device(\"cpu\")\n",
    "\n",
    "test_accuaries = []\n",
    "NUM_MODELS = 20\n",
    "\n",
    "for model_idx in tqdm(range(NUM_MODELS)):\n",
    "    seed = random.randint(0, 100000)\n",
    "    torch.manual_seed(seed)\n",
    "    model = ChebNetGCN(NUM_NODE_FEATURES, 32, NUM_CHANNELS, 32, NUM_CLASSES)\n",
    "    loss_func = nn.CrossEntropyLoss()\n",
    "    optimizer = torch.optim.Adam(model.parameters(), lr=1e-4)\n",
    "    encoder = OneHotEncoder()\n",
    "    train_y_ohe = encoder.fit_transform(train_y).toarray()\n",
    "    test_y_ohe = encoder.fit_transform(test_y).toarray()\n",
    "\n",
    "    train_iter = data_loader(train_X , train_graphs, train_y_ohe, DEVICE, BATCH_SIZE, shuffle=True)\n",
    "    test_iter = data_loader(test_X , test_graphs, test_y_ohe, DEVICE, BATCH_SIZE, shuffle=False)\n",
    "\n",
    "    for epoch in range(1, NUM_EPOCHS + 1):\n",
    "        loss_sum, n = 0.0, 0\n",
    "        model.train()\n",
    "        for t, (x, A, y) in enumerate(train_iter):\n",
    "            optimizer.zero_grad()\n",
    "            x = x.float()\n",
    "            A = A.float()\n",
    "            y_pred = model(x, A)\n",
    "            loss = loss_func(y_pred, y)\n",
    "            loss_sum += loss\n",
    "            loss.backward()\n",
    "            optimizer.step()\n",
    "            \n",
    "    test_acc = cal_accuracy(model, test_iter)\n",
    "    test_accuaries.append([test_acc[0], test_acc[2], test_acc[3], test_acc[4]])\n",
    "test_accuaries = np.array(test_accuaries)"
   ]
  },
  {
   "cell_type": "code",
   "execution_count": 105,
   "id": "f32d7a09-1b3d-4736-bdf3-37a03d547447",
   "metadata": {},
   "outputs": [
    {
     "name": "stdout",
     "output_type": "stream",
     "text": [
      "Accuracy:  0.018659672853602233\n",
      "Precision:  0.012796498343135544\n",
      "Recall:  0.03319880259628592\n",
      "F1:  0.015701106863524994\n"
     ]
    }
   ],
   "source": [
    "print(\"Accuracy: \", test_accuaries[:, 0].std())\n",
    "print(\"Precision: \", test_accuaries[:, 1].std())\n",
    "print(\"Recall: \", test_accuaries[:, 2].std())\n",
    "print(\"F1: \", test_accuaries[:, 3].std())"
   ]
  },
  {
   "cell_type": "code",
   "execution_count": 106,
   "id": "bae88d78-725b-4c7b-8564-a0d8a7a6e5be",
   "metadata": {},
   "outputs": [
    {
     "name": "stdout",
     "output_type": "stream",
     "text": [
      "Accuracy:  0.8205882352941177\n",
      "Precision:  0.8452024324517164\n",
      "Recall:  0.8927777777777777\n",
      "F1:  0.8679338122578869\n"
     ]
    }
   ],
   "source": [
    "print(\"Accuracy: \", test_accuaries[:, 0].mean())\n",
    "print(\"Precision: \", test_accuaries[:, 1].mean())\n",
    "print(\"Recall: \", test_accuaries[:, 2].mean())\n",
    "print(\"F1: \", test_accuaries[:, 3].mean())"
   ]
  },
  {
   "cell_type": "markdown",
   "id": "f6aae569-5663-4fad-b1b2-07d62521c205",
   "metadata": {},
   "source": [
    "## Corr"
   ]
  },
  {
   "cell_type": "code",
   "execution_count": 37,
   "id": "73e91ab7-73d1-4351-9cbe-c6ef0e720264",
   "metadata": {},
   "outputs": [
    {
     "name": "stderr",
     "output_type": "stream",
     "text": [
      "100%|███████████████████████████████████████| 1243/1243 [02:21<00:00,  8.78it/s]\n",
      "100%|█████████████████████████████████████████| 136/136 [00:14<00:00,  9.10it/s]\n"
     ]
    }
   ],
   "source": [
    "import numpy as np\n",
    "\n",
    "def build_graphs(raw_data):\n",
    "    \n",
    "    fs = 100\n",
    "    \n",
    "    data_graphs = []\n",
    "    \n",
    "    for file in tqdm(raw_data):\n",
    "        \n",
    "        data = mne.io.read_raw(file, verbose=False, preload=True)\n",
    "        ch_names = data.ch_names\n",
    "        #data.resample(sfreq=100)\n",
    "        data.filter(l_freq=0.5, h_freq=47, verbose=False)\n",
    "        #data = mne.make_fixed_length_epochs(data, duration=5, overlap=1, verbose=False)\n",
    "        data = data.get_data()*1e6\n",
    "          \n",
    "        corr = []\n",
    "        for i in range(21):\n",
    "            corr1 = []\n",
    "            for j in range(21):\n",
    "                corr1.append(np.correlate(data[i], data[j])[0])\n",
    "            corr.append(corr1)\n",
    "        data_graphs.append(corr)    \n",
    "        \n",
    "    data_graphs = np.array(data_graphs)\n",
    "    \n",
    "    return data_graphs\n",
    "\n",
    "train_corr_graphs = build_graphs(train_data_files)\n",
    "test_corr_graphs = build_graphs(test_data_files)"
   ]
  },
  {
   "cell_type": "code",
   "execution_count": 51,
   "id": "823bb5b9-d230-4e83-a3d9-eaec9f8fad69",
   "metadata": {},
   "outputs": [],
   "source": [
    "#np.save(\"../caueeg_features/conn_data/corr/train_graphs.npy\", train_corr_graphs)\n",
    "#np.save(\"../caueeg_features/conn_data/corr/test_graphs.npy\", test_corr_graphs)\n",
    "\n",
    "train_graphs = np.load(\"../caueeg_features/conn_data/corr/train_graphs.npy\")\n",
    "test_graphs = np.load(\"../caueeg_features/conn_data/corr/test_graphs.npy\")"
   ]
  },
  {
   "cell_type": "code",
   "execution_count": 52,
   "id": "ca79491a-3a48-47a6-8a8e-e56bc02d3ebc",
   "metadata": {},
   "outputs": [],
   "source": [
    "import copy\n",
    "\n",
    "def uniform(train_graphs, test_graphs):\n",
    "    out_train = copy.deepcopy(train_graphs)\n",
    "    out_test = copy.deepcopy(test_graphs)\n",
    "\n",
    "    min_A = train_graphs.min()\n",
    "    max_A = train_graphs.max()\n",
    "    out_train = (train_graphs - min_A)/(max_A - min_A)\n",
    "    out_test = (test_graphs - min_A)/(max_A - min_A)\n",
    "\n",
    "    return out_train, out_test\n",
    "\n",
    "train_graphs, test_graphs = uniform(train_corr_graphs, test_corr_graphs)"
   ]
  },
  {
   "cell_type": "code",
   "execution_count": 53,
   "id": "4cd78ff3-6f09-42ec-89ab-e1368901ea07",
   "metadata": {},
   "outputs": [
    {
     "data": {
      "text/plain": [
       "(-0.09023545229533633,\n",
       " 0.952380943275603,\n",
       " -0.2861318394186823,\n",
       " 0.9523809354988071)"
      ]
     },
     "execution_count": 53,
     "metadata": {},
     "output_type": "execute_result"
    }
   ],
   "source": [
    "import networkx as nx\n",
    "test_graphs_normalized = []\n",
    "train_graphs_normalized = []\n",
    "\n",
    "for graph in test_graphs:\n",
    "    graph = nx.Graph(graph)\n",
    "    test_graphs_normalized.append(nx.normalized_laplacian_matrix(graph).toarray())\n",
    "for graph in train_graphs:\n",
    "    graph = nx.Graph(graph)\n",
    "    train_graphs_normalized.append(nx.normalized_laplacian_matrix(graph).toarray())\n",
    "\n",
    "train_graphs = np.array(train_graphs_normalized)  \n",
    "test_graphs = np.array(test_graphs_normalized)  \n",
    "\n",
    "test_graphs.min(), test_graphs.max(), train_graphs.min(), train_graphs.max()"
   ]
  },
  {
   "cell_type": "code",
   "execution_count": 54,
   "id": "20736e84-e2ad-4af4-bf76-f9d87e5bcfac",
   "metadata": {},
   "outputs": [],
   "source": [
    "import numpy as np\n",
    "import torch\n",
    "import torch.nn as nn\n",
    "import torch.nn.functional as F\n",
    "from torch_geometric.nn import global_mean_pool, global_max_pool\n",
    "\n",
    "\n",
    "class ChebNetConv(nn.Module):\n",
    "    def __init__(self, in_features, out_features, k):\n",
    "        super(ChebNetConv, self).__init__()\n",
    "\n",
    "        self.K = k\n",
    "        self.linear = nn.Linear(in_features * k, out_features)\n",
    "\n",
    "    def forward(self, x: torch.Tensor, laplacian: torch.sparse_coo_tensor):\n",
    "        x = self.__transform_to_chebyshev(x, laplacian)\n",
    "        x = self.linear(x)\n",
    "        \n",
    "        return x\n",
    "\n",
    "    def __transform_to_chebyshev(self, x, laplacian):\n",
    "        cheb_x = x.unsqueeze(2)\n",
    "        x0 = x\n",
    "        if self.K > 1:\n",
    "            x1 = torch.matmul(laplacian, x0)\n",
    "            cheb_x = torch.cat((cheb_x, x1.unsqueeze(2)), 2)\n",
    "            for _ in range(2, self.K):\n",
    "                x2 = 2 * torch.matmul(laplacian, x1) - x0\n",
    "                cheb_x = torch.cat((cheb_x, x2.unsqueeze(2)), 2)\n",
    "                x0, x1 = x1, x2\n",
    "        cheb_x = cheb_x.reshape(cheb_x.shape[0], cheb_x.shape[1], cheb_x.shape[2]*cheb_x.shape[3])\n",
    "        return cheb_x\n",
    "\n",
    "    \n",
    "import torch.nn.functional as F\n",
    "\n",
    "\n",
    "class ChebNetGCN(nn.Module):\n",
    "    def __init__(self, input_size, hidden_size, num_electrodes, out_channels, \n",
    "                 num_classes, num_hidden_layers=2, dropout=0, residual=False, k=2):\n",
    "        super(ChebNetGCN, self).__init__()\n",
    "\n",
    "        self.dropout = dropout\n",
    "        self.residual = residual\n",
    "\n",
    "        self.input_conv = ChebNetConv(input_size, hidden_size, k)\n",
    "        self.hidden_convs = nn.ModuleList([ChebNetConv(hidden_size, hidden_size, k) for _ in range(num_hidden_layers)])\n",
    "        self.output_conv = ChebNetConv(hidden_size, out_channels, k)\n",
    "        self.BN1 = nn.BatchNorm1d(out_channels)\n",
    "        self.fc = nn.Linear(out_channels, num_classes)\n",
    "        \n",
    "    def forward(self, x: torch.Tensor, laplacian: torch.sparse_coo_tensor, edge_weight=None):\n",
    "        if edge_weight is not None:\n",
    "            laplacian = edge_weight * laplacian\n",
    "        x = F.dropout(x, p=self.dropout, training=self.training)\n",
    "        #print(x.shape)\n",
    "        x = F.relu(self.input_conv(x, laplacian))\n",
    "        #print(x.shape)\n",
    "        for conv in self.hidden_convs:\n",
    "            if self.residual:\n",
    "                x = F.relu(conv(x, laplacian)) + x\n",
    "            else:\n",
    "                x = F.relu(conv(x, laplacian))\n",
    "        #print(x.shape)        \n",
    "        x = F.dropout(x, p=self.dropout, training=self.training)\n",
    "        x = self.output_conv(x, laplacian)\n",
    "        #print(x.shape)\n",
    "        x = x.squeeze()\n",
    "        batch =None\n",
    "        x = global_mean_pool(x, batch)\n",
    "        #print(x.shape)\n",
    "        x = self.BN1(x)\n",
    "        x = self.fc(x)\n",
    "        #print(x.shape)\n",
    "        return x"
   ]
  },
  {
   "cell_type": "code",
   "execution_count": 61,
   "id": "6ee4c300-53cc-482b-b239-e4d9988e1fa6",
   "metadata": {
    "tags": []
   },
   "outputs": [
    {
     "name": "stdout",
     "output_type": "stream",
     "text": [
      "Training Model....\n"
     ]
    },
    {
     "name": "stderr",
     "output_type": "stream",
     "text": [
      "100%|███████████████████████████████████████| 1000/1000 [02:19<00:00,  7.16it/s]\n",
      "100%|███████████████████████████████████████| 1000/1000 [02:46<00:00,  6.01it/s]\n",
      "100%|███████████████████████████████████████| 1000/1000 [01:44<00:00,  9.55it/s]\n",
      "100%|███████████████████████████████████████| 1000/1000 [01:43<00:00,  9.64it/s]\n",
      "100%|███████████████████████████████████████| 1000/1000 [01:59<00:00,  8.38it/s]\n"
     ]
    }
   ],
   "source": [
    "#%%capture\n",
    "from tqdm import tqdm\n",
    "import torch.nn as nn\n",
    "from sklearn.model_selection import KFold\n",
    "from sklearn.preprocessing import OneHotEncoder\n",
    "import torch\n",
    "#from model import ChebNetGCN\n",
    "\n",
    "\n",
    "NUM_EPOCHS = 1000\n",
    "NUM_CHANNELS = 21\n",
    "NUM_CLASSES = 2\n",
    "NUM_NODE_FEATURES = 7\n",
    "BATCH_SIZE = 128\n",
    "DEVICE = torch.device(\"cpu\")\n",
    "\n",
    "loss_func = nn.CrossEntropyLoss()\n",
    "\n",
    "all_train_losses = []\n",
    "all_val_losses = []\n",
    "all_train_f1 = []\n",
    "all_val_f1 = []\n",
    "\n",
    "skf = KFold(n_splits=5, shuffle=True)\n",
    "skf.get_n_splits(train_X, train_y)\n",
    "\n",
    "print(\"Training Model....\")\n",
    "for i, (train_index, val_index) in enumerate(skf.split(train_X, train_y)):\n",
    "    \n",
    "    model = ChebNetGCN(NUM_NODE_FEATURES, 32, NUM_CHANNELS, 32, NUM_CLASSES)\n",
    "\n",
    "    optimizer = torch.optim.Adam(model.parameters(), lr=1e-4)\n",
    "\n",
    "    train_X_subset = train_X[train_index]\n",
    "    train_y_subset = train_y[train_index]\n",
    "    train_graphs_subset = train_graphs[train_index]\n",
    "    val_X = train_X[val_index]\n",
    "    val_y = train_y[val_index]\n",
    "    val_graphs_subset = train_graphs[val_index]\n",
    "\n",
    "    encoder = OneHotEncoder()\n",
    "    train_y_subset = encoder.fit_transform(train_y_subset).toarray()\n",
    "    val_y = encoder.transform(val_y).toarray()\n",
    "\n",
    "    batch_size = 128\n",
    "    train_iter = data_loader(train_X_subset ,train_graphs_subset, train_y_subset, DEVICE, BATCH_SIZE, shuffle=True)\n",
    "    val_iter = data_loader(val_X, val_graphs_subset, val_y, DEVICE, BATCH_SIZE, shuffle=False)\n",
    "\n",
    "    kfold_train_loss = []\n",
    "    kfold_val_loss = []\n",
    "    kfold_train_f1 = []\n",
    "    kfold_val_f1 = []\n",
    "    for epoch in tqdm(range(1, NUM_EPOCHS + 1)):\n",
    "        loss_sum, n = 0.0, 0\n",
    "        model.train()\n",
    "        for t, (x, A, y) in enumerate(train_iter):\n",
    "            optimizer.zero_grad()\n",
    "            x = x.float()\n",
    "            A = A.float()\n",
    "            y_pred = model(x, A)\n",
    "            loss = loss_func(y_pred, y)\n",
    "            loss_sum += loss#.item()\n",
    "            loss.backward()\n",
    "            optimizer.step()\n",
    "\n",
    "        train_loss = evaluate_model(model, loss_func, train_iter)\n",
    "        val_loss = evaluate_model(model, loss_func, val_iter)\n",
    "        train_f1 = cal_accuracy(model, train_iter)[-1]\n",
    "        val_f1 = cal_accuracy(model, val_iter)[-1]\n",
    "        kfold_train_loss.append(train_loss)\n",
    "        kfold_val_loss.append(val_loss)\n",
    "        kfold_train_f1.append(train_f1)\n",
    "        kfold_val_f1.append(val_f1)\n",
    "\n",
    "    all_train_losses.append(kfold_train_loss)\n",
    "    all_val_losses.append(kfold_val_loss)\n",
    "    all_train_f1.append(kfold_train_f1)\n",
    "    all_val_f1.append(kfold_val_f1)"
   ]
  },
  {
   "cell_type": "code",
   "execution_count": 62,
   "id": "97f28f68-e22d-4772-a821-97be2fafad50",
   "metadata": {},
   "outputs": [
    {
     "name": "stderr",
     "output_type": "stream",
     "text": [
      "No artists with labels found to put in legend.  Note that artists whose label start with an underscore are ignored when legend() is called with no argument.\n"
     ]
    },
    {
     "data": {
      "image/png": "[encoded data removed]",
      "text/plain": [
       "<Figure size 640x480 with 1 Axes>"
      ]
     },
     "metadata": {},
     "output_type": "display_data"
    }
   ],
   "source": [
    "import matplotlib.pyplot as plt\n",
    "\n",
    "all_val_losses = np.moveaxis(np.array(all_val_losses), 0, 1)\n",
    "all_train_losses = np.moveaxis(np.array(all_train_losses), 0, 1)\n",
    "plt.plot(all_train_losses, color='blue')\n",
    "plt.plot(all_val_losses, color='orange')\n",
    "plt.xlabel(\"Epochs\")\n",
    "plt.xticks(range(0, 1000, 100), range(1, 1001, 100))\n",
    "plt.ylabel(\"BCE loss\")\n",
    "plt.legend(loc=\"upper right\")\n",
    "plt.show()"
   ]
  },
  {
   "cell_type": "code",
   "execution_count": 69,
   "id": "9425faa5-c501-4b4d-8508-266041375122",
   "metadata": {},
   "outputs": [
    {
     "name": "stdout",
     "output_type": "stream",
     "text": [
      "Training Model....\n"
     ]
    },
    {
     "name": "stderr",
     "output_type": "stream",
     "text": [
      "100%|█████████████████████████████████████████| 150/150 [00:12<00:00, 12.44it/s]\n"
     ]
    }
   ],
   "source": [
    "#%%capture\n",
    "from tqdm import tqdm\n",
    "from tqdm import tqdm\n",
    "import torch.nn as nn\n",
    "from sklearn.model_selection import KFold\n",
    "from sklearn.preprocessing import OneHotEncoder\n",
    "import torch\n",
    "#from model import ChebNetGCN\n",
    "\n",
    "\n",
    "print(\"Training Model....\")\n",
    "NUM_EPOCHS = 150\n",
    "NUM_CHANNELS = 21\n",
    "NUM_CLASSES = 2\n",
    "NUM_NODE_FEATURES = 7\n",
    "BATCH_SIZE = 128\n",
    "DEVICE = torch.device(\"cpu\")\n",
    "\n",
    "model = ChebNetGCN(NUM_NODE_FEATURES, 32, NUM_CHANNELS, 32, NUM_CLASSES)\n",
    "loss_func = nn.CrossEntropyLoss()\n",
    "optimizer = torch.optim.Adam(model.parameters(), lr=1e-4)\n",
    "encoder = OneHotEncoder()\n",
    "train_y_ohe = encoder.fit_transform(train_y).toarray()\n",
    "test_y_ohe = encoder.fit_transform(test_y).toarray()\n",
    "    \n",
    "train_iter = data_loader(train_X, train_graphs, train_y_ohe, DEVICE, BATCH_SIZE, shuffle=True)\n",
    "test_iter = data_loader(test_X, test_graphs, test_y_ohe, DEVICE, BATCH_SIZE, shuffle=False)\n",
    "  \n",
    "for epoch in tqdm(range(1, NUM_EPOCHS + 1)):\n",
    "    loss_sum, n = 0.0, 0\n",
    "    model.train()\n",
    "    for t, (x, A, y) in enumerate(train_iter):\n",
    "        optimizer.zero_grad()\n",
    "        x = x.float()\n",
    "        A = A.float()\n",
    "        y_pred = model(x, A)\n",
    "        loss = loss_func(y_pred, y)\n",
    "        loss_sum += loss\n",
    "        loss.backward()\n",
    "        optimizer.step()"
   ]
  },
  {
   "cell_type": "code",
   "execution_count": 70,
   "id": "4c90c73e-0c6e-4b19-9b3d-d46c498386aa",
   "metadata": {},
   "outputs": [
    {
     "name": "stdout",
     "output_type": "stream",
     "text": [
      "Accuracy:  0.7941176470588235\n",
      "Precision:  0.8297872340425532\n",
      "Recall:  0.8666666666666667\n",
      "F1:  0.8478260869565217\n",
      "Confusion Matrix:  [[30 16]\n",
      " [12 78]]\n"
     ]
    }
   ],
   "source": [
    "test_acc = cal_accuracy(model, test_iter)\n",
    "print(\"Accuracy: \", test_acc[0])\n",
    "print(\"Precision: \", test_acc[2])\n",
    "print(\"Recall: \", test_acc[3])\n",
    "print(\"F1: \", test_acc[4])\n",
    "print(\"Confusion Matrix: \", test_acc[1])"
   ]
  },
  {
   "cell_type": "markdown",
   "id": "3ae19d23-d8b2-4725-a6ca-46db733700d9",
   "metadata": {},
   "source": [
    "## Stability of the model"
   ]
  },
  {
   "cell_type": "code",
   "execution_count": 71,
   "id": "91608a49-5389-4419-8e2f-1927f4f84eea",
   "metadata": {},
   "outputs": [
    {
     "name": "stdout",
     "output_type": "stream",
     "text": [
      "Training Model....\n"
     ]
    },
    {
     "name": "stderr",
     "output_type": "stream",
     "text": [
      "100%|███████████████████████████████████████████| 20/20 [02:51<00:00,  8.59s/it]\n"
     ]
    }
   ],
   "source": [
    "#%%capture\n",
    "print(\"Training Model....\")\n",
    "import random\n",
    "NUM_EPOCHS = 150\n",
    "NUM_CHANNELS = 21\n",
    "NUM_CLASSES = 2\n",
    "NUM_NODE_FEATURES = 7\n",
    "BATCH_SIZE = 128\n",
    "DEVICE = torch.device(\"cpu\")\n",
    "\n",
    "test_accuaries = []\n",
    "NUM_MODELS = 20\n",
    "\n",
    "for model_idx in tqdm(range(NUM_MODELS)):\n",
    "    seed = random.randint(0, 100000)\n",
    "    torch.manual_seed(seed)\n",
    "    model = ChebNetGCN(NUM_NODE_FEATURES, 32, NUM_CHANNELS, 32, NUM_CLASSES)\n",
    "    loss_func = nn.CrossEntropyLoss()\n",
    "    optimizer = torch.optim.Adam(model.parameters(), lr=1e-4)\n",
    "    encoder = OneHotEncoder()\n",
    "    train_y_ohe = encoder.fit_transform(train_y).toarray()\n",
    "    test_y_ohe = encoder.fit_transform(test_y).toarray()\n",
    "\n",
    "    train_iter = data_loader(train_X, train_graphs, train_y_ohe, DEVICE, BATCH_SIZE, shuffle=True)\n",
    "    test_iter = data_loader(test_X, test_graphs, test_y_ohe, DEVICE, BATCH_SIZE, shuffle=False)\n",
    "\n",
    "    for epoch in range(1, NUM_EPOCHS + 1):\n",
    "        loss_sum, n = 0.0, 0\n",
    "        model.train()\n",
    "        for t, (x, A, y) in enumerate(train_iter):\n",
    "            optimizer.zero_grad()\n",
    "            x = x.float()\n",
    "            A = A.float()\n",
    "            y_pred = model(x, A)\n",
    "            loss = loss_func(y_pred, y)\n",
    "            loss_sum += loss\n",
    "            loss.backward()\n",
    "            optimizer.step()\n",
    "            \n",
    "    test_acc = cal_accuracy(model, test_iter)\n",
    "    test_accuaries.append([test_acc[0], test_acc[2], test_acc[3], test_acc[4]])\n",
    "test_accuaries = np.array(test_accuaries)"
   ]
  },
  {
   "cell_type": "code",
   "execution_count": 72,
   "id": "610035d5-4a8c-41d3-81c1-b4aba096ec7c",
   "metadata": {},
   "outputs": [
    {
     "name": "stdout",
     "output_type": "stream",
     "text": [
      "Accuracy:  0.021997463678899414\n",
      "Precision:  0.011973671270074546\n",
      "Recall:  0.045849323809922876\n",
      "F1:  0.019968976401759778\n"
     ]
    }
   ],
   "source": [
    "print(\"Accuracy: \", test_accuaries[:, 0].std())\n",
    "print(\"Precision: \", test_accuaries[:, 1].std())\n",
    "print(\"Recall: \", test_accuaries[:, 2].std())\n",
    "print(\"F1: \", test_accuaries[:, 3].std())"
   ]
  },
  {
   "cell_type": "code",
   "execution_count": 74,
   "id": "cd99136f-19ef-47af-beea-dfc81715dc65",
   "metadata": {},
   "outputs": [
    {
     "name": "stdout",
     "output_type": "stream",
     "text": [
      "Accuracy:  0.8125\n",
      "Precision:  0.8356809979174452\n",
      "Recall:  0.8927777777777776\n",
      "F1:  0.8625228481752687\n"
     ]
    }
   ],
   "source": [
    "print(\"Accuracy: \", test_accuaries[:, 0].mean())\n",
    "print(\"Precision: \", test_accuaries[:, 1].mean())\n",
    "print(\"Recall: \", test_accuaries[:, 2].mean())\n",
    "print(\"F1: \", test_accuaries[:, 3].mean())"
   ]
  }
 ],
 "metadata": {
  "kernelspec": {
   "display_name": "Python 3 (ipykernel)",
   "language": "python",
   "name": "python3"
  },
  "language_info": {
   "codemirror_mode": {
    "name": "ipython",
    "version": 3
   },
   "file_extension": ".py",
   "mimetype": "text/x-python",
   "name": "python",
   "nbconvert_exporter": "python",
   "pygments_lexer": "ipython3",
   "version": "3.10.4"
  }
 },
 "nbformat": 4,
 "nbformat_minor": 5
}
