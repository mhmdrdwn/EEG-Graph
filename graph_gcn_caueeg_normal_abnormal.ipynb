{
 "cells": [
  {
   "cell_type": "code",
   "execution_count": 2,
   "id": "5dc45f56-9d05-497a-9f13-e1c3483d593a",
   "metadata": {},
   "outputs": [
    {
     "name": "stdout",
     "output_type": "stream",
     "text": [
      "abnormal-no-overlap.json annotation.xlsx          dementia.json\n",
      "abnormal.json            \u001b[34mconn_data\u001b[m\u001b[m                \u001b[34mevent\u001b[m\u001b[m\n",
      "annotation.json          dementia-no-overlap.json \u001b[34msignal\u001b[m\u001b[m\n"
     ]
    }
   ],
   "source": [
    "!ls ../caueeg/"
   ]
  },
  {
   "cell_type": "code",
   "execution_count": 3,
   "id": "cca5aa8a-bcf2-4093-925d-b260b21c45e8",
   "metadata": {},
   "outputs": [],
   "source": [
    "import json\n",
    "f = open('../caueeg/abnormal.json')\n",
    "data_files = json.load(f)\n",
    "f.close()"
   ]
  },
  {
   "cell_type": "code",
   "execution_count": 4,
   "id": "0a70d27a-16c0-47a6-a412-af6070528dea",
   "metadata": {},
   "outputs": [
    {
     "data": {
      "text/plain": [
       "{'serial': '01258',\n",
       " 'age': 77,\n",
       " 'symptom': ['dementia', 'vd', 'sivd'],\n",
       " 'class_name': 'Abnormal',\n",
       " 'class_label': 1}"
      ]
     },
     "execution_count": 4,
     "metadata": {},
     "output_type": "execute_result"
    }
   ],
   "source": [
    "data_files[\"train_split\"][0]"
   ]
  },
  {
   "cell_type": "code",
   "execution_count": 5,
   "id": "7d002a1e-5d1e-4058-a111-8a910a7099fa",
   "metadata": {},
   "outputs": [],
   "source": [
    "idx2label = {}\n",
    "for file_idx in data_files[\"train_split\"]:\n",
    "    idx2label[file_idx[\"serial\"]] = file_idx[\"class_label\"]\n",
    "for file_idx in data_files[\"test_split\"]:\n",
    "    idx2label[file_idx[\"serial\"]] = file_idx[\"class_label\"]\n",
    "for file_idx in data_files[\"validation_split\"]:\n",
    "    idx2label[file_idx[\"serial\"]] = file_idx[\"class_label\"]"
   ]
  },
  {
   "cell_type": "code",
   "execution_count": 6,
   "id": "4ac832cb-d3f7-4376-a2a8-70ccae71b1f9",
   "metadata": {},
   "outputs": [
    {
     "data": {
      "text/plain": [
       "1107"
      ]
     },
     "execution_count": 6,
     "metadata": {},
     "output_type": "execute_result"
    }
   ],
   "source": [
    "len(data_files[\"train_split\"])"
   ]
  },
  {
   "cell_type": "code",
   "execution_count": 7,
   "id": "8a096cad-8492-4a4d-9d06-18e988fbe02b",
   "metadata": {},
   "outputs": [
    {
     "data": {
      "text/plain": [
       "136"
      ]
     },
     "execution_count": 7,
     "metadata": {},
     "output_type": "execute_result"
    }
   ],
   "source": [
    "len(data_files[\"test_split\"])"
   ]
  },
  {
   "cell_type": "code",
   "execution_count": 8,
   "id": "90092c14-600d-41ff-af89-5ebb750afa11",
   "metadata": {},
   "outputs": [
    {
     "data": {
      "text/plain": [
       "136"
      ]
     },
     "execution_count": 8,
     "metadata": {},
     "output_type": "execute_result"
    }
   ],
   "source": [
    "len(data_files[\"validation_split\"])"
   ]
  },
  {
   "cell_type": "code",
   "execution_count": 9,
   "id": "3feaa573-0e62-45a1-b577-2ca55aa7e112",
   "metadata": {},
   "outputs": [
    {
     "name": "stdout",
     "output_type": "stream",
     "text": [
      "1379\n"
     ]
    }
   ],
   "source": [
    "import glob, os\n",
    "files = []\n",
    "for file in glob.glob(\"../caueeg/signal/edf/*.edf\"):\n",
    "    files.append(file)\n",
    "print(len(files))"
   ]
  },
  {
   "cell_type": "code",
   "execution_count": 10,
   "id": "12fab039-f33b-45f3-8669-f9e926d4c3bb",
   "metadata": {},
   "outputs": [
    {
     "name": "stdout",
     "output_type": "stream",
     "text": [
      "136\n",
      "1243\n"
     ]
    }
   ],
   "source": [
    "import glob, os\n",
    "test_data_files = []\n",
    "for file_name in data_files[\"test_split\"]:\n",
    "    test_data_files.append(\"../caueeg/signal/edf/\"+file_name[\"serial\"]+\".edf\")\n",
    "print(len(test_data_files))\n",
    "\n",
    "train_data_files = []\n",
    "for file_name in data_files[\"train_split\"]:\n",
    "    train_data_files.append(\"../caueeg/signal/edf/\"+file_name[\"serial\"]+\".edf\")\n",
    "for file_name in data_files[\"validation_split\"]:\n",
    "    train_data_files.append(\"../caueeg/signal/edf/\"+file_name[\"serial\"]+\".edf\")\n",
    "print(len(train_data_files))"
   ]
  },
  {
   "cell_type": "code",
   "execution_count": 11,
   "id": "e5dfbe3f-39e9-4c8e-8ca8-3145cf627c48",
   "metadata": {},
   "outputs": [
    {
     "name": "stderr",
     "output_type": "stream",
     "text": [
      "/Users/mohamedr/opt/anaconda3/envs/xai/lib/python3.10/site-packages/tqdm/auto.py:22: TqdmWarning: IProgress not found. Please update jupyter and ipywidgets. See https://ipywidgets.readthedocs.io/en/stable/user_install.html\n",
      "  from .autonotebook import tqdm as notebook_tqdm\n"
     ]
    }
   ],
   "source": [
    "import torch\n",
    "from torch import nn\n",
    "from torch.nn import functional as F\n",
    "from torch.nn.modules.module import Module\n",
    "from sklearn.preprocessing import OneHotEncoder"
   ]
  },
  {
   "cell_type": "code",
   "execution_count": 12,
   "id": "8c6817e2-4c6f-4dc4-902b-cebc373f0ee8",
   "metadata": {
    "tags": []
   },
   "outputs": [
    {
     "data": {
      "text/plain": [
       "(21, 183400)"
      ]
     },
     "execution_count": 12,
     "metadata": {},
     "output_type": "execute_result"
    }
   ],
   "source": [
    "import mne\n",
    "import numpy as np\n",
    "\n",
    "file = train_data_files[0]\n",
    "data = mne.io.read_raw(file, verbose=False, preload=True)\n",
    "\n",
    "data.filter(l_freq=0.5, h_freq=47, verbose=False)\n",
    "data = data.get_data()*1e6\n",
    "data.shape"
   ]
  },
  {
   "cell_type": "code",
   "execution_count": 13,
   "id": "f6335aaa-894e-47cd-9211-049856725c6d",
   "metadata": {},
   "outputs": [],
   "source": [
    "import mne\n",
    "from tqdm import tqdm\n",
    "from statsmodels.tsa.stattools import grangercausalitytests\n",
    "import random\n",
    "import numpy as np\n",
    "from scipy.signal import savgol_filter\n",
    "from scipy import signal\n",
    "import cv2\n",
    "from numpy import *\n",
    "from scipy.stats import iqr\n",
    "from scipy.integrate import simps\n",
    "from scipy.stats import entropy\n",
    "from scipy.signal import medfilt\n",
    "from scipy.stats import differential_entropy, norm\n",
    "from scipy import fftpack\n",
    "import antropy as ant\n",
    "\n",
    "def calcGrangerCausality(eegData,ii,jj):\n",
    "    X = np.vstack([eegData[ii,:],eegData[jj,:]]).T\n",
    "    gc = grangercausalitytests(X, 1, addconst=True, verbose=False)[1][0]['ssr_ftest'][0]\n",
    "    return gc\n",
    "\n",
    "    \n",
    "def get_label(file):\n",
    "    idx = file.split(\"/\")[-1][:-4]\n",
    "    label = idx2label[idx]\n",
    "    if label == 0:\n",
    "        return [0]\n",
    "    elif label == 1:\n",
    "        return [1]\n",
    "\n",
    "\n",
    "def lyapunov(x):\n",
    "    return np.mean(np.log(np.abs(np.gradient(x))))\n",
    "\n",
    "\n",
    "def build_data(raw_data, bands=False):\n",
    "    \n",
    "    eeg_data = []\n",
    "    labels = []\n",
    "    lengths = []\n",
    "    groups = []\n",
    "    i = 0\n",
    "    fs = 100\n",
    "    \n",
    "    data_features = []\n",
    "    data_labels = []\n",
    "    data_graphs = []\n",
    "    \n",
    "    for file in tqdm(raw_data):\n",
    "        \n",
    "        #get label\n",
    "        label = get_label(file)\n",
    "        data_labels.append(label)\n",
    "        \n",
    "        #node features\n",
    "        sample_features = []\n",
    "        data = mne.io.read_raw(file, verbose=False, preload=True)\n",
    "        ch_names = data.ch_names\n",
    "        #data.resample(sfreq=100)\n",
    "        data.filter(l_freq=0.5, h_freq=40, verbose=False)\n",
    "        #data = mne.make_fixed_length_epochs(data, duration=5, overlap=1, verbose=False)\n",
    "        data = data.get_data()*1e6\n",
    "          \n",
    "        #data = np.diff(data)    \n",
    "        #gc = []\n",
    "        #for i in range(21):\n",
    "        #    gc1 = []\n",
    "        #    for j in range(21):\n",
    "        #        gc1.append(calcGrangerCausality(data, i, j))\n",
    "        #    gc.append(gc1)\n",
    "        #data_graphs.append(gc)    \n",
    "        \n",
    "        \n",
    "        ch_features = []    \n",
    "        # freq domain features\n",
    "        sf = 256\n",
    "        win = 4 * sf # win size 4 seconds * sampling freq\n",
    "        # delta (0.5–4 Hz), theta (4–8 Hz), alpha (8–13 Hz), beta (13–30 Hz), and gamma (30–... Hz).\n",
    "        freq_ranges = [[0.5, 4], [4, 8], [8, 13], [13, 30], [30, 47]]\n",
    "        for ch in data:\n",
    "            \n",
    "            ch_features.append(differential_entropy(ch))\n",
    "        \n",
    "            ly = lyapunov(ch)\n",
    "            #ch_features.append(ly)\n",
    "        \n",
    "            entropy = ant.perm_entropy(ch, normalize=True)\n",
    "            ch_features.append(entropy)\n",
    "        \n",
    "            entropy = ant.spectral_entropy(ch, sf=100, method='welch', normalize=True)\n",
    "            ch_features.append(entropy)\n",
    "        \n",
    "            mobility = ant.hjorth_params(ch)\n",
    "            ch_features.append(mobility[0])\n",
    "            ch_features.append(mobility[1])\n",
    "        \n",
    "            zero_cross_count = ant.num_zerocross(ch)\n",
    "            ch_features.append(zero_cross_count)\n",
    "            \n",
    "            \n",
    "            if bands:\n",
    "                # freq domain features\n",
    "                for freq_band in freq_ranges:\n",
    "                \n",
    "                    # differential entropy\n",
    "                    sos = signal.butter(10, (freq_band[0], freq_band[1]), 'bandpass', fs=1000, output='sos')\n",
    "                    filtered_ch = signal.sosfilt(sos, ch) \n",
    "                    ch_features.append(differential_entropy(filtered_ch))\n",
    "\n",
    "                    # lyapunov features\n",
    "                    ch_features.append(lyapunov(filtered_ch))\n",
    "\n",
    "                    # Permutation entropy\n",
    "                    entropy = ant.perm_entropy(filtered_ch, normalize=True)\n",
    "                    ch_features.append(entropy)\n",
    "\n",
    "                    # Spectral entropy\n",
    "                    entropy = ant.spectral_entropy(filtered_ch, sf=100, method='welch', normalize=True)\n",
    "                    ch_features.append(entropy)\n",
    "\n",
    "                    # Hjorth mobility and complexity\n",
    "                    mobility = ant.hjorth_params(filtered_ch)\n",
    "                    ch_features.append(mobility[0])\n",
    "                    ch_features.append(mobility[1])\n",
    "\n",
    "                    corr = np.correlate(filtered_ch, filtered_ch)\n",
    "                    ch_features.append(corr[0])\n",
    "\n",
    "                    # Number of zero-crossings\n",
    "                    zero_cross_count = ant.num_zerocross(filtered_ch)\n",
    "                    ch_features.append(zero_cross_count)\n",
    "\n",
    "                    # power spectrum\n",
    "                    freqs, psd = signal.welch(ch, sf, nperseg=win)\n",
    "                    idx_freq_band = np.logical_and(freqs >= freq_band[0], freqs < freq_band[1])\n",
    "                    # Frequency resolution\n",
    "                    freq_res = freqs[1] - freqs[0]  # = 1 / 4 = 0.25\n",
    "                    # Compute the absolute power by approximating the area under the curve\n",
    "                    band_power = simps(psd[idx_freq_band], dx=freq_res)\n",
    "                    #power_band_.append(band_power)\n",
    "                    ch_features.append(band_power)\n",
    "                \n",
    "            \n",
    "            sample_features.append(ch_features)\n",
    "            ch_features = []\n",
    "            \n",
    "        data_features.append(sample_features)\n",
    "        \n",
    "    data_features = np.array(data_features)\n",
    "    data_labels = np.array(data_labels)\n",
    "    data_graphs = np.array(data_graphs)\n",
    "    \n",
    "    return data_features, data_graphs, data_labels"
   ]
  },
  {
   "cell_type": "code",
   "execution_count": 114,
   "id": "10f8e8ef-05de-4ada-96cd-2bb37b030463",
   "metadata": {
    "tags": []
   },
   "outputs": [
    {
     "name": "stderr",
     "output_type": "stream",
     "text": [
      "  0%|                                                              | 1/1243 [00:04<1:25:39,  4.14s/it]/var/folders/jh/bl76wbz94n3727gszxkh079h0000gr/T/ipykernel_12871/507178300.py:34: RuntimeWarning: divide by zero encountered in log\n",
      "  return np.mean(np.log(np.abs(np.gradient(x))))\n",
      "100%|███████████████████████████████████████████████████████████| 1243/1243 [2:27:08<00:00,  7.10s/it]\n",
      "100%|███████████████████████████████████████████████████████████████| 136/136 [08:05<00:00,  3.57s/it]\n"
     ]
    }
   ],
   "source": [
    "#%%capture\n",
    "np.random.seed(42)\n",
    "train_X, train_graphs, train_y = build_data(train_data_files, True)\n",
    "test_X, test_graphs, test_y = build_data(test_data_files, True)"
   ]
  },
  {
   "cell_type": "code",
   "execution_count": 15,
   "id": "aad832ad-4de0-48fd-8484-ac6746630ab1",
   "metadata": {},
   "outputs": [
    {
     "data": {
      "text/plain": [
       "((136, 21, 51),\n",
       " (1243, 21, 51),\n",
       " (1243, 21, 21),\n",
       " (136, 1),\n",
       " (1243, 1),\n",
       " (136, 21, 21))"
      ]
     },
     "execution_count": 15,
     "metadata": {},
     "output_type": "execute_result"
    }
   ],
   "source": [
    "test_X.shape, train_X.shape, train_graphs.shape, test_y.shape, train_y.shape, test_graphs.shape"
   ]
  },
  {
   "cell_type": "code",
   "execution_count": 116,
   "id": "eaa8a743-4694-42ca-8a4e-de23e1fa6cbc",
   "metadata": {},
   "outputs": [],
   "source": [
    "np.save(\"../caueeg_features/conn_data/gc/train_X.npy\", train_X)\n",
    "np.save(\"../caueeg_features/conn_data/gc/test_X.npy\", test_X)\n",
    "np.save(\"../caueeg_features/conn_data/gc/train_y.npy\", train_y)\n",
    "np.save(\"../caueeg_features/conn_data/gc/test_y.npy\", test_y)\n",
    "np.save(\"../caueeg_features/conn_data/gc/train_graphs.npy\", train_graphs)\n",
    "np.save(\"../caueeg_features/conn_data/gc/test_graphs.npy\", test_graphs)"
   ]
  },
  {
   "cell_type": "code",
   "execution_count": 14,
   "id": "c4c91a4b-24ce-4d18-ba56-4f8a00f195ed",
   "metadata": {},
   "outputs": [],
   "source": [
    "train_X = np.load(\"../caueeg_features/conn_data/gc/train_X.npy\")\n",
    "test_X = np.load(\"../caueeg_features/conn_data/gc/test_X.npy\")\n",
    "train_y = np.load(\"../caueeg_features/conn_data/gc/train_y.npy\")\n",
    "test_y = np.load(\"../caueeg_features/conn_data/gc/test_y.npy\")\n",
    "train_graphs = np.load(\"../caueeg_features/conn_data/gc/train_graphs.npy\")\n",
    "test_graphs = np.load(\"../caueeg_features/conn_data/gc/test_graphs.npy\")"
   ]
  },
  {
   "cell_type": "code",
   "execution_count": 17,
   "id": "2b3bdb9c-6579-4e21-83ff-601fabbe992d",
   "metadata": {},
   "outputs": [],
   "source": [
    "import torch\n",
    "import torch.nn as nn\n",
    "import torch.nn.functional as F\n",
    "from torch_geometric.nn import global_mean_pool\n",
    "\n",
    "def normalize_A(A, lmax=2):\n",
    "    A=F.relu(A)\n",
    "    N=A.shape[0]\n",
    "    A=A*(torch.ones(N,N)-torch.eye(N,N))\n",
    "    A=A+A.T\n",
    "    d = torch.sum(A, 1)\n",
    "    d = 1 / torch.sqrt((d + 1e-10))\n",
    "    D = torch.diag_embed(d)\n",
    "    L = torch.eye(N,N)-torch.matmul(torch.matmul(D, A), D)\n",
    "    Lnorm=(2*L/lmax)-torch.eye(N,N)\n",
    "    #Lnorm=Lnorm*-1\n",
    "    return Lnorm\n",
    "\n",
    "def normalize_all_A(A):\n",
    "    all_A = []\n",
    "    for adj in A:\n",
    "        all_A.append(normalize_A(adj).detach().numpy())\n",
    "    all_A = np.array(all_A)\n",
    "    all_A = torch.tensor(all_A)\n",
    "    return all_A\n",
    "\n",
    "\n",
    "class GCNConv(nn.Module):\n",
    "    def __init__(self, in_features, out_features):\n",
    "        super(GCNConv, self).__init__()\n",
    "        self.linear = nn.Linear(in_features, out_features, bias=False)\n",
    "\n",
    "    def forward(self, x: torch.Tensor, adjacency_hat: torch.sparse_coo_tensor):\n",
    "        x = self.linear(x)\n",
    "        x = torch.matmul(adjacency_hat, x)\n",
    "        return x\n",
    "\n",
    "\n",
    "class ChebNetConv(nn.Module):\n",
    "    def __init__(self, in_features, out_features, k):\n",
    "        super(ChebNetConv, self).__init__()\n",
    "\n",
    "        self.K = k\n",
    "        self.linear = nn.Linear(in_features * k, out_features)\n",
    "\n",
    "    def forward(self, x: torch.Tensor, laplacian: torch.sparse_coo_tensor):\n",
    "        x = self.__transform_to_chebyshev(x, laplacian)\n",
    "        x = self.linear(x)\n",
    "        return x\n",
    "\n",
    "    def __transform_to_chebyshev(self, x, laplacian):\n",
    "        cheb_x = x.unsqueeze(2)\n",
    "        x0 = x\n",
    "        if self.K > 1:\n",
    "            x1 = torch.matmul(laplacian, x0)\n",
    "            cheb_x = torch.cat((cheb_x, x1.unsqueeze(2)), 2)\n",
    "            for _ in range(2, self.K):\n",
    "                x2 = 2 * torch.matmul(laplacian, x1) - x0\n",
    "                cheb_x = torch.cat((cheb_x, x2.unsqueeze(2)), 2)\n",
    "                x0, x1 = x1, x2\n",
    "\n",
    "        #cheb_x = cheb_x.reshape([x.shape[0], -1])\n",
    "        return cheb_x\n",
    "\n",
    "\n",
    "class TwoLayerGCN(nn.Module):\n",
    "    def __init__(self, input_size, hidden_size, num_electrodes, out_channels, num_classes, dropout=0.1):\n",
    "        super(TwoLayerGCN, self).__init__()\n",
    "\n",
    "        self.conv1 = GCNConv(input_size, hidden_size)\n",
    "        self.conv2 = GCNConv(hidden_size, out_channels)\n",
    "        self.relu = nn.ReLU()\n",
    "        self.dropout = nn.Dropout(dropout)\n",
    "        self.fc = Linear(336, num_classes)\n",
    "        \n",
    "    def forward(self, x: torch.Tensor, adjacency_hat: torch.sparse_coo_tensor):\n",
    "        x = self.dropout(x)\n",
    "        x = self.conv1(x, adjacency_hat)\n",
    "        x = self.relu(x)\n",
    "        x = self.dropout(x)\n",
    "        x = self.conv2(x, adjacency_hat)\n",
    "        x = x.reshape(x.shape[0], -1)\n",
    "        x = self.fc(x)\n",
    "        return x\n",
    "\n",
    "\n",
    "class GCN(nn.Module):\n",
    "    def __init__(self, input_size, hidden_size, num_electrodes, out_channels, num_classes, num_hidden_layers=0, dropout=0.1, residual=False):\n",
    "        super(GCN, self).__init__()\n",
    "\n",
    "        self.dropout = dropout\n",
    "        self.residual = residual\n",
    "        \n",
    "        self.input_conv = GCNConv(input_size, hidden_size)\n",
    "        self.hidden_convs = nn.ModuleList([GCNConv(hidden_size, hidden_size) for _ in range(num_hidden_layers)])\n",
    "        self.output_conv = GCNConv(hidden_size, out_channels)\n",
    "        self.fc = Linear(168, num_classes)\n",
    "\n",
    "    def forward(self, x: torch.Tensor, adjacency_hat: torch.sparse_coo_tensor):\n",
    "        print(\"Laplacian: \", adjacency_hat.shape)\n",
    "        x = F.dropout(x, p=self.dropout, training=self.training)\n",
    "        print(\"after dropout: \", x.shape)\n",
    "        x = F.relu(self.input_conv(x, adjacency_hat))\n",
    "        print(\"after input conv: \", x.shape)\n",
    "        for conv in self.hidden_convs:\n",
    "            if self.residual:\n",
    "                x = F.relu(conv(x, adjacency_hat)) + x\n",
    "            else:\n",
    "                x = F.relu(conv(x, adjacency_hat))\n",
    "        print(\"after conv: \", x.shape)\n",
    "        x = F.dropout(x, p=self.dropout, training=self.training)\n",
    "        print(\"x: \", x.shape, \", adjacency_hat:, \", adjacency_hat.shape)\n",
    "        x = self.output_conv(x, adjacency_hat)\n",
    "        x = x.reshape(x.shape[0], -1)\n",
    "        x = self.fc(x)\n",
    "        return x\n",
    "\n",
    "\n",
    "class TwoLayerChebNet(nn.Module):\n",
    "    def __init__(self, input_size, hidden_size, num_electrodes, out_channels, num_classes, dropout=0.1, k=2):\n",
    "        super(TwoLayerChebNet, self).__init__()\n",
    "\n",
    "        self.conv1 = ChebNetConv(21*input_size, hidden_size, k)\n",
    "        self.conv2 = ChebNetConv(hidden_size, out_channels, k)\n",
    "        self.relu = nn.ReLU()\n",
    "        self.dropout = nn.Dropout(dropout)\n",
    "        self.fc = Linear(21, num_classes)\n",
    "\n",
    "    def forward(self, x: torch.Tensor, laplacian: torch.sparse_coo_tensor):\n",
    "        x = self.dropout(x)\n",
    "        x = self.conv1(x, laplacian)\n",
    "        x = self.relu(x)\n",
    "        x = self.dropout(x)\n",
    "        #x = self.conv2(x, laplacian)\n",
    "        x = x.reshape(x.shape[0], -1)\n",
    "        x = self.fc(x)\n",
    "        return x\n",
    "\n",
    "\n",
    "class ChebNetGCN(nn.Module):\n",
    "    def __init__(self, input_size, hidden_size, num_electrodes, out_channels, num_classes, num_hidden_layers=2, dropout=0.1, residual=False, k=1):\n",
    "        super(ChebNetGCN, self).__init__()\n",
    "\n",
    "        self.dropout = dropout\n",
    "        self.residual = residual\n",
    "\n",
    "        self.input_conv = ChebNetConv(input_size, hidden_size, k)\n",
    "        self.hidden_convs = nn.ModuleList([ChebNetConv(hidden_size, hidden_size, k) for _ in range(num_hidden_layers)])\n",
    "        self.output_conv = ChebNetConv(hidden_size, out_channels, k)\n",
    "        self.BN1 = nn.BatchNorm1d(out_channels)\n",
    "        self.fc = nn.Linear(out_channels, num_classes)\n",
    "        \n",
    "    def forward(self, x: torch.Tensor, laplacian: torch.sparse_coo_tensor):\n",
    "        laplacian = normalize_all_A(laplacian)\n",
    "        x = F.dropout(x, p=self.dropout, training=self.training)\n",
    "        #print(\"after dropout: \", x.shape)\n",
    "        x = F.relu(self.input_conv(x, laplacian))\n",
    "        #print(\"input conv: \", x.shape)\n",
    "        for conv in self.hidden_convs:\n",
    "            if self.residual:\n",
    "                x = F.relu(conv(x, laplacian)) + x\n",
    "            else:\n",
    "                x = F.relu(conv(x, laplacian))\n",
    "        #print(\"input conv: \", x.shape)\n",
    "        x = F.dropout(x, p=self.dropout, training=self.training)\n",
    "        #print(\"dropout: \", x.shape, \", laplacian: \",laplacian.shape)\n",
    "        x = self.output_conv(x, laplacian)\n",
    "        #print(\"output conv: \", x.shape)\n",
    "        #x = x.reshape(x.shape[0], -1)\n",
    "        x = x.squeeze()\n",
    "        batch =None\n",
    "        x = global_mean_pool(x, batch)\n",
    "        \n",
    "        #print(\"after reshape: \", x.shape)\n",
    "        x = self.BN1(x)\n",
    "        x = self.fc(x)\n",
    "        return x"
   ]
  },
  {
   "cell_type": "code",
   "execution_count": 18,
   "id": "00223d67-e49a-41c7-aecc-2056c63e8381",
   "metadata": {},
   "outputs": [],
   "source": [
    "import torch\n",
    "\n",
    "from sklearn.preprocessing import StandardScaler, RobustScaler\n",
    "from sklearn.base import TransformerMixin,BaseEstimator\n",
    "from sklearn.metrics import accuracy_score, confusion_matrix, f1_score, precision_score, recall_score\n",
    "import copy\n",
    "\n",
    "def data_loader(features, graphs, labels, device, batch_size, shuffle=True):\n",
    "    features, graphs, labels = torch.Tensor(features), torch.Tensor(graphs), torch.Tensor(labels)\n",
    "    data = torch.utils.data.TensorDataset(features, graphs, labels)\n",
    "    del features\n",
    "    del labels\n",
    "    data_iter = torch.utils.data.DataLoader(data, batch_size, shuffle=shuffle)\n",
    "    del data\n",
    "    return data_iter\n",
    "\n",
    "def standardize_data(train_X, test_X):\n",
    " \n",
    "    train_X_std = copy.deepcopy(train_X)\n",
    "    test_X_std = copy.deepcopy(test_X)\n",
    "    \n",
    "    #train_X_std = train_X_std + 0.00000001\n",
    "    #test_X_std = test_X_std + 0.00000001\n",
    "    \n",
    "    for i in tqdm(range(train_X.shape[1])):\n",
    "        for j in range(train_X.shape[2]):\n",
    "            min_ = np.min(train_X[:, i, j])\n",
    "            max_ = np.max(train_X[:, i, j]) #+ 0.0000000000001\n",
    "        \n",
    "            train_X_std[:, i, j] = (train_X[:, i, j] - min_)/(max_ - min_)\n",
    "            \n",
    "            #min_ = np.min(test_X[:, i, j])\n",
    "            #max_ = np.max(test_X[:, i, j]) + 0.00000000000001\n",
    "            \n",
    "            test_X_std[:, i, j] = (test_X[:, i, j] - min_)/(max_ - min_)\n",
    "\n",
    "    return train_X_std, test_X_std"
   ]
  },
  {
   "cell_type": "code",
   "execution_count": 19,
   "id": "3da6bdd7-5c99-4913-a1b7-d15f313250dc",
   "metadata": {},
   "outputs": [
    {
     "data": {
      "text/plain": [
       "((1243, 21, 51), (136, 21, 51))"
      ]
     },
     "execution_count": 19,
     "metadata": {},
     "output_type": "execute_result"
    }
   ],
   "source": [
    "train_X.shape, test_X.shape"
   ]
  },
  {
   "cell_type": "code",
   "execution_count": 20,
   "id": "b87a4257-61f2-49b2-93a8-d741aacaecfa",
   "metadata": {},
   "outputs": [
    {
     "data": {
      "text/plain": [
       "(40519220791.53532, 37411854744.01686, -9.280505535037554, -9.477938385332227)"
      ]
     },
     "execution_count": 20,
     "metadata": {},
     "output_type": "execute_result"
    }
   ],
   "source": [
    "train_X.max(), test_X.max(), train_X.min(), test_X.min()"
   ]
  },
  {
   "cell_type": "code",
   "execution_count": 21,
   "id": "c4042e9a-1656-4d2e-b2ca-0096e281d8d2",
   "metadata": {
    "tags": []
   },
   "outputs": [
    {
     "name": "stderr",
     "output_type": "stream",
     "text": [
      "100%|████████████████████████████████████████████████████████████████| 21/21 [00:00<00:00, 448.95it/s]\n"
     ]
    },
    {
     "data": {
      "text/plain": [
       "(1243, 21, 51)"
      ]
     },
     "execution_count": 21,
     "metadata": {},
     "output_type": "execute_result"
    }
   ],
   "source": [
    "train_X, test_X = standardize_data(train_X, test_X)\n",
    "\n",
    "train_X.shape"
   ]
  },
  {
   "cell_type": "code",
   "execution_count": 22,
   "id": "dc6ed5d3-8c86-477b-aef2-c6d5907de5f8",
   "metadata": {},
   "outputs": [],
   "source": [
    "import copy\n",
    "\n",
    "def uniform(train_graphs, test_graphs):\n",
    "    out_train = copy.deepcopy(train_graphs)\n",
    "    out_test = copy.deepcopy(test_graphs)\n",
    "\n",
    "    min_A = train_graphs.min()\n",
    "    max_A = train_graphs.max()\n",
    "    out_train = (train_graphs - min_A)/(max_A - min_A)\n",
    "    out_test = (test_graphs - min_A)/(max_A - min_A)\n",
    "\n",
    "    return out_train, out_test\n",
    "\n",
    "train_graphs, test_graphs = uniform(train_graphs, test_graphs)"
   ]
  },
  {
   "cell_type": "code",
   "execution_count": 23,
   "id": "354f63b3-efe4-4f80-8c39-8426421989ae",
   "metadata": {},
   "outputs": [
    {
     "data": {
      "text/plain": [
       "(1.0, 2.6309559118238353, 0.0, -0.8922954610990074)"
      ]
     },
     "execution_count": 23,
     "metadata": {},
     "output_type": "execute_result"
    }
   ],
   "source": [
    "train_X.max(), test_X.max(), train_X.min(), test_X.min()"
   ]
  },
  {
   "cell_type": "code",
   "execution_count": 24,
   "id": "71457e4c-766f-43d8-91a0-6e6914ee97af",
   "metadata": {},
   "outputs": [
    {
     "data": {
      "text/plain": [
       "(1.0, 0.0)"
      ]
     },
     "execution_count": 24,
     "metadata": {},
     "output_type": "execute_result"
    }
   ],
   "source": [
    "train_graphs.max(), train_graphs.min()"
   ]
  },
  {
   "cell_type": "code",
   "execution_count": 25,
   "id": "5059aa40-e660-4192-9c73-2bd5e6fd1b36",
   "metadata": {},
   "outputs": [
    {
     "data": {
      "text/plain": [
       "(0.6236863588225123, 5.215903758563474e-16)"
      ]
     },
     "execution_count": 25,
     "metadata": {},
     "output_type": "execute_result"
    }
   ],
   "source": [
    "test_graphs.max(), test_graphs.min()"
   ]
  },
  {
   "cell_type": "code",
   "execution_count": 26,
   "id": "3a13941e-9d20-4c8e-a3f0-2f3b65986985",
   "metadata": {},
   "outputs": [],
   "source": [
    "from sklearn.metrics import accuracy_score, confusion_matrix, f1_score, precision_score, recall_score, auc, roc_auc_score\n",
    "\n",
    "def evaluate_model(model, loss_func, data_iter):\n",
    "    model.eval()\n",
    "    loss_sum, n = 0, 0\n",
    "    with torch.no_grad():\n",
    "        for x, A, y in data_iter:\n",
    "            x = x.float()\n",
    "            A = A.float()\n",
    "            y_pred = model(x, A)\n",
    "            #y = y.long()\n",
    "            #y = y.float()\n",
    "            loss = loss_func(y_pred,y)\n",
    "            loss_sum += loss.item()\n",
    "            n += 1\n",
    "        return loss_sum / n\n",
    "    \n",
    "def cal_accuracy(model, data_iter):\n",
    "    ytrue = []\n",
    "    ypreds = []\n",
    "    y_score = []\n",
    "    model.eval()\n",
    "    with torch.no_grad():\n",
    "        for x, A, y in data_iter:\n",
    "            x = x.float()\n",
    "            A = A.float()\n",
    "            yhat = model(x, A)\n",
    "            \n",
    "            #yhat = [0 if i<0.5 else 1 for i in yhat]\n",
    "            #yhat = torch.exp(yhat)\n",
    "            yhat_labels = np.argmax(yhat, -1)\n",
    "            y_labels = np.argmax(y, -1)\n",
    "            \n",
    "            y_score.extend(np.max(F.softmax(yhat, dim=1).numpy(), -1))\n",
    "            ytrue.extend(list(y_labels.numpy()))\n",
    "            ypreds.extend([int(yhat_i) for yhat_i in yhat_labels])\n",
    "    \n",
    "    #fpr, tpr, thresholds = roc_curve(ytrue, y_score)\n",
    "    #auc_measure = auc(fpr, tpr)\n",
    "    return (accuracy_score(ytrue, ypreds), \n",
    "            confusion_matrix(ytrue, ypreds), \n",
    "            precision_score(ytrue, ypreds,  average='weighted'), \n",
    "            recall_score(ytrue, ypreds,  average='weighted'),\n",
    "            f1_score(ytrue, ypreds,  average='weighted'))"
   ]
  },
  {
   "cell_type": "markdown",
   "id": "560901a3-ac60-4c2d-b7d2-3057d46ea961",
   "metadata": {},
   "source": [
    "# GC"
   ]
  },
  {
   "cell_type": "code",
   "execution_count": 27,
   "id": "29a1db76-d4c9-48fd-a794-ecda8a3f7517",
   "metadata": {
    "tags": []
   },
   "outputs": [
    {
     "name": "stdout",
     "output_type": "stream",
     "text": [
      "Training Model....\n"
     ]
    },
    {
     "name": "stderr",
     "output_type": "stream",
     "text": [
      "  0%|                                                                        | 0/1000 [00:00<?, ?it/s]/Users/mohamedr/opt/anaconda3/envs/xai/lib/python3.10/site-packages/sklearn/metrics/_classification.py:1334: UndefinedMetricWarning: Precision is ill-defined and being set to 0.0 in labels with no predicted samples. Use `zero_division` parameter to control this behavior.\n",
      "  _warn_prf(average, modifier, msg_start, len(result))\n",
      "/Users/mohamedr/opt/anaconda3/envs/xai/lib/python3.10/site-packages/sklearn/metrics/_classification.py:1334: UndefinedMetricWarning: Precision is ill-defined and being set to 0.0 in labels with no predicted samples. Use `zero_division` parameter to control this behavior.\n",
      "  _warn_prf(average, modifier, msg_start, len(result))\n",
      "100%|█████████████████████████████████████████████████████████████| 1000/1000 [06:58<00:00,  2.39it/s]\n",
      "  0%|                                                                        | 0/1000 [00:00<?, ?it/s]/Users/mohamedr/opt/anaconda3/envs/xai/lib/python3.10/site-packages/sklearn/metrics/_classification.py:1334: UndefinedMetricWarning: Precision is ill-defined and being set to 0.0 in labels with no predicted samples. Use `zero_division` parameter to control this behavior.\n",
      "  _warn_prf(average, modifier, msg_start, len(result))\n",
      "/Users/mohamedr/opt/anaconda3/envs/xai/lib/python3.10/site-packages/sklearn/metrics/_classification.py:1334: UndefinedMetricWarning: Precision is ill-defined and being set to 0.0 in labels with no predicted samples. Use `zero_division` parameter to control this behavior.\n",
      "  _warn_prf(average, modifier, msg_start, len(result))\n",
      "  0%|                                                                | 1/1000 [00:00<06:36,  2.52it/s]/Users/mohamedr/opt/anaconda3/envs/xai/lib/python3.10/site-packages/sklearn/metrics/_classification.py:1334: UndefinedMetricWarning: Precision is ill-defined and being set to 0.0 in labels with no predicted samples. Use `zero_division` parameter to control this behavior.\n",
      "  _warn_prf(average, modifier, msg_start, len(result))\n",
      "/Users/mohamedr/opt/anaconda3/envs/xai/lib/python3.10/site-packages/sklearn/metrics/_classification.py:1334: UndefinedMetricWarning: Precision is ill-defined and being set to 0.0 in labels with no predicted samples. Use `zero_division` parameter to control this behavior.\n",
      "  _warn_prf(average, modifier, msg_start, len(result))\n",
      "  0%|▏                                                               | 2/1000 [00:00<06:26,  2.58it/s]/Users/mohamedr/opt/anaconda3/envs/xai/lib/python3.10/site-packages/sklearn/metrics/_classification.py:1334: UndefinedMetricWarning: Precision is ill-defined and being set to 0.0 in labels with no predicted samples. Use `zero_division` parameter to control this behavior.\n",
      "  _warn_prf(average, modifier, msg_start, len(result))\n",
      "/Users/mohamedr/opt/anaconda3/envs/xai/lib/python3.10/site-packages/sklearn/metrics/_classification.py:1334: UndefinedMetricWarning: Precision is ill-defined and being set to 0.0 in labels with no predicted samples. Use `zero_division` parameter to control this behavior.\n",
      "  _warn_prf(average, modifier, msg_start, len(result))\n",
      "  0%|▏                                                               | 3/1000 [00:01<06:25,  2.59it/s]/Users/mohamedr/opt/anaconda3/envs/xai/lib/python3.10/site-packages/sklearn/metrics/_classification.py:1334: UndefinedMetricWarning: Precision is ill-defined and being set to 0.0 in labels with no predicted samples. Use `zero_division` parameter to control this behavior.\n",
      "  _warn_prf(average, modifier, msg_start, len(result))\n",
      "/Users/mohamedr/opt/anaconda3/envs/xai/lib/python3.10/site-packages/sklearn/metrics/_classification.py:1334: UndefinedMetricWarning: Precision is ill-defined and being set to 0.0 in labels with no predicted samples. Use `zero_division` parameter to control this behavior.\n",
      "  _warn_prf(average, modifier, msg_start, len(result))\n",
      "  0%|▎                                                               | 4/1000 [00:01<06:29,  2.56it/s]/Users/mohamedr/opt/anaconda3/envs/xai/lib/python3.10/site-packages/sklearn/metrics/_classification.py:1334: UndefinedMetricWarning: Precision is ill-defined and being set to 0.0 in labels with no predicted samples. Use `zero_division` parameter to control this behavior.\n",
      "  _warn_prf(average, modifier, msg_start, len(result))\n",
      "/Users/mohamedr/opt/anaconda3/envs/xai/lib/python3.10/site-packages/sklearn/metrics/_classification.py:1334: UndefinedMetricWarning: Precision is ill-defined and being set to 0.0 in labels with no predicted samples. Use `zero_division` parameter to control this behavior.\n",
      "  _warn_prf(average, modifier, msg_start, len(result))\n",
      "  0%|▎                                                               | 5/1000 [00:01<06:26,  2.57it/s]/Users/mohamedr/opt/anaconda3/envs/xai/lib/python3.10/site-packages/sklearn/metrics/_classification.py:1334: UndefinedMetricWarning: Precision is ill-defined and being set to 0.0 in labels with no predicted samples. Use `zero_division` parameter to control this behavior.\n",
      "  _warn_prf(average, modifier, msg_start, len(result))\n",
      "100%|█████████████████████████████████████████████████████████████| 1000/1000 [06:28<00:00,  2.58it/s]\n",
      "  0%|                                                                        | 0/1000 [00:00<?, ?it/s]/Users/mohamedr/opt/anaconda3/envs/xai/lib/python3.10/site-packages/sklearn/metrics/_classification.py:1334: UndefinedMetricWarning: Precision is ill-defined and being set to 0.0 in labels with no predicted samples. Use `zero_division` parameter to control this behavior.\n",
      "  _warn_prf(average, modifier, msg_start, len(result))\n",
      "/Users/mohamedr/opt/anaconda3/envs/xai/lib/python3.10/site-packages/sklearn/metrics/_classification.py:1334: UndefinedMetricWarning: Precision is ill-defined and being set to 0.0 in labels with no predicted samples. Use `zero_division` parameter to control this behavior.\n",
      "  _warn_prf(average, modifier, msg_start, len(result))\n",
      "  0%|                                                                | 1/1000 [00:00<06:38,  2.51it/s]/Users/mohamedr/opt/anaconda3/envs/xai/lib/python3.10/site-packages/sklearn/metrics/_classification.py:1334: UndefinedMetricWarning: Precision is ill-defined and being set to 0.0 in labels with no predicted samples. Use `zero_division` parameter to control this behavior.\n",
      "  _warn_prf(average, modifier, msg_start, len(result))\n",
      "100%|█████████████████████████████████████████████████████████████| 1000/1000 [06:23<00:00,  2.60it/s]\n",
      "  0%|                                                                        | 0/1000 [00:00<?, ?it/s]/Users/mohamedr/opt/anaconda3/envs/xai/lib/python3.10/site-packages/sklearn/metrics/_classification.py:1334: UndefinedMetricWarning: Precision is ill-defined and being set to 0.0 in labels with no predicted samples. Use `zero_division` parameter to control this behavior.\n",
      "  _warn_prf(average, modifier, msg_start, len(result))\n",
      "/Users/mohamedr/opt/anaconda3/envs/xai/lib/python3.10/site-packages/sklearn/metrics/_classification.py:1334: UndefinedMetricWarning: Precision is ill-defined and being set to 0.0 in labels with no predicted samples. Use `zero_division` parameter to control this behavior.\n",
      "  _warn_prf(average, modifier, msg_start, len(result))\n",
      "  0%|                                                                | 1/1000 [00:00<06:25,  2.59it/s]/Users/mohamedr/opt/anaconda3/envs/xai/lib/python3.10/site-packages/sklearn/metrics/_classification.py:1334: UndefinedMetricWarning: Precision is ill-defined and being set to 0.0 in labels with no predicted samples. Use `zero_division` parameter to control this behavior.\n",
      "  _warn_prf(average, modifier, msg_start, len(result))\n",
      "/Users/mohamedr/opt/anaconda3/envs/xai/lib/python3.10/site-packages/sklearn/metrics/_classification.py:1334: UndefinedMetricWarning: Precision is ill-defined and being set to 0.0 in labels with no predicted samples. Use `zero_division` parameter to control this behavior.\n",
      "  _warn_prf(average, modifier, msg_start, len(result))\n",
      "  0%|▏                                                               | 2/1000 [00:00<06:20,  2.62it/s]/Users/mohamedr/opt/anaconda3/envs/xai/lib/python3.10/site-packages/sklearn/metrics/_classification.py:1334: UndefinedMetricWarning: Precision is ill-defined and being set to 0.0 in labels with no predicted samples. Use `zero_division` parameter to control this behavior.\n",
      "  _warn_prf(average, modifier, msg_start, len(result))\n",
      "/Users/mohamedr/opt/anaconda3/envs/xai/lib/python3.10/site-packages/sklearn/metrics/_classification.py:1334: UndefinedMetricWarning: Precision is ill-defined and being set to 0.0 in labels with no predicted samples. Use `zero_division` parameter to control this behavior.\n",
      "  _warn_prf(average, modifier, msg_start, len(result))\n",
      "  0%|▏                                                               | 3/1000 [00:01<06:22,  2.61it/s]/Users/mohamedr/opt/anaconda3/envs/xai/lib/python3.10/site-packages/sklearn/metrics/_classification.py:1334: UndefinedMetricWarning: Precision is ill-defined and being set to 0.0 in labels with no predicted samples. Use `zero_division` parameter to control this behavior.\n",
      "  _warn_prf(average, modifier, msg_start, len(result))\n",
      "/Users/mohamedr/opt/anaconda3/envs/xai/lib/python3.10/site-packages/sklearn/metrics/_classification.py:1334: UndefinedMetricWarning: Precision is ill-defined and being set to 0.0 in labels with no predicted samples. Use `zero_division` parameter to control this behavior.\n",
      "  _warn_prf(average, modifier, msg_start, len(result))\n",
      "  0%|▎                                                               | 4/1000 [00:01<06:36,  2.51it/s]/Users/mohamedr/opt/anaconda3/envs/xai/lib/python3.10/site-packages/sklearn/metrics/_classification.py:1334: UndefinedMetricWarning: Precision is ill-defined and being set to 0.0 in labels with no predicted samples. Use `zero_division` parameter to control this behavior.\n",
      "  _warn_prf(average, modifier, msg_start, len(result))\n",
      "/Users/mohamedr/opt/anaconda3/envs/xai/lib/python3.10/site-packages/sklearn/metrics/_classification.py:1334: UndefinedMetricWarning: Precision is ill-defined and being set to 0.0 in labels with no predicted samples. Use `zero_division` parameter to control this behavior.\n",
      "  _warn_prf(average, modifier, msg_start, len(result))\n",
      "  0%|▎                                                               | 5/1000 [00:01<06:30,  2.55it/s]/Users/mohamedr/opt/anaconda3/envs/xai/lib/python3.10/site-packages/sklearn/metrics/_classification.py:1334: UndefinedMetricWarning: Precision is ill-defined and being set to 0.0 in labels with no predicted samples. Use `zero_division` parameter to control this behavior.\n",
      "  _warn_prf(average, modifier, msg_start, len(result))\n",
      "/Users/mohamedr/opt/anaconda3/envs/xai/lib/python3.10/site-packages/sklearn/metrics/_classification.py:1334: UndefinedMetricWarning: Precision is ill-defined and being set to 0.0 in labels with no predicted samples. Use `zero_division` parameter to control this behavior.\n",
      "  _warn_prf(average, modifier, msg_start, len(result))\n",
      "  1%|▍                                                               | 6/1000 [00:02<06:25,  2.58it/s]/Users/mohamedr/opt/anaconda3/envs/xai/lib/python3.10/site-packages/sklearn/metrics/_classification.py:1334: UndefinedMetricWarning: Precision is ill-defined and being set to 0.0 in labels with no predicted samples. Use `zero_division` parameter to control this behavior.\n",
      "  _warn_prf(average, modifier, msg_start, len(result))\n",
      "/Users/mohamedr/opt/anaconda3/envs/xai/lib/python3.10/site-packages/sklearn/metrics/_classification.py:1334: UndefinedMetricWarning: Precision is ill-defined and being set to 0.0 in labels with no predicted samples. Use `zero_division` parameter to control this behavior.\n",
      "  _warn_prf(average, modifier, msg_start, len(result))\n",
      "100%|█████████████████████████████████████████████████████████████| 1000/1000 [06:30<00:00,  2.56it/s]\n",
      "  0%|                                                                        | 0/1000 [00:00<?, ?it/s]/Users/mohamedr/opt/anaconda3/envs/xai/lib/python3.10/site-packages/sklearn/metrics/_classification.py:1334: UndefinedMetricWarning: Precision is ill-defined and being set to 0.0 in labels with no predicted samples. Use `zero_division` parameter to control this behavior.\n",
      "  _warn_prf(average, modifier, msg_start, len(result))\n",
      "/Users/mohamedr/opt/anaconda3/envs/xai/lib/python3.10/site-packages/sklearn/metrics/_classification.py:1334: UndefinedMetricWarning: Precision is ill-defined and being set to 0.0 in labels with no predicted samples. Use `zero_division` parameter to control this behavior.\n",
      "  _warn_prf(average, modifier, msg_start, len(result))\n",
      "100%|█████████████████████████████████████████████████████████████| 1000/1000 [06:24<00:00,  2.60it/s]\n"
     ]
    }
   ],
   "source": [
    "#%%capture\n",
    "from tqdm import tqdm\n",
    "import torch.nn as nn\n",
    "from sklearn.model_selection import KFold\n",
    "from sklearn.preprocessing import OneHotEncoder\n",
    "import torch\n",
    "\n",
    "\n",
    "NUM_EPOCHS = 1000\n",
    "NUM_CHANNELS = 21\n",
    "NUM_CLASSES = 2\n",
    "NUM_NODE_FEATURES = 51\n",
    "BATCH_SIZE = 128\n",
    "DEVICE = torch.device(\"cpu\")\n",
    "\n",
    "loss_func = nn.BCEWithLogitsLoss()\n",
    "\n",
    "all_train_losses = []\n",
    "all_val_losses = []\n",
    "all_train_f1 = []\n",
    "all_val_f1 = []\n",
    "\n",
    "skf = KFold(n_splits=5, shuffle=True)\n",
    "skf.get_n_splits(train_X, train_y)\n",
    "\n",
    "print(\"Training Model....\")\n",
    "for i, (train_index, val_index) in enumerate(skf.split(train_X, train_y)):\n",
    "    \n",
    "    model = ChebNetGCN(NUM_NODE_FEATURES, 32, NUM_CHANNELS, 32, NUM_CLASSES)\n",
    "\n",
    "    optimizer = torch.optim.Adam(model.parameters(), lr=1e-4)\n",
    "\n",
    "    train_X_subset = train_X[train_index]\n",
    "    train_y_subset = train_y[train_index]\n",
    "    train_graphs_subset = train_graphs[train_index]\n",
    "    val_X = train_X[val_index]\n",
    "    val_y = train_y[val_index]\n",
    "    val_graphs_subset = train_graphs[val_index]\n",
    "\n",
    "    encoder = OneHotEncoder()\n",
    "    train_y_subset = encoder.fit_transform(train_y_subset).toarray()\n",
    "    val_y = encoder.transform(val_y).toarray()\n",
    "\n",
    "    batch_size = 128\n",
    "    train_iter = data_loader(train_X_subset ,train_graphs_subset, train_y_subset, DEVICE, BATCH_SIZE, shuffle=True)\n",
    "    val_iter = data_loader(val_X, val_graphs_subset, val_y, DEVICE, BATCH_SIZE, shuffle=False)\n",
    "\n",
    "    kfold_train_loss = []\n",
    "    kfold_val_loss = []\n",
    "    kfold_train_f1 = []\n",
    "    kfold_val_f1 = []\n",
    "    for epoch in tqdm(range(1, NUM_EPOCHS + 1)):\n",
    "        loss_sum, n = 0.0, 0\n",
    "        model.train()\n",
    "        for t, (x, A, y) in enumerate(train_iter):\n",
    "            optimizer.zero_grad()\n",
    "            x = x.float()\n",
    "            A = A.float()\n",
    "            y_pred = model(x, A)\n",
    "            loss = loss_func(y_pred, y)\n",
    "            loss_sum += loss#.item()\n",
    "            loss.backward()\n",
    "            optimizer.step()\n",
    "\n",
    "        train_loss = evaluate_model(model, loss_func, train_iter)\n",
    "        val_loss = evaluate_model(model, loss_func, val_iter)\n",
    "        train_f1 = cal_accuracy(model, train_iter)[-1]\n",
    "        val_f1 = cal_accuracy(model, val_iter)[-1]\n",
    "        kfold_train_loss.append(train_loss)\n",
    "        kfold_val_loss.append(val_loss)\n",
    "        kfold_train_f1.append(train_f1)\n",
    "        kfold_val_f1.append(val_f1)\n",
    "\n",
    "    all_train_losses.append(kfold_train_loss)\n",
    "    all_val_losses.append(kfold_val_loss)\n",
    "    all_train_f1.append(kfold_train_f1)\n",
    "    all_val_f1.append(kfold_val_f1)"
   ]
  },
  {
   "cell_type": "code",
   "execution_count": 28,
   "id": "d460eac4-9db6-495f-961a-02133296de3c",
   "metadata": {
    "tags": []
   },
   "outputs": [
    {
     "name": "stderr",
     "output_type": "stream",
     "text": [
      "No artists with labels found to put in legend.  Note that artists whose label start with an underscore are ignored when legend() is called with no argument.\n"
     ]
    },
    {
     "data": {
      "image/png": "[encoded data removed]",
      "text/plain": [
       "<Figure size 640x480 with 1 Axes>"
      ]
     },
     "metadata": {},
     "output_type": "display_data"
    }
   ],
   "source": [
    "import matplotlib.pyplot as plt\n",
    "\n",
    "all_val_losses = np.moveaxis(np.array(all_val_losses), 0, 1)\n",
    "all_train_losses = np.moveaxis(np.array(all_train_losses), 0, 1)\n",
    "plt.plot(all_train_losses, color='blue')\n",
    "plt.plot(all_val_losses, color='orange')\n",
    "plt.xlabel(\"Epochs\")\n",
    "plt.xticks(range(0, 1000, 100), range(1, 1001, 100))\n",
    "plt.ylabel(\"BCE loss\")\n",
    "plt.legend(loc=\"upper right\")\n",
    "plt.show()"
   ]
  },
  {
   "cell_type": "code",
   "execution_count": 29,
   "id": "b8c7b2fa-e3c9-4e92-800d-78ff896cc7f0",
   "metadata": {},
   "outputs": [
    {
     "name": "stderr",
     "output_type": "stream",
     "text": [
      "No artists with labels found to put in legend.  Note that artists whose label start with an underscore are ignored when legend() is called with no argument.\n"
     ]
    },
    {
     "data": {
      "image/png": "[encoded data removed]",
      "text/plain": [
       "<Figure size 640x480 with 1 Axes>"
      ]
     },
     "metadata": {},
     "output_type": "display_data"
    }
   ],
   "source": [
    "all_val_f1 = np.moveaxis(np.array(all_val_f1), 0, 1)\n",
    "all_train_f1 = np.moveaxis(np.array(all_train_f1), 0, 1)\n",
    "plt.plot(all_train_f1, color='blue')\n",
    "plt.plot(all_val_f1, color='orange')\n",
    "plt.xlabel(\"Epochs\")\n",
    "plt.xticks(range(0, 1000, 100), range(1, 1001, 100))\n",
    "plt.ylabel(\"F1\")\n",
    "plt.legend(loc=\"upper right\")\n",
    "plt.show()"
   ]
  },
  {
   "cell_type": "code",
   "execution_count": 31,
   "id": "02b3953b-1730-4eb8-a275-4062b8e51090",
   "metadata": {
    "tags": []
   },
   "outputs": [
    {
     "name": "stdout",
     "output_type": "stream",
     "text": [
      "Training Model....\n"
     ]
    },
    {
     "name": "stderr",
     "output_type": "stream",
     "text": [
      "100%|█████████████████████████████████████████████████████████████████| 90/90 [00:14<00:00,  6.21it/s]\n"
     ]
    }
   ],
   "source": [
    "#%%capture\n",
    "from tqdm import tqdm\n",
    "from tqdm import tqdm\n",
    "import torch.nn as nn\n",
    "from sklearn.model_selection import KFold\n",
    "from sklearn.preprocessing import OneHotEncoder\n",
    "import torch\n",
    "\n",
    "print(\"Training Model....\")\n",
    "NUM_EPOCHS = 90\n",
    "NUM_CHANNELS = 21\n",
    "NUM_CLASSES = 2\n",
    "NUM_NODE_FEATURES = 51\n",
    "BATCH_SIZE = 128\n",
    "DEVICE = torch.device(\"cpu\")\n",
    "\n",
    "model = ChebNetGCN(NUM_NODE_FEATURES, 32, NUM_CHANNELS, 32, NUM_CLASSES)\n",
    "loss_func = nn.BCEWithLogitsLoss()\n",
    "optimizer = torch.optim.Adam(model.parameters(), lr=1e-4)\n",
    "encoder = OneHotEncoder()\n",
    "train_y_ohe = encoder.fit_transform(train_y).toarray()\n",
    "test_y_ohe = encoder.fit_transform(test_y).toarray()\n",
    "    \n",
    "train_iter = data_loader(train_X , train_graphs, train_y_ohe, DEVICE, BATCH_SIZE, shuffle=True)\n",
    "test_iter = data_loader(test_X , test_graphs, test_y_ohe, DEVICE, BATCH_SIZE, shuffle=False)\n",
    "  \n",
    "for epoch in tqdm(range(1, NUM_EPOCHS + 1)):\n",
    "    loss_sum, n = 0.0, 0\n",
    "    model.train()\n",
    "    for t, (x, A, y) in enumerate(train_iter):\n",
    "        optimizer.zero_grad()\n",
    "        x = x.float()\n",
    "        A = A.float()\n",
    "        y_pred = model(x, A)\n",
    "        loss = loss_func(y_pred, y)\n",
    "        loss_sum += loss#.item()\n",
    "        loss.backward()\n",
    "        optimizer.step()"
   ]
  },
  {
   "cell_type": "code",
   "execution_count": 32,
   "id": "c8e326ee-036f-45ec-80fa-2843b97f007e",
   "metadata": {
    "tags": []
   },
   "outputs": [
    {
     "name": "stdout",
     "output_type": "stream",
     "text": [
      "Accuracy:  0.8125502815768303\n",
      "Precision:  0.8187558725519444\n",
      "Recall:  0.8125502815768303\n",
      "F1:  0.798653466062781\n",
      "Confusion Matrix:  [[218 195]\n",
      " [ 38 792]]\n"
     ]
    }
   ],
   "source": [
    "train_acc = cal_accuracy(model, train_iter)\n",
    "print(\"Accuracy: \", train_acc[0])\n",
    "print(\"Precision: \", train_acc[2])\n",
    "print(\"Recall: \", train_acc[3])\n",
    "print(\"F1: \", train_acc[4])\n",
    "print(\"Confusion Matrix: \", train_acc[1])"
   ]
  },
  {
   "cell_type": "code",
   "execution_count": 33,
   "id": "66a63193-f64a-4729-8048-577bcb1489ff",
   "metadata": {
    "tags": []
   },
   "outputs": [
    {
     "name": "stdout",
     "output_type": "stream",
     "text": [
      "Accuracy:  0.8308823529411765\n",
      "Precision:  0.8331040271360088\n",
      "Recall:  0.8308823529411765\n",
      "F1:  0.8226632818799455\n",
      "Confusion Matrix:  [[28 18]\n",
      " [ 5 85]]\n"
     ]
    }
   ],
   "source": [
    "test_acc = cal_accuracy(model, test_iter)\n",
    "print(\"Accuracy: \", test_acc[0])\n",
    "print(\"Precision: \", test_acc[2])\n",
    "print(\"Recall: \", test_acc[3])\n",
    "print(\"F1: \", test_acc[4])\n",
    "print(\"Confusion Matrix: \", test_acc[1])"
   ]
  }
 ],
 "metadata": {
  "kernelspec": {
   "display_name": "Python 3 (ipykernel)",
   "language": "python",
   "name": "python3"
  },
  "language_info": {
   "codemirror_mode": {
    "name": "ipython",
    "version": 3
   },
   "file_extension": ".py",
   "mimetype": "text/x-python",
   "name": "python",
   "nbconvert_exporter": "python",
   "pygments_lexer": "ipython3",
   "version": "3.10.4"
  }
 },
 "nbformat": 4,
 "nbformat_minor": 5
}
